{
 "cells": [
  {
   "cell_type": "code",
   "execution_count": 3,
   "metadata": {},
   "outputs": [],
   "source": [
    "import pandas as pd\n",
    "import numpy as np\n",
    "import matplotlib.pyplot as plt"
   ]
  },
  {
   "cell_type": "code",
   "execution_count": 4,
   "metadata": {},
   "outputs": [
    {
     "data": {
      "text/html": [
       "<div>\n",
       "<style scoped>\n",
       "    .dataframe tbody tr th:only-of-type {\n",
       "        vertical-align: middle;\n",
       "    }\n",
       "\n",
       "    .dataframe tbody tr th {\n",
       "        vertical-align: top;\n",
       "    }\n",
       "\n",
       "    .dataframe thead th {\n",
       "        text-align: right;\n",
       "    }\n",
       "</style>\n",
       "<table border=\"1\" class=\"dataframe\">\n",
       "  <thead>\n",
       "    <tr style=\"text-align: right;\">\n",
       "      <th></th>\n",
       "      <th>0</th>\n",
       "      <th>1</th>\n",
       "      <th>2</th>\n",
       "      <th>3</th>\n",
       "      <th>4</th>\n",
       "    </tr>\n",
       "  </thead>\n",
       "  <tbody>\n",
       "    <tr>\n",
       "      <th>0</th>\n",
       "      <td>chr1</td>\n",
       "      <td>15864</td>\n",
       "      <td>15866</td>\n",
       "      <td>-</td>\n",
       "      <td>cg13869341</td>\n",
       "    </tr>\n",
       "    <tr>\n",
       "      <th>1</th>\n",
       "      <td>chr1</td>\n",
       "      <td>18826</td>\n",
       "      <td>18828</td>\n",
       "      <td>-</td>\n",
       "      <td>cg14008030</td>\n",
       "    </tr>\n",
       "    <tr>\n",
       "      <th>2</th>\n",
       "      <td>chr1</td>\n",
       "      <td>29406</td>\n",
       "      <td>29408</td>\n",
       "      <td>-</td>\n",
       "      <td>cg12045430</td>\n",
       "    </tr>\n",
       "    <tr>\n",
       "      <th>3</th>\n",
       "      <td>chr1</td>\n",
       "      <td>29424</td>\n",
       "      <td>29426</td>\n",
       "      <td>-</td>\n",
       "      <td>cg20826792</td>\n",
       "    </tr>\n",
       "    <tr>\n",
       "      <th>4</th>\n",
       "      <td>chr1</td>\n",
       "      <td>29434</td>\n",
       "      <td>29436</td>\n",
       "      <td>-</td>\n",
       "      <td>cg00381604</td>\n",
       "    </tr>\n",
       "    <tr>\n",
       "      <th>...</th>\n",
       "      <td>...</td>\n",
       "      <td>...</td>\n",
       "      <td>...</td>\n",
       "      <td>...</td>\n",
       "      <td>...</td>\n",
       "    </tr>\n",
       "    <tr>\n",
       "      <th>485572</th>\n",
       "      <td>chrM</td>\n",
       "      <td>6761</td>\n",
       "      <td>6763</td>\n",
       "      <td>-</td>\n",
       "      <td>cg05001044</td>\n",
       "    </tr>\n",
       "    <tr>\n",
       "      <th>485573</th>\n",
       "      <td>chrM</td>\n",
       "      <td>6797</td>\n",
       "      <td>6799</td>\n",
       "      <td>+</td>\n",
       "      <td>cg03344490</td>\n",
       "    </tr>\n",
       "    <tr>\n",
       "      <th>485574</th>\n",
       "      <td>chrM</td>\n",
       "      <td>7196</td>\n",
       "      <td>7198</td>\n",
       "      <td>-</td>\n",
       "      <td>cg18024856</td>\n",
       "    </tr>\n",
       "    <tr>\n",
       "      <th>485575</th>\n",
       "      <td>chrM</td>\n",
       "      <td>9054</td>\n",
       "      <td>9056</td>\n",
       "      <td>+</td>\n",
       "      <td>cg03348902</td>\n",
       "    </tr>\n",
       "    <tr>\n",
       "      <th>485576</th>\n",
       "      <td>chrM</td>\n",
       "      <td>9138</td>\n",
       "      <td>9140</td>\n",
       "      <td>+</td>\n",
       "      <td>cg01070250</td>\n",
       "    </tr>\n",
       "  </tbody>\n",
       "</table>\n",
       "<p>485577 rows × 5 columns</p>\n",
       "</div>"
      ],
      "text/plain": [
       "           0      1      2  3           4\n",
       "0       chr1  15864  15866  -  cg13869341\n",
       "1       chr1  18826  18828  -  cg14008030\n",
       "2       chr1  29406  29408  -  cg12045430\n",
       "3       chr1  29424  29426  -  cg20826792\n",
       "4       chr1  29434  29436  -  cg00381604\n",
       "...      ...    ...    ... ..         ...\n",
       "485572  chrM   6761   6763  -  cg05001044\n",
       "485573  chrM   6797   6799  +  cg03344490\n",
       "485574  chrM   7196   7198  -  cg18024856\n",
       "485575  chrM   9054   9056  +  cg03348902\n",
       "485576  chrM   9138   9140  +  cg01070250\n",
       "\n",
       "[485577 rows x 5 columns]"
      ]
     },
     "execution_count": 4,
     "metadata": {},
     "output_type": "execute_result"
    }
   ],
   "source": [
    "hm450_hg19=pd.read_csv('../data/hm450.hg19.manifest.bed', sep='\\t', header=None)\n",
    "hm450_hg19"
   ]
  },
  {
   "cell_type": "code",
   "execution_count": 5,
   "metadata": {},
   "outputs": [
    {
     "data": {
      "text/plain": [
       "3156"
      ]
     },
     "execution_count": 5,
     "metadata": {},
     "output_type": "execute_result"
    }
   ],
   "source": [
    "(hm450_hg19[2] - hm450_hg19[1] == 1).values.sum()"
   ]
  },
  {
   "cell_type": "code",
   "execution_count": 6,
   "metadata": {},
   "outputs": [],
   "source": [
    "marker_to_chr_pos_tuple = dict(zip(hm450_hg19[4], zip(hm450_hg19[0], hm450_hg19[2] - 1)))"
   ]
  },
  {
   "cell_type": "code",
   "execution_count": 7,
   "metadata": {},
   "outputs": [],
   "source": [
    "horvath_coef = pd.read_csv(\"../data/gb-2013-14-10-r115-S3.csv\")\n",
    "markers = horvath_coef[\"CpGmarker\"]\n",
    "coefs = horvath_coef[\"CoefficientTraining\"]"
   ]
  },
  {
   "cell_type": "code",
   "execution_count": 8,
   "metadata": {},
   "outputs": [],
   "source": [
    "horvath_chrs = markers.apply(marker_to_chr_pos_tuple.get)"
   ]
  },
  {
   "cell_type": "code",
   "execution_count": 9,
   "metadata": {},
   "outputs": [],
   "source": [
    "data = pd.read_csv(\"../data/zeroes_imputed_cytosines.tsv\", sep='\\t')"
   ]
  },
  {
   "cell_type": "code",
   "execution_count": 10,
   "metadata": {},
   "outputs": [],
   "source": [
    "chromosome, position = np.transpose([name.split(\".\") for name in data.values[:, 0]])\n",
    "position = position.astype(int)\n",
    "\n",
    "def compare_chr(chr1, p1, chr2, p2):\n",
    "    return chr1 < chr2 or (chr1 == chr2 and p1 < p2)\n",
    "\n",
    "def binary_search(c, p):\n",
    "    left = 0\n",
    "    right = len(chromosome)\n",
    "    while right - left > 1:\n",
    "        mid = (right + left) // 2\n",
    "        if compare_chr(c, p, chromosome[mid], position[mid]):\n",
    "            right = mid\n",
    "        else:\n",
    "            left = mid\n",
    "    return left"
   ]
  },
  {
   "cell_type": "code",
   "execution_count": 11,
   "metadata": {},
   "outputs": [],
   "source": [
    "horvath_ind = horvath_chrs.apply(lambda tup: binary_search(*tup))"
   ]
  },
  {
   "cell_type": "code",
   "execution_count": 12,
   "metadata": {},
   "outputs": [],
   "source": [
    "raw_data = pd.read_csv(\"../data/filtered_cytosines_freq.tsv\", sep='\\t')"
   ]
  },
  {
   "cell_type": "code",
   "execution_count": 13,
   "metadata": {},
   "outputs": [],
   "source": [
    "abs_values = np.isnan(raw_data.values[horvath_ind][:, 1:].astype(np.float64)).sum(axis=0)"
   ]
  },
  {
   "cell_type": "code",
   "execution_count": 14,
   "metadata": {},
   "outputs": [],
   "source": [
    "rel_values  = (abs_values * 100) / len(raw_data.values[horvath_ind][:, 1:])"
   ]
  },
  {
   "cell_type": "code",
   "execution_count": 15,
   "metadata": {},
   "outputs": [
    {
     "data": {
      "text/plain": [
       "array([ 0,  4,  4,  2,  2,  1,  1,  4,  3,  3, 10,  1,  0,  1,  2,  2,  1,\n",
       "        2,  1,  1,  0,  3,  1,  4,  2,  4,  2,  3,  1,  1,  0,  1,  3,  3,\n",
       "        1,  1,  3,  2,  1,  0])"
      ]
     },
     "execution_count": 15,
     "metadata": {},
     "output_type": "execute_result"
    }
   ],
   "source": [
    "abs_values "
   ]
  },
  {
   "cell_type": "code",
   "execution_count": 16,
   "metadata": {},
   "outputs": [
    {
     "data": {
      "text/plain": [
       "<BarContainer object of 40 artists>"
      ]
     },
     "execution_count": 16,
     "metadata": {},
     "output_type": "execute_result"
    },
    {
     "data": {
      "image/png": "[encoded data removed]",
      "text/plain": [
       "<Figure size 640x480 with 1 Axes>"
      ]
     },
     "metadata": {},
     "output_type": "display_data"
    }
   ],
   "source": [
    "plt.bar(range(len(abs_values)), abs_values)"
   ]
  },
  {
   "cell_type": "code",
   "execution_count": 17,
   "metadata": {},
   "outputs": [],
   "source": [
    "out = (data.values[horvath_ind][:, 1:] / 100).astype(np.float64).transpose().dot(coefs.astype(np.float64)) + 0.695507258"
   ]
  },
  {
   "cell_type": "code",
   "execution_count": 18,
   "metadata": {},
   "outputs": [],
   "source": [
    "def F_inv(x):\n",
    "    if x < 0:\n",
    "        return 21 * np.exp(x) - 1\n",
    "    else:\n",
    "        return 21 * x + 20"
   ]
  },
  {
   "cell_type": "code",
   "execution_count": 19,
   "metadata": {},
   "outputs": [],
   "source": [
    "predicted_age = np.vectorize(F_inv)(out)"
   ]
  },
  {
   "cell_type": "code",
   "execution_count": 20,
   "metadata": {},
   "outputs": [
    {
     "data": {
      "text/plain": [
       "0    -62.869674\n",
       "1    -56.598380\n",
       "2     -8.819683\n",
       "3    -55.855088\n",
       "4    -37.464169\n",
       "5    -44.823178\n",
       "6    -52.385561\n",
       "7    -75.620244\n",
       "8    -26.254121\n",
       "9    -65.290252\n",
       "10   -76.515772\n",
       "11   -48.329550\n",
       "12   -56.245883\n",
       "13   -52.881872\n",
       "14   -49.972979\n",
       "15   -30.745161\n",
       "16   -37.475532\n",
       "17   -49.199554\n",
       "18   -28.615820\n",
       "19   -54.323259\n",
       "20   -12.491321\n",
       "21    47.222650\n",
       "22    -0.639612\n",
       "23    -7.471761\n",
       "24   -15.933886\n",
       "25   -10.343089\n",
       "26    -6.215953\n",
       "27   -10.267062\n",
       "28    -3.566212\n",
       "29    -0.044455\n",
       "30    -8.606675\n",
       "31    -5.898489\n",
       "32    -6.923288\n",
       "33     9.058443\n",
       "34    -5.304665\n",
       "35     0.170783\n",
       "36   -19.023895\n",
       "37     5.607288\n",
       "38   -16.730234\n",
       "39   -10.446635\n",
       "Name: Donor Age, dtype: float64"
      ]
     },
     "execution_count": 20,
     "metadata": {},
     "output_type": "execute_result"
    }
   ],
   "source": [
    "real_age = pd.read_csv(\"../data/RRBS.phase1_yo_datasets.Monocyte.tsv\", sep='\\t')\n",
    "real_age[\"Donor Age\"] - predicted_age"
   ]
  },
  {
   "cell_type": "code",
   "execution_count": 21,
   "metadata": {},
   "outputs": [],
   "source": [
    "def label(index):\n",
    "    return 0 if index[0] == \"Y\" else 1"
   ]
  },
  {
   "cell_type": "code",
   "execution_count": 25,
   "metadata": {},
   "outputs": [],
   "source": [
    "labels = real_age[\"Donor ID\"].apply(label)"
   ]
  },
  {
   "cell_type": "code",
   "execution_count": 43,
   "metadata": {},
   "outputs": [
    {
     "data": {
      "text/plain": [
       "<matplotlib.legend.Legend at 0x1966fe210>"
      ]
     },
     "execution_count": 43,
     "metadata": {},
     "output_type": "execute_result"
    },
    {
     "data": {
      "image/png": "[encoded data removed]",
      "text/plain": [
       "<Figure size 640x480 with 1 Axes>"
      ]
     },
     "metadata": {},
     "output_type": "display_data"
    },
    {
     "ename": "",
     "evalue": "",
     "output_type": "error",
     "traceback": [
      "\u001b[1;31mThe Kernel crashed while executing code in the the current cell or a previous cell. Please review the code in the cell(s) to identify a possible cause of the failure. Click <a href='https://aka.ms/vscodeJupyterKernelCrash'>here</a> for more info. View Jupyter <a href='command:jupyter.viewOutput'>log</a> for further details."
     ]
    }
   ],
   "source": [
    "errors = predicted_age.astype(np.float64) - real_age[\"Donor Age\"].astype(np.float64)\n",
    "plt.hist(errors[labels.astype(bool)], ec=\"k\", label=\"Old donors\")\n",
    "plt.hist(errors[np.invert(labels.astype(bool))], ec=\"k\", label=\"Young donors\")\n",
    "plt.xlabel(\"error in years\")  \n",
    "plt.ylabel(\"number of samples\")\n",
    "plt.title(\"zeroes\")\n",
    "plt.legend()"
   ]
  }
 ],
 "metadata": {
  "kernelspec": {
   "display_name": "Python 3",
   "language": "python",
   "name": "python3"
  },
  "language_info": {
   "codemirror_mode": {
    "name": "ipython",
    "version": 3
   },
   "file_extension": ".py",
   "mimetype": "text/x-python",
   "name": "python",
   "nbconvert_exporter": "python",
   "pygments_lexer": "ipython3",
   "version": "3.11.2"
  },
  "orig_nbformat": 4,
  "vscode": {
   "interpreter": {
    "hash": "aee8b7b246df8f9039afb4144a1f6fd8d2ca17a180786b69acc140d282b71a49"
   }
  }
 },
 "nbformat": 4,
 "nbformat_minor": 2
}
