{
 "cells": [
  {
   "cell_type": "code",
   "execution_count": 2,
   "metadata": {},
   "outputs": [],
   "source": [
    "import pandas as pd\n",
    "import utils\n",
    "import numpy as np\n",
    "import matplotlib.pyplot as plt"
   ]
  },
  {
   "cell_type": "code",
   "execution_count": 3,
   "metadata": {},
   "outputs": [
    {
     "data": {
      "text/html": [
       "<div>\n",
       "<style scoped>\n",
       "    .dataframe tbody tr th:only-of-type {\n",
       "        vertical-align: middle;\n",
       "    }\n",
       "\n",
       "    .dataframe tbody tr th {\n",
       "        vertical-align: top;\n",
       "    }\n",
       "\n",
       "    .dataframe thead th {\n",
       "        text-align: right;\n",
       "    }\n",
       "</style>\n",
       "<table border=\"1\" class=\"dataframe\">\n",
       "  <thead>\n",
       "    <tr style=\"text-align: right;\">\n",
       "      <th></th>\n",
       "      <th>marker</th>\n",
       "      <th>coefs</th>\n",
       "    </tr>\n",
       "  </thead>\n",
       "  <tbody>\n",
       "    <tr>\n",
       "      <th>0</th>\n",
       "      <td>cg00075967</td>\n",
       "      <td>0.129337</td>\n",
       "    </tr>\n",
       "    <tr>\n",
       "      <th>1</th>\n",
       "      <td>cg00374717</td>\n",
       "      <td>0.005018</td>\n",
       "    </tr>\n",
       "    <tr>\n",
       "      <th>2</th>\n",
       "      <td>cg00864867</td>\n",
       "      <td>1.599764</td>\n",
       "    </tr>\n",
       "    <tr>\n",
       "      <th>3</th>\n",
       "      <td>cg00945507</td>\n",
       "      <td>0.056852</td>\n",
       "    </tr>\n",
       "    <tr>\n",
       "      <th>4</th>\n",
       "      <td>cg01027739</td>\n",
       "      <td>0.102863</td>\n",
       "    </tr>\n",
       "  </tbody>\n",
       "</table>\n",
       "</div>"
      ],
      "text/plain": [
       "       marker     coefs\n",
       "0  cg00075967  0.129337\n",
       "1  cg00374717  0.005018\n",
       "2  cg00864867  1.599764\n",
       "3  cg00945507  0.056852\n",
       "4  cg01027739  0.102863"
      ]
     },
     "execution_count": 3,
     "metadata": {},
     "output_type": "execute_result"
    }
   ],
   "source": [
    "# horvath = utils.preprocess_horvath_file(\"../data/gb-2013-14-10-r115-S3.csv\")\n",
    "horvath = pd.read_csv('../data/gb-2013-14-10-r115-S3_preprocessed.csv', sep='\\t')\n",
    "horvath.head()"
   ]
  },
  {
   "cell_type": "code",
   "execution_count": 4,
   "metadata": {},
   "outputs": [
    {
     "data": {
      "text/html": [
       "<div>\n",
       "<style scoped>\n",
       "    .dataframe tbody tr th:only-of-type {\n",
       "        vertical-align: middle;\n",
       "    }\n",
       "\n",
       "    .dataframe tbody tr th {\n",
       "        vertical-align: top;\n",
       "    }\n",
       "\n",
       "    .dataframe thead th {\n",
       "        text-align: right;\n",
       "    }\n",
       "</style>\n",
       "<table border=\"1\" class=\"dataframe\">\n",
       "  <thead>\n",
       "    <tr style=\"text-align: right;\">\n",
       "      <th></th>\n",
       "      <th>chromosome</th>\n",
       "      <th>position</th>\n",
       "      <th>OD10</th>\n",
       "      <th>OD11</th>\n",
       "      <th>OD12</th>\n",
       "      <th>OD13</th>\n",
       "      <th>OD14</th>\n",
       "      <th>OD15</th>\n",
       "      <th>OD16</th>\n",
       "      <th>OD17</th>\n",
       "      <th>...</th>\n",
       "      <th>YD20</th>\n",
       "      <th>YD21</th>\n",
       "      <th>YD2</th>\n",
       "      <th>YD3</th>\n",
       "      <th>YD4</th>\n",
       "      <th>YD5</th>\n",
       "      <th>YD6</th>\n",
       "      <th>YD7</th>\n",
       "      <th>YD8</th>\n",
       "      <th>YD9</th>\n",
       "    </tr>\n",
       "  </thead>\n",
       "  <tbody>\n",
       "    <tr>\n",
       "      <th>0</th>\n",
       "      <td>chr1</td>\n",
       "      <td>10497</td>\n",
       "      <td>71.956</td>\n",
       "      <td>93.640</td>\n",
       "      <td>94.410</td>\n",
       "      <td>92.163</td>\n",
       "      <td>86.408</td>\n",
       "      <td>92.143</td>\n",
       "      <td>91.304</td>\n",
       "      <td>69.029</td>\n",
       "      <td>...</td>\n",
       "      <td>92.88</td>\n",
       "      <td>80.769</td>\n",
       "      <td>85.714</td>\n",
       "      <td>73.761</td>\n",
       "      <td>84.277</td>\n",
       "      <td>80.408</td>\n",
       "      <td>94.667</td>\n",
       "      <td>92.623</td>\n",
       "      <td>83.992</td>\n",
       "      <td>89.620</td>\n",
       "    </tr>\n",
       "    <tr>\n",
       "      <th>1</th>\n",
       "      <td>chr1</td>\n",
       "      <td>10525</td>\n",
       "      <td>93.704</td>\n",
       "      <td>90.813</td>\n",
       "      <td>95.679</td>\n",
       "      <td>89.375</td>\n",
       "      <td>93.528</td>\n",
       "      <td>95.714</td>\n",
       "      <td>93.103</td>\n",
       "      <td>89.737</td>\n",
       "      <td>...</td>\n",
       "      <td>90.00</td>\n",
       "      <td>87.179</td>\n",
       "      <td>91.081</td>\n",
       "      <td>91.329</td>\n",
       "      <td>92.332</td>\n",
       "      <td>85.537</td>\n",
       "      <td>92.857</td>\n",
       "      <td>89.617</td>\n",
       "      <td>92.073</td>\n",
       "      <td>94.684</td>\n",
       "    </tr>\n",
       "    <tr>\n",
       "      <th>2</th>\n",
       "      <td>chr1</td>\n",
       "      <td>10542</td>\n",
       "      <td>100.000</td>\n",
       "      <td>100.000</td>\n",
       "      <td>100.000</td>\n",
       "      <td>100.000</td>\n",
       "      <td>100.000</td>\n",
       "      <td>100.000</td>\n",
       "      <td>100.000</td>\n",
       "      <td>100.000</td>\n",
       "      <td>...</td>\n",
       "      <td>100.00</td>\n",
       "      <td>100.000</td>\n",
       "      <td>100.000</td>\n",
       "      <td>100.000</td>\n",
       "      <td>100.000</td>\n",
       "      <td>100.000</td>\n",
       "      <td>99.647</td>\n",
       "      <td>99.708</td>\n",
       "      <td>99.781</td>\n",
       "      <td>100.000</td>\n",
       "    </tr>\n",
       "    <tr>\n",
       "      <th>3</th>\n",
       "      <td>chr1</td>\n",
       "      <td>10589</td>\n",
       "      <td>100.000</td>\n",
       "      <td>NaN</td>\n",
       "      <td>NaN</td>\n",
       "      <td>0.000</td>\n",
       "      <td>100.000</td>\n",
       "      <td>NaN</td>\n",
       "      <td>100.000</td>\n",
       "      <td>NaN</td>\n",
       "      <td>...</td>\n",
       "      <td>NaN</td>\n",
       "      <td>85.714</td>\n",
       "      <td>92.308</td>\n",
       "      <td>NaN</td>\n",
       "      <td>100.000</td>\n",
       "      <td>50.000</td>\n",
       "      <td>0.000</td>\n",
       "      <td>91.379</td>\n",
       "      <td>91.892</td>\n",
       "      <td>81.818</td>\n",
       "    </tr>\n",
       "    <tr>\n",
       "      <th>4</th>\n",
       "      <td>chr1</td>\n",
       "      <td>10609</td>\n",
       "      <td>95.455</td>\n",
       "      <td>NaN</td>\n",
       "      <td>NaN</td>\n",
       "      <td>0.000</td>\n",
       "      <td>100.000</td>\n",
       "      <td>NaN</td>\n",
       "      <td>63.636</td>\n",
       "      <td>NaN</td>\n",
       "      <td>...</td>\n",
       "      <td>NaN</td>\n",
       "      <td>85.714</td>\n",
       "      <td>94.737</td>\n",
       "      <td>NaN</td>\n",
       "      <td>100.000</td>\n",
       "      <td>100.000</td>\n",
       "      <td>NaN</td>\n",
       "      <td>96.296</td>\n",
       "      <td>97.222</td>\n",
       "      <td>80.000</td>\n",
       "    </tr>\n",
       "  </tbody>\n",
       "</table>\n",
       "<p>5 rows × 42 columns</p>\n",
       "</div>"
      ],
      "text/plain": [
       "  chromosome  position     OD10     OD11     OD12     OD13     OD14     OD15  \\\n",
       "0       chr1     10497   71.956   93.640   94.410   92.163   86.408   92.143   \n",
       "1       chr1     10525   93.704   90.813   95.679   89.375   93.528   95.714   \n",
       "2       chr1     10542  100.000  100.000  100.000  100.000  100.000  100.000   \n",
       "3       chr1     10589  100.000      NaN      NaN    0.000  100.000      NaN   \n",
       "4       chr1     10609   95.455      NaN      NaN    0.000  100.000      NaN   \n",
       "\n",
       "      OD16     OD17  ...    YD20     YD21      YD2      YD3      YD4      YD5  \\\n",
       "0   91.304   69.029  ...   92.88   80.769   85.714   73.761   84.277   80.408   \n",
       "1   93.103   89.737  ...   90.00   87.179   91.081   91.329   92.332   85.537   \n",
       "2  100.000  100.000  ...  100.00  100.000  100.000  100.000  100.000  100.000   \n",
       "3  100.000      NaN  ...     NaN   85.714   92.308      NaN  100.000   50.000   \n",
       "4   63.636      NaN  ...     NaN   85.714   94.737      NaN  100.000  100.000   \n",
       "\n",
       "      YD6     YD7     YD8      YD9  \n",
       "0  94.667  92.623  83.992   89.620  \n",
       "1  92.857  89.617  92.073   94.684  \n",
       "2  99.647  99.708  99.781  100.000  \n",
       "3   0.000  91.379  91.892   81.818  \n",
       "4     NaN  96.296  97.222   80.000  \n",
       "\n",
       "[5 rows x 42 columns]"
      ]
     },
     "execution_count": 4,
     "metadata": {},
     "output_type": "execute_result"
    }
   ],
   "source": [
    "# data = utils.preprocess_data('../data/filtered_cytosines_freq.tsv')\n",
    "data = pd.read_csv('../data/filtered_cytosines_freq_preprocessed.tsv', sep='\\t')\n",
    "data.head()"
   ]
  },
  {
   "cell_type": "code",
   "execution_count": 5,
   "metadata": {},
   "outputs": [
    {
     "name": "stderr",
     "output_type": "stream",
     "text": [
      "  0%|          | 0/1047277 [00:00<?, ?it/s]/Users/Emiliia.Lekhman/Desktop/project/tests/utils/imputation.py:131: RuntimeWarning: Mean of empty slice\n",
      "  imputed_data.loc[row, columns[col + 2]] = np.nanmean(values[left:right, col])\n",
      "100%|██████████| 1047277/1047277 [02:24<00:00, 7225.21it/s]\n"
     ]
    }
   ],
   "source": [
    "X_imputed_1000bp = utils.impute_1000bp(data)"
   ]
  },
  {
   "cell_type": "code",
   "execution_count": 6,
   "metadata": {},
   "outputs": [
    {
     "data": {
      "text/html": [
       "<div>\n",
       "<style scoped>\n",
       "    .dataframe tbody tr th:only-of-type {\n",
       "        vertical-align: middle;\n",
       "    }\n",
       "\n",
       "    .dataframe tbody tr th {\n",
       "        vertical-align: top;\n",
       "    }\n",
       "\n",
       "    .dataframe thead th {\n",
       "        text-align: right;\n",
       "    }\n",
       "</style>\n",
       "<table border=\"1\" class=\"dataframe\">\n",
       "  <thead>\n",
       "    <tr style=\"text-align: right;\">\n",
       "      <th></th>\n",
       "      <th>chromosome</th>\n",
       "      <th>position</th>\n",
       "      <th>marker</th>\n",
       "    </tr>\n",
       "  </thead>\n",
       "  <tbody>\n",
       "    <tr>\n",
       "      <th>0</th>\n",
       "      <td>chr1</td>\n",
       "      <td>860185</td>\n",
       "      <td>cg04672450</td>\n",
       "    </tr>\n",
       "    <tr>\n",
       "      <th>1</th>\n",
       "      <td>chr1</td>\n",
       "      <td>861317</td>\n",
       "      <td>cg14324200</td>\n",
       "    </tr>\n",
       "    <tr>\n",
       "      <th>2</th>\n",
       "      <td>chr1</td>\n",
       "      <td>894587</td>\n",
       "      <td>cg04485075</td>\n",
       "    </tr>\n",
       "    <tr>\n",
       "      <th>3</th>\n",
       "      <td>chr1</td>\n",
       "      <td>894954</td>\n",
       "      <td>cg19923810</td>\n",
       "    </tr>\n",
       "    <tr>\n",
       "      <th>4</th>\n",
       "      <td>chr1</td>\n",
       "      <td>902025</td>\n",
       "      <td>cg21832150</td>\n",
       "    </tr>\n",
       "  </tbody>\n",
       "</table>\n",
       "</div>"
      ],
      "text/plain": [
       "  chromosome  position      marker\n",
       "0       chr1    860185  cg04672450\n",
       "1       chr1    861317  cg14324200\n",
       "2       chr1    894587  cg04485075\n",
       "3       chr1    894954  cg19923810\n",
       "4       chr1    902025  cg21832150"
      ]
     },
     "execution_count": 6,
     "metadata": {},
     "output_type": "execute_result"
    }
   ],
   "source": [
    "# map_data = utils.preprocess_map_file('../data/hm27.hg19.manifest.bed')\n",
    "map_data = pd.read_csv(\"../data/hm27.hg19.manifest_preprocessed.bed\", sep=\"\\t\")\n",
    "map_data.head()"
   ]
  },
  {
   "cell_type": "code",
   "execution_count": 7,
   "metadata": {},
   "outputs": [],
   "source": [
    "features = utils.get_features(X_imputed_1000bp, horvath.marker, map_data)"
   ]
  },
  {
   "cell_type": "code",
   "execution_count": 8,
   "metadata": {},
   "outputs": [],
   "source": [
    "predicted_age = utils.apply_horvath(features, horvath.coefs.values)"
   ]
  },
  {
   "cell_type": "code",
   "execution_count": 9,
   "metadata": {},
   "outputs": [
    {
     "data": {
      "text/plain": [
       "Text(0, 0.5, 'predicted age')"
      ]
     },
     "execution_count": 9,
     "metadata": {},
     "output_type": "execute_result"
    },
    {
     "data": {
      "image/png": "[encoded data removed]",
      "text/plain": [
       "<Figure size 640x480 with 1 Axes>"
      ]
     },
     "metadata": {},
     "output_type": "display_data"
    }
   ],
   "source": [
    "real_age_data = pd.read_csv('../data/RRBS.phase1_yo_datasets.Monocyte.tsv', sep='\\t')\n",
    "real_age_data = real_age_data.sort_values('Donor ID')\n",
    "real_age = real_age_data['Donor Age']\n",
    "plt.scatter(real_age, predicted_age)\n",
    "plt.xlabel(\"real age\")\n",
    "plt.ylabel(\"predicted age\")"
   ]
  },
  {
   "cell_type": "code",
   "execution_count": 10,
   "metadata": {},
   "outputs": [],
   "source": [
    "def label(index):\n",
    "    return 0 if index[0] == \"Y\" else 1\n",
    "labels = real_age_data[\"Donor ID\"].apply(label)"
   ]
  },
  {
   "cell_type": "code",
   "execution_count": 11,
   "metadata": {},
   "outputs": [
    {
     "data": {
      "text/plain": [
       "Text(0, 0.5, 'predicted age')"
      ]
     },
     "execution_count": 11,
     "metadata": {},
     "output_type": "execute_result"
    },
    {
     "data": {
      "image/png": "[encoded data removed]",
      "text/plain": [
       "<Figure size 640x480 with 1 Axes>"
      ]
     },
     "metadata": {},
     "output_type": "display_data"
    }
   ],
   "source": [
    "scatter1 = plt.scatter(real_age, predicted_age, c=labels)\n",
    "plt.scatter(np.linspace(20, 80, 1000), np.linspace(20, 80, 1000), s=1)\n",
    "plt.legend(handles=scatter1.legend_elements()[0], labels=[\"Young donors\", \"Old donors\"])\n",
    "plt.title(\"1000bp\")\n",
    "plt.xlabel('real age')\n",
    "plt.ylabel('predicted age')"
   ]
  },
  {
   "cell_type": "code",
   "execution_count": 12,
   "metadata": {},
   "outputs": [
    {
     "data": {
      "text/plain": [
       "<matplotlib.legend.Legend at 0x226113450>"
      ]
     },
     "execution_count": 12,
     "metadata": {},
     "output_type": "execute_result"
    },
    {
     "data": {
      "image/png": "[encoded data removed]",
      "text/plain": [
       "<Figure size 640x480 with 1 Axes>"
      ]
     },
     "metadata": {},
     "output_type": "display_data"
    }
   ],
   "source": [
    "errors = predicted_age - real_age\n",
    "plt.hist(errors[labels.astype(bool)], ec=\"k\", label=\"Old donors\")\n",
    "plt.hist(errors[np.invert(labels.astype(bool))], ec=\"k\", label=\"Young donors\")\n",
    "plt.xlabel(\"error in years\")  \n",
    "plt.ylabel(\"number of samples\")\n",
    "plt.title(\"1000bp\")\n",
    "plt.legend()"
   ]
  }
 ],
 "metadata": {
  "kernelspec": {
   "display_name": "Python 3",
   "language": "python",
   "name": "python3"
  },
  "language_info": {
   "codemirror_mode": {
    "name": "ipython",
    "version": 3
   },
   "file_extension": ".py",
   "mimetype": "text/x-python",
   "name": "python",
   "nbconvert_exporter": "python",
   "pygments_lexer": "ipython3",
   "version": "3.11.2"
  },
  "orig_nbformat": 4,
  "vscode": {
   "interpreter": {
    "hash": "aee8b7b246df8f9039afb4144a1f6fd8d2ca17a180786b69acc140d282b71a49"
   }
  }
 },
 "nbformat": 4,
 "nbformat_minor": 2
}
