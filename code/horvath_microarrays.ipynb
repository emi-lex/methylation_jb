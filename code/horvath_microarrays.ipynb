{
 "cells": [
  {
   "cell_type": "code",
   "execution_count": 1,
   "metadata": {},
   "outputs": [],
   "source": [
    "import pandas as pd\n",
    "import utils\n",
    "import numpy as np\n",
    "import matplotlib.pyplot as plt"
   ]
  },
  {
   "cell_type": "code",
   "execution_count": 2,
   "metadata": {},
   "outputs": [],
   "source": [
    "eps_methyLImp = 4000\n",
    "eps_nbp1 = eps_nbp2 = 10000"
   ]
  },
  {
   "cell_type": "code",
   "execution_count": 3,
   "metadata": {},
   "outputs": [],
   "source": [
    "real_age = np.array([57, 75, 57, 68, 88, 76, 52, 56, 55, 67, 68, 63, 60, 63, 58, 68, 53, 61, 61, 60, 62, 63, 63, 61])\n",
    "def metrics(predicted_age):\n",
    "    diffs = predicted_age[12:] - real_age[12:]\n",
    "    print(f\"rmse: {(diffs ** 2).mean() ** 0.5}, mae: {np.abs(diffs).mean()}\")\n",
    "\n",
    "def add_metrics(predicted_age, rmse_lst, mae_lst):\n",
    "    diffs = predicted_age[12:] - real_age[12:]\n",
    "    rmse_lst.append((diffs ** 2).mean() ** 0.5)\n",
    "    mae_lst.append(np.abs(diffs).mean())"
   ]
  },
  {
   "cell_type": "code",
   "execution_count": 4,
   "metadata": {},
   "outputs": [
    {
     "data": {
      "text/html": [
       "<div>\n",
       "<style scoped>\n",
       "    .dataframe tbody tr th:only-of-type {\n",
       "        vertical-align: middle;\n",
       "    }\n",
       "\n",
       "    .dataframe tbody tr th {\n",
       "        vertical-align: top;\n",
       "    }\n",
       "\n",
       "    .dataframe thead th {\n",
       "        text-align: right;\n",
       "    }\n",
       "</style>\n",
       "<table border=\"1\" class=\"dataframe\">\n",
       "  <thead>\n",
       "    <tr style=\"text-align: right;\">\n",
       "      <th></th>\n",
       "      <th>chromosome</th>\n",
       "      <th>position</th>\n",
       "      <th>sample1</th>\n",
       "      <th>sample2</th>\n",
       "      <th>sample3</th>\n",
       "      <th>sample4</th>\n",
       "      <th>sample5</th>\n",
       "      <th>sample6</th>\n",
       "      <th>sample7</th>\n",
       "      <th>sample8</th>\n",
       "      <th>...</th>\n",
       "      <th>sample15</th>\n",
       "      <th>sample16</th>\n",
       "      <th>sample17</th>\n",
       "      <th>sample18</th>\n",
       "      <th>sample19</th>\n",
       "      <th>sample20</th>\n",
       "      <th>sample21</th>\n",
       "      <th>sample22</th>\n",
       "      <th>sample23</th>\n",
       "      <th>sample24</th>\n",
       "    </tr>\n",
       "  </thead>\n",
       "  <tbody>\n",
       "    <tr>\n",
       "      <th>0</th>\n",
       "      <td>chr1</td>\n",
       "      <td>15865</td>\n",
       "      <td>82.045</td>\n",
       "      <td>82.856</td>\n",
       "      <td>82.837</td>\n",
       "      <td>87.850</td>\n",
       "      <td>90.361</td>\n",
       "      <td>78.916</td>\n",
       "      <td>76.064</td>\n",
       "      <td>72.616</td>\n",
       "      <td>...</td>\n",
       "      <td>83.194</td>\n",
       "      <td>77.637</td>\n",
       "      <td>90.263</td>\n",
       "      <td>72.411</td>\n",
       "      <td>81.641</td>\n",
       "      <td>81.562</td>\n",
       "      <td>86.460</td>\n",
       "      <td>84.858</td>\n",
       "      <td>85.185</td>\n",
       "      <td>85.640</td>\n",
       "    </tr>\n",
       "    <tr>\n",
       "      <th>1</th>\n",
       "      <td>chr1</td>\n",
       "      <td>18827</td>\n",
       "      <td>55.399</td>\n",
       "      <td>51.467</td>\n",
       "      <td>50.406</td>\n",
       "      <td>52.594</td>\n",
       "      <td>55.159</td>\n",
       "      <td>54.301</td>\n",
       "      <td>56.033</td>\n",
       "      <td>49.333</td>\n",
       "      <td>...</td>\n",
       "      <td>67.143</td>\n",
       "      <td>76.867</td>\n",
       "      <td>70.885</td>\n",
       "      <td>72.977</td>\n",
       "      <td>66.824</td>\n",
       "      <td>58.117</td>\n",
       "      <td>61.823</td>\n",
       "      <td>67.223</td>\n",
       "      <td>75.180</td>\n",
       "      <td>77.534</td>\n",
       "    </tr>\n",
       "    <tr>\n",
       "      <th>2</th>\n",
       "      <td>chr1</td>\n",
       "      <td>29407</td>\n",
       "      <td>4.354</td>\n",
       "      <td>4.437</td>\n",
       "      <td>5.099</td>\n",
       "      <td>3.634</td>\n",
       "      <td>3.011</td>\n",
       "      <td>3.482</td>\n",
       "      <td>5.130</td>\n",
       "      <td>3.310</td>\n",
       "      <td>...</td>\n",
       "      <td>6.869</td>\n",
       "      <td>2.641</td>\n",
       "      <td>3.964</td>\n",
       "      <td>1.892</td>\n",
       "      <td>4.096</td>\n",
       "      <td>4.569</td>\n",
       "      <td>5.540</td>\n",
       "      <td>6.707</td>\n",
       "      <td>5.535</td>\n",
       "      <td>4.048</td>\n",
       "    </tr>\n",
       "    <tr>\n",
       "      <th>3</th>\n",
       "      <td>chr1</td>\n",
       "      <td>29425</td>\n",
       "      <td>4.691</td>\n",
       "      <td>4.901</td>\n",
       "      <td>4.122</td>\n",
       "      <td>4.575</td>\n",
       "      <td>5.550</td>\n",
       "      <td>3.813</td>\n",
       "      <td>4.643</td>\n",
       "      <td>5.072</td>\n",
       "      <td>...</td>\n",
       "      <td>4.321</td>\n",
       "      <td>3.644</td>\n",
       "      <td>11.370</td>\n",
       "      <td>6.227</td>\n",
       "      <td>6.575</td>\n",
       "      <td>8.500</td>\n",
       "      <td>12.517</td>\n",
       "      <td>11.136</td>\n",
       "      <td>6.952</td>\n",
       "      <td>5.986</td>\n",
       "    </tr>\n",
       "    <tr>\n",
       "      <th>4</th>\n",
       "      <td>chr1</td>\n",
       "      <td>29435</td>\n",
       "      <td>2.219</td>\n",
       "      <td>2.426</td>\n",
       "      <td>3.626</td>\n",
       "      <td>3.880</td>\n",
       "      <td>2.693</td>\n",
       "      <td>2.963</td>\n",
       "      <td>5.088</td>\n",
       "      <td>3.022</td>\n",
       "      <td>...</td>\n",
       "      <td>2.706</td>\n",
       "      <td>2.922</td>\n",
       "      <td>5.984</td>\n",
       "      <td>3.648</td>\n",
       "      <td>2.941</td>\n",
       "      <td>2.821</td>\n",
       "      <td>3.149</td>\n",
       "      <td>3.688</td>\n",
       "      <td>NaN</td>\n",
       "      <td>3.779</td>\n",
       "    </tr>\n",
       "    <tr>\n",
       "      <th>...</th>\n",
       "      <td>...</td>\n",
       "      <td>...</td>\n",
       "      <td>...</td>\n",
       "      <td>...</td>\n",
       "      <td>...</td>\n",
       "      <td>...</td>\n",
       "      <td>...</td>\n",
       "      <td>...</td>\n",
       "      <td>...</td>\n",
       "      <td>...</td>\n",
       "      <td>...</td>\n",
       "      <td>...</td>\n",
       "      <td>...</td>\n",
       "      <td>...</td>\n",
       "      <td>...</td>\n",
       "      <td>...</td>\n",
       "      <td>...</td>\n",
       "      <td>...</td>\n",
       "      <td>...</td>\n",
       "      <td>...</td>\n",
       "      <td>...</td>\n",
       "    </tr>\n",
       "    <tr>\n",
       "      <th>485572</th>\n",
       "      <td>chrY</td>\n",
       "      <td>27009430</td>\n",
       "      <td>28.946</td>\n",
       "      <td>0.000</td>\n",
       "      <td>3.568</td>\n",
       "      <td>69.084</td>\n",
       "      <td>73.191</td>\n",
       "      <td>73.146</td>\n",
       "      <td>NaN</td>\n",
       "      <td>74.637</td>\n",
       "      <td>...</td>\n",
       "      <td>79.552</td>\n",
       "      <td>86.449</td>\n",
       "      <td>76.814</td>\n",
       "      <td>70.504</td>\n",
       "      <td>57.672</td>\n",
       "      <td>NaN</td>\n",
       "      <td>NaN</td>\n",
       "      <td>NaN</td>\n",
       "      <td>37.405</td>\n",
       "      <td>6.296</td>\n",
       "    </tr>\n",
       "    <tr>\n",
       "      <th>485573</th>\n",
       "      <td>chrY</td>\n",
       "      <td>27210334</td>\n",
       "      <td>54.998</td>\n",
       "      <td>54.106</td>\n",
       "      <td>46.527</td>\n",
       "      <td>67.700</td>\n",
       "      <td>15.278</td>\n",
       "      <td>69.349</td>\n",
       "      <td>58.863</td>\n",
       "      <td>72.854</td>\n",
       "      <td>...</td>\n",
       "      <td>58.997</td>\n",
       "      <td>58.362</td>\n",
       "      <td>68.094</td>\n",
       "      <td>63.389</td>\n",
       "      <td>58.114</td>\n",
       "      <td>44.422</td>\n",
       "      <td>47.170</td>\n",
       "      <td>50.340</td>\n",
       "      <td>84.172</td>\n",
       "      <td>63.176</td>\n",
       "    </tr>\n",
       "    <tr>\n",
       "      <th>485574</th>\n",
       "      <td>chrY</td>\n",
       "      <td>28555536</td>\n",
       "      <td>31.720</td>\n",
       "      <td>32.511</td>\n",
       "      <td>27.565</td>\n",
       "      <td>85.546</td>\n",
       "      <td>88.500</td>\n",
       "      <td>92.555</td>\n",
       "      <td>NaN</td>\n",
       "      <td>83.337</td>\n",
       "      <td>...</td>\n",
       "      <td>86.957</td>\n",
       "      <td>86.517</td>\n",
       "      <td>85.428</td>\n",
       "      <td>80.455</td>\n",
       "      <td>49.904</td>\n",
       "      <td>44.764</td>\n",
       "      <td>29.061</td>\n",
       "      <td>34.681</td>\n",
       "      <td>58.534</td>\n",
       "      <td>32.206</td>\n",
       "    </tr>\n",
       "    <tr>\n",
       "      <th>485575</th>\n",
       "      <td>chrY</td>\n",
       "      <td>28555550</td>\n",
       "      <td>NaN</td>\n",
       "      <td>25.076</td>\n",
       "      <td>12.332</td>\n",
       "      <td>91.528</td>\n",
       "      <td>93.369</td>\n",
       "      <td>92.264</td>\n",
       "      <td>33.389</td>\n",
       "      <td>82.597</td>\n",
       "      <td>...</td>\n",
       "      <td>94.276</td>\n",
       "      <td>90.840</td>\n",
       "      <td>91.211</td>\n",
       "      <td>94.290</td>\n",
       "      <td>49.088</td>\n",
       "      <td>36.958</td>\n",
       "      <td>30.619</td>\n",
       "      <td>39.546</td>\n",
       "      <td>33.344</td>\n",
       "      <td>12.321</td>\n",
       "    </tr>\n",
       "    <tr>\n",
       "      <th>485576</th>\n",
       "      <td>chrY</td>\n",
       "      <td>28555912</td>\n",
       "      <td>0.000</td>\n",
       "      <td>11.575</td>\n",
       "      <td>12.352</td>\n",
       "      <td>59.598</td>\n",
       "      <td>75.659</td>\n",
       "      <td>55.983</td>\n",
       "      <td>36.593</td>\n",
       "      <td>44.690</td>\n",
       "      <td>...</td>\n",
       "      <td>63.146</td>\n",
       "      <td>50.813</td>\n",
       "      <td>69.179</td>\n",
       "      <td>60.204</td>\n",
       "      <td>20.087</td>\n",
       "      <td>34.296</td>\n",
       "      <td>15.849</td>\n",
       "      <td>26.137</td>\n",
       "      <td>70.329</td>\n",
       "      <td>24.416</td>\n",
       "    </tr>\n",
       "  </tbody>\n",
       "</table>\n",
       "<p>485577 rows × 26 columns</p>\n",
       "</div>"
      ],
      "text/plain": [
       "       chromosome  position  sample1  sample2  sample3  sample4  sample5  \\\n",
       "0            chr1     15865   82.045   82.856   82.837   87.850   90.361   \n",
       "1            chr1     18827   55.399   51.467   50.406   52.594   55.159   \n",
       "2            chr1     29407    4.354    4.437    5.099    3.634    3.011   \n",
       "3            chr1     29425    4.691    4.901    4.122    4.575    5.550   \n",
       "4            chr1     29435    2.219    2.426    3.626    3.880    2.693   \n",
       "...           ...       ...      ...      ...      ...      ...      ...   \n",
       "485572       chrY  27009430   28.946    0.000    3.568   69.084   73.191   \n",
       "485573       chrY  27210334   54.998   54.106   46.527   67.700   15.278   \n",
       "485574       chrY  28555536   31.720   32.511   27.565   85.546   88.500   \n",
       "485575       chrY  28555550      NaN   25.076   12.332   91.528   93.369   \n",
       "485576       chrY  28555912    0.000   11.575   12.352   59.598   75.659   \n",
       "\n",
       "        sample6  sample7  sample8  ...  sample15  sample16  sample17  \\\n",
       "0        78.916   76.064   72.616  ...    83.194    77.637    90.263   \n",
       "1        54.301   56.033   49.333  ...    67.143    76.867    70.885   \n",
       "2         3.482    5.130    3.310  ...     6.869     2.641     3.964   \n",
       "3         3.813    4.643    5.072  ...     4.321     3.644    11.370   \n",
       "4         2.963    5.088    3.022  ...     2.706     2.922     5.984   \n",
       "...         ...      ...      ...  ...       ...       ...       ...   \n",
       "485572   73.146      NaN   74.637  ...    79.552    86.449    76.814   \n",
       "485573   69.349   58.863   72.854  ...    58.997    58.362    68.094   \n",
       "485574   92.555      NaN   83.337  ...    86.957    86.517    85.428   \n",
       "485575   92.264   33.389   82.597  ...    94.276    90.840    91.211   \n",
       "485576   55.983   36.593   44.690  ...    63.146    50.813    69.179   \n",
       "\n",
       "        sample18  sample19  sample20  sample21  sample22  sample23  sample24  \n",
       "0         72.411    81.641    81.562    86.460    84.858    85.185    85.640  \n",
       "1         72.977    66.824    58.117    61.823    67.223    75.180    77.534  \n",
       "2          1.892     4.096     4.569     5.540     6.707     5.535     4.048  \n",
       "3          6.227     6.575     8.500    12.517    11.136     6.952     5.986  \n",
       "4          3.648     2.941     2.821     3.149     3.688       NaN     3.779  \n",
       "...          ...       ...       ...       ...       ...       ...       ...  \n",
       "485572    70.504    57.672       NaN       NaN       NaN    37.405     6.296  \n",
       "485573    63.389    58.114    44.422    47.170    50.340    84.172    63.176  \n",
       "485574    80.455    49.904    44.764    29.061    34.681    58.534    32.206  \n",
       "485575    94.290    49.088    36.958    30.619    39.546    33.344    12.321  \n",
       "485576    60.204    20.087    34.296    15.849    26.137    70.329    24.416  \n",
       "\n",
       "[485577 rows x 26 columns]"
      ]
     },
     "execution_count": 4,
     "metadata": {},
     "output_type": "execute_result"
    }
   ],
   "source": [
    "data  = pd.read_csv('../data/microarray_dataset_with_cancer_chr_pos_preprocessed.tsv', sep='\\t')\n",
    "data"
   ]
  },
  {
   "cell_type": "code",
   "execution_count": 5,
   "metadata": {},
   "outputs": [],
   "source": [
    "map_data = pd.read_csv(\"../data/hm27.hg19.manifest_preprocessed.bed\", sep='\\t')\n",
    "get_chr, get_pos = utils.get_marker_to_chr_and_pos(map_data)\n",
    "\n",
    "horvath_data = pd.read_csv(\"../data/gb-2013-14-10-r115-S3_preprocessed.csv\", sep='\\t')\n",
    "horvath_chr = horvath_data['marker'].apply(get_chr)\n",
    "horvath_pos = horvath_data['marker'].apply(get_pos)"
   ]
  },
  {
   "cell_type": "code",
   "execution_count": 6,
   "metadata": {},
   "outputs": [],
   "source": [
    "slices = []\n",
    "\n",
    "chromosome_coords = utils.get_chromosome_coords(data.chromosome)\n",
    "positions = data.position.values\n",
    "\n",
    "for c, p in zip(horvath_chr, horvath_pos):\n",
    "    i, j = chromosome_coords[c]\n",
    "    ind = np.searchsorted(positions[i:j], p)\n",
    "    if p <= positions[i + ind] <= p + 1 :\n",
    "        slices.append((ind + i, ind + i + 1))\n",
    "    else:\n",
    "        l, r = utils.find_slice(p, eps_nbp2, positions[i:j])\n",
    "        slices.append((l + i, r + i))\n",
    "\n",
    "rows_to_impute = np.zeros(len(data), dtype=bool)\n",
    "for l, r in slices:\n",
    "    rows_to_impute[l:r] = True\n",
    "\n",
    "def impute_rows(imputed_data):\n",
    "    rows = []\n",
    "    for i, j in slices:\n",
    "        rows.append(np.mean(imputed_data[i:j], axis=0))\n",
    "    return np.array(rows)"
   ]
  },
  {
   "cell_type": "code",
   "execution_count": 7,
   "metadata": {},
   "outputs": [
    {
     "name": "stderr",
     "output_type": "stream",
     "text": [
      "100%|██████████| 25/25 [00:00<00:00, 80.89it/s]\n",
      "100%|██████████| 7/7 [00:00<00:00, 3827.42it/s]\n",
      "100%|██████████| 7/7 [00:00<00:00, 6410.51it/s]\n",
      "100%|██████████| 7/7 [00:00<00:00, 7881.91it/s]\n"
     ]
    }
   ],
   "source": [
    "imputed_methyLImp = utils.methyLImp(data, rows_to_impute, eps_methyLImp)\n",
    "horvath_features_methyLImp_nbp = impute_rows(imputed_methyLImp)\n",
    "predicted_age_methyLImp_nbp = utils.apply_horvath(horvath_features_methyLImp_nbp.T / 100, horvath_data.coefs.values)\n",
    "\n",
    "imputed_nbp = utils.impute_nbp(data, eps_nbp1, rows_to_impute[:, None] & np.isnan(data.values[:, 2:].astype(np.float64)))\n",
    "imputed_nbp = imputed_nbp.values[:, 2:]\n",
    "horvath_features_nbp_nbp = impute_rows(imputed_nbp)\n",
    "predicted_age_nbp_nbp = utils.apply_horvath(horvath_features_nbp_nbp.T / 100, horvath_data.coefs.values)\n",
    "\n",
    "imputed_people_mean = utils.impute_people_mean(data, rows_to_impute[:, None] & np.isnan(data.values[:, 2:].astype(np.float64)))\n",
    "imputed_people_mean = imputed_people_mean.values[:, 2:]\n",
    "horvath_features_people_mean_nbp = impute_rows(imputed_people_mean)\n",
    "predicted_age_people_mean_nbp = utils.apply_horvath(horvath_features_people_mean_nbp.T / 100, horvath_data.coefs.values)\n",
    "\n",
    "imputed_cytosine_mean = utils.impute_cytosine_mean(data, rows_to_impute[:, None] & np.isnan(data.values[:, 2:].astype(np.float64)))\n",
    "imputed_cytosine_mean = imputed_cytosine_mean.values[:, 2:]\n",
    "horvath_features_cytosine_mean_nbp = impute_rows(imputed_cytosine_mean)\n",
    "predicted_age_cytosine_mean_nbp = utils.apply_horvath(horvath_features_cytosine_mean_nbp.T / 100, horvath_data.coefs.values)"
   ]
  },
  {
   "cell_type": "code",
   "execution_count": 8,
   "metadata": {},
   "outputs": [
    {
     "name": "stdout",
     "output_type": "stream",
     "text": [
      "Initial data\n",
      "\n",
      "\n",
      "methyLImp + nbp\n",
      "rmse: 8.956986420872896, mae: 7.791967058334048\n",
      "\n",
      "nbp + nbp\n",
      "rmse: 8.944470705548891, mae: 7.77875552911145\n",
      "\n",
      "people mean + nbp\n",
      "rmse: 8.960796013070714, mae: 7.8884055810383344\n",
      "\n",
      "cytosine mean + nbp\n",
      "rmse: 8.965428700629394, mae: 7.790794514111778\n"
     ]
    }
   ],
   "source": [
    "print(\"Initial data\\n\\n\")\n",
    "\n",
    "print(\"methyLImp + nbp\")\n",
    "metrics(predicted_age_methyLImp_nbp)\n",
    "print()\n",
    "\n",
    "print(\"nbp + nbp\")\n",
    "metrics(predicted_age_nbp_nbp)\n",
    "print()\n",
    "\n",
    "print(\"people mean + nbp\")\n",
    "metrics(predicted_age_people_mean_nbp)\n",
    "print()\n",
    "\n",
    "print(\"cytosine mean + nbp\")\n",
    "metrics(predicted_age_cytosine_mean_nbp)"
   ]
  },
  {
   "cell_type": "code",
   "execution_count": 12,
   "metadata": {},
   "outputs": [
    {
     "name": "stderr",
     "output_type": "stream",
     "text": [
      "100%|██████████| 25/25 [00:02<00:00, 12.49it/s]\n",
      "100%|██████████| 150/150 [00:00<00:00, 6937.01it/s]\n",
      "100%|██████████| 150/150 [00:00<00:00, 12457.59it/s]\n",
      "100%|██████████| 150/150 [00:00<00:00, 11861.50it/s]\n",
      "100%|██████████| 25/25 [00:02<00:00, 12.23it/s]\n",
      "100%|██████████| 136/136 [00:00<00:00, 7244.88it/s]\n",
      "100%|██████████| 136/136 [00:00<00:00, 11918.37it/s]\n",
      "100%|██████████| 136/136 [00:00<00:00, 11515.60it/s]\n",
      "100%|██████████| 25/25 [00:02<00:00, 10.28it/s]\n",
      "100%|██████████| 193/193 [00:00<00:00, 6851.00it/s]\n",
      "100%|██████████| 193/193 [00:00<00:00, 11616.90it/s]\n",
      "100%|██████████| 193/193 [00:00<00:00, 11699.17it/s]\n",
      "100%|██████████| 25/25 [00:02<00:00, 11.46it/s]\n",
      "100%|██████████| 154/154 [00:00<00:00, 6914.26it/s]\n",
      "100%|██████████| 154/154 [00:00<00:00, 11476.34it/s]\n",
      "100%|██████████| 154/154 [00:00<00:00, 11568.42it/s]\n",
      "100%|██████████| 25/25 [00:02<00:00,  9.78it/s]\n",
      "100%|██████████| 183/183 [00:00<00:00, 7676.50it/s]\n",
      "100%|██████████| 183/183 [00:00<00:00, 11401.12it/s]\n",
      "100%|██████████| 183/183 [00:00<00:00, 11732.41it/s]\n",
      "100%|██████████| 25/25 [00:02<00:00,  9.50it/s]\n",
      "100%|██████████| 179/179 [00:00<00:00, 7281.85it/s]\n",
      "100%|██████████| 179/179 [00:00<00:00, 11975.70it/s]\n",
      "100%|██████████| 179/179 [00:00<00:00, 11704.79it/s]\n",
      "100%|██████████| 25/25 [00:02<00:00, 10.11it/s]\n",
      "100%|██████████| 178/178 [00:00<00:00, 7112.31it/s]\n",
      "100%|██████████| 178/178 [00:00<00:00, 11503.11it/s]\n",
      "100%|██████████| 178/178 [00:00<00:00, 11635.59it/s]\n",
      "100%|██████████| 25/25 [00:02<00:00,  9.61it/s]\n",
      "100%|██████████| 177/177 [00:00<00:00, 6068.96it/s]\n",
      "100%|██████████| 177/177 [00:00<00:00, 12147.26it/s]\n",
      "100%|██████████| 177/177 [00:00<00:00, 11759.17it/s]\n",
      "100%|██████████| 25/25 [00:02<00:00, 11.40it/s]\n",
      "100%|██████████| 156/156 [00:00<00:00, 6985.21it/s]\n",
      "100%|██████████| 156/156 [00:00<00:00, 11682.67it/s]\n",
      "100%|██████████| 156/156 [00:00<00:00, 11610.32it/s]\n",
      "100%|██████████| 25/25 [00:02<00:00,  9.69it/s]\n",
      "100%|██████████| 186/186 [00:00<00:00, 7645.74it/s]\n",
      "100%|██████████| 186/186 [00:00<00:00, 11664.26it/s]\n",
      "100%|██████████| 186/186 [00:00<00:00, 11571.52it/s]\n"
     ]
    }
   ],
   "source": [
    "rmse_lst = []\n",
    "mae_lst = []\n",
    "\n",
    "for _ in range(10):\n",
    "    new_data = data.drop(np.random.choice([t[0] for t in slices], size=180, replace=False)).reset_index().drop([\"index\"], axis=1)\n",
    "    new_slices = []\n",
    "\n",
    "    chromosome_coords = utils.get_chromosome_coords(new_data.chromosome)\n",
    "    positions = new_data.position.values\n",
    "\n",
    "    for c, p in zip(horvath_chr, horvath_pos):\n",
    "        i, j = chromosome_coords[c]\n",
    "        ind = np.searchsorted(positions[i:j], p)\n",
    "        if p <= positions[i + ind] <= p + 1 :\n",
    "            new_slices.append((ind + i, ind + i + 1))\n",
    "        else:\n",
    "            l, r = utils.find_slice(p, eps_nbp2, positions[i:j])\n",
    "            new_slices.append((l + i, r + i))\n",
    "\n",
    "    rows_to_impute = np.zeros(len(new_data), dtype=bool)\n",
    "    for l, r in new_slices:\n",
    "        rows_to_impute[l:r] = True\n",
    "\n",
    "    def impute_rows(imputed_data):\n",
    "        rows = []\n",
    "        for i, j in new_slices:\n",
    "            rows.append(np.mean(imputed_data[i:j], axis=0))\n",
    "        return np.array(rows)\n",
    "    \n",
    "    imputed_methyLImp = utils.methyLImp(new_data, rows_to_impute, eps_methyLImp)\n",
    "    horvath_features_methyLImp_nbp = impute_rows(imputed_methyLImp)\n",
    "    predicted_age_methyLImp_nbp = utils.apply_horvath(horvath_features_methyLImp_nbp.T / 100, horvath_data.coefs.values)\n",
    "\n",
    "    imputed_nbp = utils.impute_nbp(new_data, eps_nbp1, rows_to_impute[:, None] & np.isnan(new_data.values[:, 2:].astype(np.float64)))\n",
    "    imputed_nbp = imputed_nbp.values[:, 2:]\n",
    "    horvath_features_nbp_nbp = impute_rows(imputed_nbp)\n",
    "    predicted_age_nbp_nbp = utils.apply_horvath(horvath_features_nbp_nbp.T / 100, horvath_data.coefs.values)\n",
    "\n",
    "    imputed_people_mean = utils.impute_people_mean(new_data, rows_to_impute[:, None] & np.isnan(new_data.values[:, 2:].astype(np.float64)))\n",
    "    imputed_people_mean = imputed_people_mean.values[:, 2:]\n",
    "    horvath_features_people_mean_nbp = impute_rows(imputed_people_mean)\n",
    "    predicted_age_people_mean_nbp = utils.apply_horvath(horvath_features_people_mean_nbp.T / 100, horvath_data.coefs.values)\n",
    "\n",
    "    imputed_cytosine_mean = utils.impute_cytosine_mean(new_data, rows_to_impute[:, None] & np.isnan(new_data.values[:, 2:].astype(np.float64)))\n",
    "    imputed_cytosine_mean = imputed_cytosine_mean.values[:, 2:]\n",
    "    horvath_features_cytosine_mean_nbp = impute_rows(imputed_cytosine_mean)\n",
    "    predicted_age_cytosine_mean_nbp = utils.apply_horvath(horvath_features_cytosine_mean_nbp.T / 100, horvath_data.coefs.values)\n",
    "\n",
    "    add_metrics(predicted_age_methyLImp_nbp, rmse_lst, mae_lst)\n",
    "    add_metrics(predicted_age_nbp_nbp, rmse_lst, mae_lst)\n",
    "    add_metrics(predicted_age_people_mean_nbp, rmse_lst, mae_lst)\n",
    "    add_metrics(predicted_age_cytosine_mean_nbp, rmse_lst, mae_lst)"
   ]
  },
  {
   "cell_type": "code",
   "execution_count": 13,
   "metadata": {},
   "outputs": [
    {
     "name": "stdout",
     "output_type": "stream",
     "text": [
      "Dropped and then imputed back 180 horvath rows\n",
      "\n",
      "\n",
      "methyLImp + nbp\n",
      "rmse: 10.857162019704024 +/- 5.613912408247698\n",
      "mae: 10.230004126198903 +/- 5.872845584802788\n",
      "\n",
      "nbp + nbp\n",
      "rmse: 10.971353170776444 +/- 5.646444271542986\n",
      "mae: 10.314821804831162 +/- 5.855400099053185\n",
      "\n",
      "people mean + nbp\n",
      "rmse: 11.052183399073012 +/- 5.649504636880672\n",
      "mae: 10.362693974743298 +/- 5.846993518309055\n",
      "\n",
      "cytosine mean + nbp\n",
      "rmse: 10.860869520024947 +/- 5.614643610265602\n",
      "mae: 10.233143119962255 +/- 5.869928612212385\n",
      "\n"
     ]
    }
   ],
   "source": [
    "print(\"Dropped and then imputed back 180 horvath rows\\n\\n\")\n",
    "\n",
    "for method, rmse_seq, mae_seq in zip(\n",
    "    [\"methyLImp + nbp\", \"nbp + nbp\", \"people mean + nbp\", \"cytosine mean + nbp\"],\n",
    "    np.reshape(rmse_lst, (10, 4)).T,\n",
    "    np.reshape(mae_lst, (10, 4)).T\n",
    "    ):\n",
    "    print(method)\n",
    "    print(f\"rmse: {np.mean(rmse_seq)} +/- {np.std(rmse_seq)}\")\n",
    "    print(f\"mae: {np.mean(mae_seq)} +/- {np.std(mae_seq)}\\n\")"
   ]
  },
  {
   "cell_type": "code",
   "execution_count": 14,
   "metadata": {},
   "outputs": [
    {
     "name": "stdout",
     "output_type": "stream",
     "text": [
      "[12.757949   16.57781633  4.16549995  9.15107283 11.43199343  7.20385582\n",
      " 14.23178827  4.53614548 22.71303624  5.80246285]\n",
      "[13.22007703 17.11475586  4.34809841  9.06114678 11.4924337   7.22257691\n",
      " 13.98323319  4.52981551 22.75246383  5.98893047]\n"
     ]
    },
    {
     "data": {
      "image/png": "[encoded data removed]",
      "text/plain": [
       "<Figure size 640x480 with 1 Axes>"
      ]
     },
     "metadata": {},
     "output_type": "display_data"
    }
   ],
   "source": [
    "for lst in np.reshape(rmse_lst, (10, 4)).T[:2]:\n",
    "    print(lst)\n",
    "    plt.hist(lst, alpha=0.7)"
   ]
  },
  {
   "cell_type": "code",
   "execution_count": 16,
   "metadata": {},
   "outputs": [
    {
     "data": {
      "text/plain": [
       "[<matplotlib.lines.Line2D at 0x1494dcc10>]"
      ]
     },
     "execution_count": 16,
     "metadata": {},
     "output_type": "execute_result"
    },
    {
     "data": {
      "image/png": "[encoded data removed]",
      "text/plain": [
       "<Figure size 640x480 with 1 Axes>"
      ]
     },
     "metadata": {},
     "output_type": "display_data"
    }
   ],
   "source": [
    "plt.scatter(real_age, predicted_age_methyLImp_nbp)\n",
    "plt.xlabel(\"real age\")\n",
    "plt.ylabel(\"predicted age\")\n",
    "plt.plot(np.linspace(50, 90, 1000), np.linspace(50, 90, 1000), c=\"orange\")"
   ]
  },
  {
   "cell_type": "code",
   "execution_count": 17,
   "metadata": {},
   "outputs": [
    {
     "data": {
      "text/plain": [
       "[<matplotlib.lines.Line2D at 0x1612a5b90>]"
      ]
     },
     "execution_count": 17,
     "metadata": {},
     "output_type": "execute_result"
    },
    {
     "data": {
      "image/png": "[encoded data removed]",
      "text/plain": [
       "<Figure size 640x480 with 1 Axes>"
      ]
     },
     "metadata": {},
     "output_type": "display_data"
    }
   ],
   "source": [
    "plt.scatter(real_age[12:], predicted_age_methyLImp_nbp[12:])\n",
    "plt.xlabel(\"real age\")\n",
    "plt.ylabel(\"predicted age\")\n",
    "plt.plot(np.linspace(50, 90, 1000), np.linspace(50, 90, 1000), c=\"orange\")"
   ]
  },
  {
   "cell_type": "code",
   "execution_count": 18,
   "metadata": {},
   "outputs": [
    {
     "data": {
      "text/plain": [
       "[<matplotlib.lines.Line2D at 0x18e25db10>]"
      ]
     },
     "execution_count": 18,
     "metadata": {},
     "output_type": "execute_result"
    },
    {
     "data": {
      "image/png": "[encoded data removed]",
      "text/plain": [
       "<Figure size 640x480 with 1 Axes>"
      ]
     },
     "metadata": {},
     "output_type": "display_data"
    }
   ],
   "source": [
    "plt.scatter(real_age, predicted_age_nbp_nbp)\n",
    "plt.xlabel(\"real age\")\n",
    "plt.ylabel(\"predicted age\")\n",
    "plt.plot(np.linspace(50, 90, 1000), np.linspace(50, 90, 1000), c=\"orange\")"
   ]
  },
  {
   "cell_type": "code",
   "execution_count": 19,
   "metadata": {},
   "outputs": [
    {
     "data": {
      "text/plain": [
       "[<matplotlib.lines.Line2D at 0x18e404190>]"
      ]
     },
     "execution_count": 19,
     "metadata": {},
     "output_type": "execute_result"
    },
    {
     "data": {
      "image/png": "[encoded data removed]",
      "text/plain": [
       "<Figure size 640x480 with 1 Axes>"
      ]
     },
     "metadata": {},
     "output_type": "display_data"
    }
   ],
   "source": [
    "plt.scatter(real_age[12:], predicted_age_nbp_nbp[12:])\n",
    "plt.xlabel(\"real age\")\n",
    "plt.ylabel(\"predicted age\")\n",
    "plt.plot(np.linspace(50, 90, 1000), np.linspace(50, 90, 1000), c=\"orange\")"
   ]
  }
 ],
 "metadata": {
  "kernelspec": {
   "display_name": "Python 3",
   "language": "python",
   "name": "python3"
  },
  "language_info": {
   "codemirror_mode": {
    "name": "ipython",
    "version": 3
   },
   "file_extension": ".py",
   "mimetype": "text/x-python",
   "name": "python",
   "nbconvert_exporter": "python",
   "pygments_lexer": "ipython3",
   "version": "3.11.2"
  },
  "orig_nbformat": 4
 },
 "nbformat": 4,
 "nbformat_minor": 2
}
