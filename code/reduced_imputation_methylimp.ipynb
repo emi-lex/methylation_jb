{
 "cells": [
  {
   "cell_type": "code",
   "execution_count": 1,
   "metadata": {},
   "outputs": [],
   "source": [
    "import pandas as pd\n",
    "import numpy as np\n",
    "import matplotlib.pyplot as plt"
   ]
  },
  {
   "cell_type": "code",
   "execution_count": 2,
   "metadata": {},
   "outputs": [
    {
     "data": {
      "text/html": [
       "<div>\n",
       "<style scoped>\n",
       "    .dataframe tbody tr th:only-of-type {\n",
       "        vertical-align: middle;\n",
       "    }\n",
       "\n",
       "    .dataframe tbody tr th {\n",
       "        vertical-align: top;\n",
       "    }\n",
       "\n",
       "    .dataframe thead th {\n",
       "        text-align: right;\n",
       "    }\n",
       "</style>\n",
       "<table border=\"1\" class=\"dataframe\">\n",
       "  <thead>\n",
       "    <tr style=\"text-align: right;\">\n",
       "      <th></th>\n",
       "      <th>0</th>\n",
       "      <th>1</th>\n",
       "      <th>2</th>\n",
       "      <th>3</th>\n",
       "      <th>4</th>\n",
       "    </tr>\n",
       "  </thead>\n",
       "  <tbody>\n",
       "    <tr>\n",
       "      <th>0</th>\n",
       "      <td>chr1</td>\n",
       "      <td>15864</td>\n",
       "      <td>15866</td>\n",
       "      <td>-</td>\n",
       "      <td>cg13869341</td>\n",
       "    </tr>\n",
       "    <tr>\n",
       "      <th>1</th>\n",
       "      <td>chr1</td>\n",
       "      <td>18826</td>\n",
       "      <td>18828</td>\n",
       "      <td>-</td>\n",
       "      <td>cg14008030</td>\n",
       "    </tr>\n",
       "    <tr>\n",
       "      <th>2</th>\n",
       "      <td>chr1</td>\n",
       "      <td>29406</td>\n",
       "      <td>29408</td>\n",
       "      <td>-</td>\n",
       "      <td>cg12045430</td>\n",
       "    </tr>\n",
       "    <tr>\n",
       "      <th>3</th>\n",
       "      <td>chr1</td>\n",
       "      <td>29424</td>\n",
       "      <td>29426</td>\n",
       "      <td>-</td>\n",
       "      <td>cg20826792</td>\n",
       "    </tr>\n",
       "    <tr>\n",
       "      <th>4</th>\n",
       "      <td>chr1</td>\n",
       "      <td>29434</td>\n",
       "      <td>29436</td>\n",
       "      <td>-</td>\n",
       "      <td>cg00381604</td>\n",
       "    </tr>\n",
       "    <tr>\n",
       "      <th>...</th>\n",
       "      <td>...</td>\n",
       "      <td>...</td>\n",
       "      <td>...</td>\n",
       "      <td>...</td>\n",
       "      <td>...</td>\n",
       "    </tr>\n",
       "    <tr>\n",
       "      <th>485572</th>\n",
       "      <td>chrM</td>\n",
       "      <td>6761</td>\n",
       "      <td>6763</td>\n",
       "      <td>-</td>\n",
       "      <td>cg05001044</td>\n",
       "    </tr>\n",
       "    <tr>\n",
       "      <th>485573</th>\n",
       "      <td>chrM</td>\n",
       "      <td>6797</td>\n",
       "      <td>6799</td>\n",
       "      <td>+</td>\n",
       "      <td>cg03344490</td>\n",
       "    </tr>\n",
       "    <tr>\n",
       "      <th>485574</th>\n",
       "      <td>chrM</td>\n",
       "      <td>7196</td>\n",
       "      <td>7198</td>\n",
       "      <td>-</td>\n",
       "      <td>cg18024856</td>\n",
       "    </tr>\n",
       "    <tr>\n",
       "      <th>485575</th>\n",
       "      <td>chrM</td>\n",
       "      <td>9054</td>\n",
       "      <td>9056</td>\n",
       "      <td>+</td>\n",
       "      <td>cg03348902</td>\n",
       "    </tr>\n",
       "    <tr>\n",
       "      <th>485576</th>\n",
       "      <td>chrM</td>\n",
       "      <td>9138</td>\n",
       "      <td>9140</td>\n",
       "      <td>+</td>\n",
       "      <td>cg01070250</td>\n",
       "    </tr>\n",
       "  </tbody>\n",
       "</table>\n",
       "<p>485577 rows × 5 columns</p>\n",
       "</div>"
      ],
      "text/plain": [
       "           0      1      2  3           4\n",
       "0       chr1  15864  15866  -  cg13869341\n",
       "1       chr1  18826  18828  -  cg14008030\n",
       "2       chr1  29406  29408  -  cg12045430\n",
       "3       chr1  29424  29426  -  cg20826792\n",
       "4       chr1  29434  29436  -  cg00381604\n",
       "...      ...    ...    ... ..         ...\n",
       "485572  chrM   6761   6763  -  cg05001044\n",
       "485573  chrM   6797   6799  +  cg03344490\n",
       "485574  chrM   7196   7198  -  cg18024856\n",
       "485575  chrM   9054   9056  +  cg03348902\n",
       "485576  chrM   9138   9140  +  cg01070250\n",
       "\n",
       "[485577 rows x 5 columns]"
      ]
     },
     "execution_count": 2,
     "metadata": {},
     "output_type": "execute_result"
    }
   ],
   "source": [
    "hm450_hg19=pd.read_csv('../data/hm450.hg19.manifest.bed', sep='\\t', header=None)\n",
    "hm450_hg19"
   ]
  },
  {
   "cell_type": "code",
   "execution_count": 3,
   "metadata": {},
   "outputs": [],
   "source": [
    "marker_to_chr_pos_tuple = dict(zip(hm450_hg19[4], zip(hm450_hg19[0], hm450_hg19[2] - 1)))\n",
    "horvath_coef = pd.read_csv(\"../data/gb-2013-14-10-r115-S3.csv\")\n",
    "markers = horvath_coef[\"CpGmarker\"]\n",
    "coefs = horvath_coef[\"CoefficientTraining\"]\n",
    "horvath_chrs = markers.apply(marker_to_chr_pos_tuple.get)"
   ]
  },
  {
   "cell_type": "code",
   "execution_count": 4,
   "metadata": {},
   "outputs": [],
   "source": [
    "data = pd.read_csv(\"../data/sorted_filtered_cytosines_freq.tsv\", sep='\\t')"
   ]
  },
  {
   "cell_type": "code",
   "execution_count": 5,
   "metadata": {},
   "outputs": [],
   "source": [
    "chromosome, position = np.transpose([name.split(\".\") for name in data.values[:, 0]])\n",
    "position = position.astype(int)\n",
    "\n",
    "def compare_chr(chr1, p1, chr2, p2):\n",
    "    return chr1 < chr2 or (chr1 == chr2 and p1 < p2)\n",
    "\n",
    "def binary_search(c, p):\n",
    "    left = 0\n",
    "    right = len(chromosome)\n",
    "    while right - left > 1:\n",
    "        mid = (right + left) // 2\n",
    "        if compare_chr(c, p, chromosome[mid], position[mid]):\n",
    "            right = mid\n",
    "        else:\n",
    "            left = mid\n",
    "    return left"
   ]
  },
  {
   "cell_type": "code",
   "execution_count": 6,
   "metadata": {},
   "outputs": [
    {
     "data": {
      "text/plain": [
       "array([[90.909, 100.0, 90.0, ..., 95.349, 100.0, 90.323],\n",
       "       [100.0, 98.571, 100.0, ..., 91.667, 100.0, 100.0],\n",
       "       [0.0, 0.0, 0.0, ..., 0.87, 1.923, 1.429],\n",
       "       ...,\n",
       "       [87.5, 100.0, 37.5, ..., 71.429, 50.0, 100.0],\n",
       "       [10.526, 0.0, 6.349, ..., 1.389, 3.947, 9.677],\n",
       "       [0.0, 0.0, 0.0, ..., 0.0, 0.0, 0.758]], dtype=object)"
      ]
     },
     "execution_count": 6,
     "metadata": {},
     "output_type": "execute_result"
    }
   ],
   "source": [
    "horvath_ind = horvath_chrs.apply(lambda tup: binary_search(*tup))\n",
    "data.values[horvath_ind][:, 1:]"
   ]
  },
  {
   "cell_type": "code",
   "execution_count": 7,
   "metadata": {},
   "outputs": [
    {
     "data": {
      "text/plain": [
       "166"
      ]
     },
     "execution_count": 7,
     "metadata": {},
     "output_type": "execute_result"
    }
   ],
   "source": [
    "np.isnan(data.values[horvath_ind][:, 1:].astype(np.float64)).sum()"
   ]
  },
  {
   "cell_type": "code",
   "execution_count": 8,
   "metadata": {},
   "outputs": [
    {
     "data": {
      "text/plain": [
       "array([[0.90908909, 0.999999  , 0.        , ..., 0.87499913, 0.10525989,\n",
       "        0.        ],\n",
       "       [0.999999  , 0.98570901, 0.        , ..., 0.999999  , 0.        ,\n",
       "        0.        ],\n",
       "       [0.8999991 , 0.999999  , 0.        , ..., 0.37499963, 0.06348994,\n",
       "        0.        ],\n",
       "       ...,\n",
       "       [0.95348905, 0.91666908, 0.00869999, ..., 0.71428929, 0.01388999,\n",
       "        0.        ],\n",
       "       [0.999999  , 0.999999  , 0.01922998, ..., 0.4999995 , 0.03946996,\n",
       "        0.        ],\n",
       "       [0.9032291 , 0.999999  , 0.01428999, ..., 0.999999  , 0.0967699 ,\n",
       "        0.00757999]])"
      ]
     },
     "execution_count": 8,
     "metadata": {},
     "output_type": "execute_result"
    }
   ],
   "source": [
    "import methyLImp\n",
    "imputed_methylimp = methyLImp.methyLImp(data.values[horvath_ind][:, 1:].transpose().astype(np.float64) / 100.0001)\n",
    "imputed_methylimp"
   ]
  },
  {
   "cell_type": "code",
   "execution_count": 9,
   "metadata": {},
   "outputs": [
    {
     "data": {
      "text/plain": [
       "array([[0.90909, 1.     , 0.     , ..., 0.875  , 0.10526, 0.     ],\n",
       "       [1.     , 0.98571, 0.     , ..., 1.     , 0.     , 0.     ],\n",
       "       [0.9    , 1.     , 0.     , ..., 0.375  , 0.06349, 0.     ],\n",
       "       ...,\n",
       "       [0.95349, 0.91667, 0.0087 , ..., 0.71429, 0.01389, 0.     ],\n",
       "       [1.     , 1.     , 0.01923, ..., 0.5    , 0.03947, 0.     ],\n",
       "       [0.90323, 1.     , 0.01429, ..., 1.     , 0.09677, 0.00758]])"
      ]
     },
     "execution_count": 9,
     "metadata": {},
     "output_type": "execute_result"
    }
   ],
   "source": [
    "data.values[horvath_ind][:, 1:].transpose().astype(np.float64) / 100"
   ]
  },
  {
   "cell_type": "code",
   "execution_count": 10,
   "metadata": {},
   "outputs": [],
   "source": [
    "out = (imputed_methylimp.astype(np.float64)).dot(coefs.astype(np.float64)) + 0.695507258"
   ]
  },
  {
   "cell_type": "code",
   "execution_count": 11,
   "metadata": {},
   "outputs": [],
   "source": [
    "def F_inv(x):\n",
    "    if x < 0:\n",
    "        return 21 * np.exp(x) - 1\n",
    "    else:\n",
    "        return 21 * x + 20"
   ]
  },
  {
   "cell_type": "code",
   "execution_count": 12,
   "metadata": {},
   "outputs": [],
   "source": [
    "predicted_age = np.vectorize(F_inv)(out)"
   ]
  },
  {
   "cell_type": "code",
   "execution_count": 13,
   "metadata": {},
   "outputs": [
    {
     "data": {
      "text/plain": [
       "0      1.619626\n",
       "1      2.768839\n",
       "2    -12.680183\n",
       "3    -11.163624\n",
       "4    -13.429206\n",
       "5     -5.198064\n",
       "6     -0.148214\n",
       "7      7.258987\n",
       "8    -11.289490\n",
       "9     -0.258009\n",
       "10    10.947322\n",
       "11   -10.111699\n",
       "12    -4.150764\n",
       "13    -7.140494\n",
       "14    -8.799883\n",
       "15    -1.419917\n",
       "16     0.667408\n",
       "17    -8.993310\n",
       "18    -0.712696\n",
       "19    -9.796158\n",
       "20    44.069767\n",
       "21    42.873284\n",
       "22    42.583954\n",
       "23    38.453825\n",
       "24    43.888469\n",
       "25    42.526959\n",
       "26    27.345440\n",
       "27    34.999827\n",
       "28    48.596514\n",
       "29    40.529761\n",
       "30    42.736526\n",
       "31    44.967760\n",
       "32    52.485502\n",
       "33    36.286471\n",
       "34    45.380000\n",
       "35    25.660521\n",
       "36    47.713886\n",
       "37    51.932871\n",
       "38    41.541859\n",
       "39    50.753517\n",
       "Name: Donor Age, dtype: float64"
      ]
     },
     "execution_count": 13,
     "metadata": {},
     "output_type": "execute_result"
    }
   ],
   "source": [
    "real_age = pd.read_csv(\"../data/RRBS.phase1_yo_datasets.Monocyte.tsv\", sep='\\t')\n",
    "real_age[\"Donor Age\"] - predicted_age"
   ]
  },
  {
   "cell_type": "code",
   "execution_count": 16,
   "metadata": {},
   "outputs": [
    {
     "data": {
      "text/plain": [
       "Text(0, 0.5, 'predicted')"
      ]
     },
     "execution_count": 16,
     "metadata": {},
     "output_type": "execute_result"
    },
    {
     "data": {
      "image/png": "[encoded data removed]",
      "text/plain": [
       "<Figure size 640x480 with 1 Axes>"
      ]
     },
     "metadata": {},
     "output_type": "display_data"
    }
   ],
   "source": [
    "plt.scatter(real_age[\"Donor Age\"].astype(np.float64), predicted_age.astype(np.float64))\n",
    "plt.xlabel('real')\n",
    "plt.ylabel('predicted')"
   ]
  },
  {
   "cell_type": "code",
   "execution_count": 17,
   "metadata": {},
   "outputs": [
    {
     "data": {
      "text/plain": [
       "Text(0.5, 0, 'Error')"
      ]
     },
     "execution_count": 17,
     "metadata": {},
     "output_type": "execute_result"
    },
    {
     "data": {
      "image/png": "[encoded data removed]",
      "text/plain": [
       "<Figure size 640x480 with 1 Axes>"
      ]
     },
     "metadata": {},
     "output_type": "display_data"
    }
   ],
   "source": [
    "plt.scatter(predicted_age.astype(np.float64) - real_age[\"Donor Age\"].astype(np.float64), real_age[\"Donor ID\"])\n",
    "plt.xlabel(\"Error\")"
   ]
  }
 ],
 "metadata": {
  "kernelspec": {
   "display_name": "Python 3",
   "language": "python",
   "name": "python3"
  },
  "language_info": {
   "codemirror_mode": {
    "name": "ipython",
    "version": 3
   },
   "file_extension": ".py",
   "mimetype": "text/x-python",
   "name": "python",
   "nbconvert_exporter": "python",
   "pygments_lexer": "ipython3",
   "version": "3.11.2"
  },
  "orig_nbformat": 4,
  "vscode": {
   "interpreter": {
    "hash": "aee8b7b246df8f9039afb4144a1f6fd8d2ca17a180786b69acc140d282b71a49"
   }
  }
 },
 "nbformat": 4,
 "nbformat_minor": 2
}
