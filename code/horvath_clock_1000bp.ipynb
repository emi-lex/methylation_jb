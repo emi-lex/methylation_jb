{
 "cells": [
  {
   "cell_type": "code",
   "execution_count": 43,
   "metadata": {},
   "outputs": [],
   "source": [
    "import pandas as pd\n",
    "import numpy as np\n",
    "import matplotlib.pyplot as plt\n",
    "from tqdm import tqdm"
   ]
  },
  {
   "cell_type": "code",
   "execution_count": 44,
   "metadata": {},
   "outputs": [
    {
     "data": {
      "text/html": [
       "<div>\n",
       "<style scoped>\n",
       "    .dataframe tbody tr th:only-of-type {\n",
       "        vertical-align: middle;\n",
       "    }\n",
       "\n",
       "    .dataframe tbody tr th {\n",
       "        vertical-align: top;\n",
       "    }\n",
       "\n",
       "    .dataframe thead th {\n",
       "        text-align: right;\n",
       "    }\n",
       "</style>\n",
       "<table border=\"1\" class=\"dataframe\">\n",
       "  <thead>\n",
       "    <tr style=\"text-align: right;\">\n",
       "      <th></th>\n",
       "      <th>0</th>\n",
       "      <th>1</th>\n",
       "      <th>2</th>\n",
       "      <th>3</th>\n",
       "      <th>4</th>\n",
       "    </tr>\n",
       "  </thead>\n",
       "  <tbody>\n",
       "    <tr>\n",
       "      <th>0</th>\n",
       "      <td>chr1</td>\n",
       "      <td>15864</td>\n",
       "      <td>15866</td>\n",
       "      <td>-</td>\n",
       "      <td>cg13869341</td>\n",
       "    </tr>\n",
       "    <tr>\n",
       "      <th>1</th>\n",
       "      <td>chr1</td>\n",
       "      <td>18826</td>\n",
       "      <td>18828</td>\n",
       "      <td>-</td>\n",
       "      <td>cg14008030</td>\n",
       "    </tr>\n",
       "    <tr>\n",
       "      <th>2</th>\n",
       "      <td>chr1</td>\n",
       "      <td>29406</td>\n",
       "      <td>29408</td>\n",
       "      <td>-</td>\n",
       "      <td>cg12045430</td>\n",
       "    </tr>\n",
       "    <tr>\n",
       "      <th>3</th>\n",
       "      <td>chr1</td>\n",
       "      <td>29424</td>\n",
       "      <td>29426</td>\n",
       "      <td>-</td>\n",
       "      <td>cg20826792</td>\n",
       "    </tr>\n",
       "    <tr>\n",
       "      <th>4</th>\n",
       "      <td>chr1</td>\n",
       "      <td>29434</td>\n",
       "      <td>29436</td>\n",
       "      <td>-</td>\n",
       "      <td>cg00381604</td>\n",
       "    </tr>\n",
       "    <tr>\n",
       "      <th>...</th>\n",
       "      <td>...</td>\n",
       "      <td>...</td>\n",
       "      <td>...</td>\n",
       "      <td>...</td>\n",
       "      <td>...</td>\n",
       "    </tr>\n",
       "    <tr>\n",
       "      <th>485572</th>\n",
       "      <td>chrM</td>\n",
       "      <td>6761</td>\n",
       "      <td>6763</td>\n",
       "      <td>-</td>\n",
       "      <td>cg05001044</td>\n",
       "    </tr>\n",
       "    <tr>\n",
       "      <th>485573</th>\n",
       "      <td>chrM</td>\n",
       "      <td>6797</td>\n",
       "      <td>6799</td>\n",
       "      <td>+</td>\n",
       "      <td>cg03344490</td>\n",
       "    </tr>\n",
       "    <tr>\n",
       "      <th>485574</th>\n",
       "      <td>chrM</td>\n",
       "      <td>7196</td>\n",
       "      <td>7198</td>\n",
       "      <td>-</td>\n",
       "      <td>cg18024856</td>\n",
       "    </tr>\n",
       "    <tr>\n",
       "      <th>485575</th>\n",
       "      <td>chrM</td>\n",
       "      <td>9054</td>\n",
       "      <td>9056</td>\n",
       "      <td>+</td>\n",
       "      <td>cg03348902</td>\n",
       "    </tr>\n",
       "    <tr>\n",
       "      <th>485576</th>\n",
       "      <td>chrM</td>\n",
       "      <td>9138</td>\n",
       "      <td>9140</td>\n",
       "      <td>+</td>\n",
       "      <td>cg01070250</td>\n",
       "    </tr>\n",
       "  </tbody>\n",
       "</table>\n",
       "<p>485577 rows × 5 columns</p>\n",
       "</div>"
      ],
      "text/plain": [
       "           0      1      2  3           4\n",
       "0       chr1  15864  15866  -  cg13869341\n",
       "1       chr1  18826  18828  -  cg14008030\n",
       "2       chr1  29406  29408  -  cg12045430\n",
       "3       chr1  29424  29426  -  cg20826792\n",
       "4       chr1  29434  29436  -  cg00381604\n",
       "...      ...    ...    ... ..         ...\n",
       "485572  chrM   6761   6763  -  cg05001044\n",
       "485573  chrM   6797   6799  +  cg03344490\n",
       "485574  chrM   7196   7198  -  cg18024856\n",
       "485575  chrM   9054   9056  +  cg03348902\n",
       "485576  chrM   9138   9140  +  cg01070250\n",
       "\n",
       "[485577 rows x 5 columns]"
      ]
     },
     "execution_count": 44,
     "metadata": {},
     "output_type": "execute_result"
    }
   ],
   "source": [
    "hm450_hg19=pd.read_csv('../data/hm450.hg19.manifest.bed', sep='\\t', header=None)\n",
    "hm450_hg19"
   ]
  },
  {
   "cell_type": "code",
   "execution_count": 45,
   "metadata": {},
   "outputs": [],
   "source": [
    "marker_to_chr_pos_tuple = dict(zip(hm450_hg19[4], zip(hm450_hg19[0], hm450_hg19[2] - 1)))"
   ]
  },
  {
   "cell_type": "code",
   "execution_count": 46,
   "metadata": {},
   "outputs": [],
   "source": [
    "horvath_coef = pd.read_csv(\"../data/gb-2013-14-10-r115-S3.csv\")\n",
    "markers = horvath_coef[\"CpGmarker\"]\n",
    "coefs = horvath_coef[\"CoefficientTraining\"]"
   ]
  },
  {
   "cell_type": "code",
   "execution_count": 47,
   "metadata": {},
   "outputs": [],
   "source": [
    "horvath_chrs = markers.apply(marker_to_chr_pos_tuple.get)"
   ]
  },
  {
   "cell_type": "code",
   "execution_count": 48,
   "metadata": {},
   "outputs": [],
   "source": [
    "data = pd.read_csv(\"../data/1000bp_imputed_cytosines.tsv\", sep='\\t')"
   ]
  },
  {
   "cell_type": "code",
   "execution_count": 49,
   "metadata": {},
   "outputs": [],
   "source": [
    "chromosome, position = np.transpose([name.split(\".\") for name in data.values[:, 0]])\n",
    "position = position.astype(int)"
   ]
  },
  {
   "cell_type": "code",
   "execution_count": 50,
   "metadata": {},
   "outputs": [],
   "source": [
    "def compare_chr(chr1, p1, chr2, p2):\n",
    "    return chr1 < chr2 or (chr1 == chr2 and p1 < p2)\n",
    "\n",
    "def binary_search(c, p, lu=\"lower\"):\n",
    "    if lu == \"lower\":\n",
    "        left = 0\n",
    "        right = len(chromosome)\n",
    "        while right - left > 1:\n",
    "            mid = (right + left) // 2\n",
    "            if compare_chr(c, p, chromosome[mid], position[mid]):\n",
    "                right = mid\n",
    "            else:\n",
    "                left = mid\n",
    "        return left\n",
    "    if lu == \"upper\":\n",
    "        left = -1\n",
    "        right = len(chromosome) - 1\n",
    "        while right - left > 1:\n",
    "            mid = (right + left) // 2\n",
    "            if compare_chr(chromosome[mid], position[mid], c, p):\n",
    "                left = mid\n",
    "            else:\n",
    "                right = mid\n",
    "        return right"
   ]
  },
  {
   "cell_type": "code",
   "execution_count": 51,
   "metadata": {},
   "outputs": [],
   "source": [
    "horvath_ind_left = horvath_chrs.apply(lambda tup: binary_search(*tup))\n",
    "horvath_ind_right = horvath_chrs.apply(lambda tup: binary_search(tup[0], tup[1] + 1))"
   ]
  },
  {
   "cell_type": "code",
   "execution_count": 52,
   "metadata": {},
   "outputs": [],
   "source": [
    "# raw_data = pd.read_csv(\"../data/sorted_filtered_cytosines_freq.tsv\", sep='\\t')"
   ]
  },
  {
   "cell_type": "code",
   "execution_count": 53,
   "metadata": {},
   "outputs": [
    {
     "name": "stderr",
     "output_type": "stream",
     "text": [
      "100%|██████████| 353/353 [00:06<00:00, 52.44it/s]\n"
     ]
    }
   ],
   "source": [
    "data_values = data.values\n",
    "\n",
    "def impute_row(chr, pos):\n",
    "    i = binary_search(chr, pos - 500, \"upper\")\n",
    "    j = binary_search(chr, pos + 500, \"lower\")\n",
    "    if i > j:\n",
    "        neighbours = []\n",
    "        if chromosome[i] == chr:\n",
    "            neighbours.append(data_values[i][1:])\n",
    "        if chromosome[j] == chr:\n",
    "            neighbours.append(data_values[j][1:])\n",
    "        if len(neighbours) == 0:\n",
    "            return \"AAA error\", True\n",
    "        return np.mean(neighbours, axis=0), True\n",
    "    return data_values[i:j + 1][:, 1:].mean(axis=0), False\n",
    "\n",
    "features_arr = []\n",
    "counter1, counter2 = 0, 0\n",
    "for left_ind, right_ind, (chr, pos) in tqdm(list(zip(horvath_ind_left, horvath_ind_right, horvath_chrs))):\n",
    "    if chromosome[left_ind] == chr and position[left_ind] == pos:\n",
    "        res = data_values[int(left_ind), 1:]\n",
    "        if chromosome[right_ind] == chr and position[right_ind] == pos + 1:\n",
    "            res = np.mean([res, data_values[int(right_ind), 1:]], axis=0)\n",
    "        features_arr.append(res)\n",
    "    elif chromosome[right_ind] == chr and position[right_ind] == pos + 1:\n",
    "        res = data_values[int(right_ind), 1:]\n",
    "        features_arr.append(res)\n",
    "    else:\n",
    "        res1, sig1 = impute_row(chr, pos)\n",
    "        res2, sig2 = impute_row(chr, pos + 1)\n",
    "        counter1 += sig1\n",
    "        counter2 += sig2\n",
    "        features_arr.append(np.mean([res1, res2], axis=0))\n",
    "features_arr = np.array(features_arr)"
   ]
  },
  {
   "cell_type": "code",
   "execution_count": 54,
   "metadata": {},
   "outputs": [
    {
     "name": "stdout",
     "output_type": "stream",
     "text": [
      "68 68 136\n"
     ]
    }
   ],
   "source": [
    "print(counter1, counter2, counter2 + counter1)"
   ]
  },
  {
   "cell_type": "code",
   "execution_count": 55,
   "metadata": {},
   "outputs": [],
   "source": [
    "# absolute_missing = np.sum(np.isnan(features_arr.astype(float)), axis=0)\n",
    "# relative_missing = absolute_missing / 84\n",
    "# np.isnan(features_arr.astype(float)).sum()"
   ]
  },
  {
   "cell_type": "code",
   "execution_count": 56,
   "metadata": {},
   "outputs": [],
   "source": [
    "# plt.bar(range(len(absolute_missing)), absolute_missing)"
   ]
  },
  {
   "cell_type": "code",
   "execution_count": 57,
   "metadata": {},
   "outputs": [],
   "source": [
    "out = (data.values[horvath_ind_left][:, 1:] / 100).astype(np.float64).transpose().dot(coefs.astype(np.float64)) + 0.695507258"
   ]
  },
  {
   "cell_type": "code",
   "execution_count": 58,
   "metadata": {},
   "outputs": [],
   "source": [
    "def F_inv(x):\n",
    "    if x < 0:\n",
    "        return 21 * np.exp(x) - 1\n",
    "    else:\n",
    "        return 21 * x + 20"
   ]
  },
  {
   "cell_type": "code",
   "execution_count": 59,
   "metadata": {},
   "outputs": [],
   "source": [
    "predicted_age = np.vectorize(F_inv)(out)"
   ]
  },
  {
   "cell_type": "code",
   "execution_count": 60,
   "metadata": {},
   "outputs": [
    {
     "data": {
      "text/plain": [
       "0      5.169558\n",
       "1     -8.735535\n",
       "2     17.073503\n",
       "3     -9.545233\n",
       "4     -8.996503\n",
       "5     -2.637561\n",
       "6     -1.025419\n",
       "7     12.139841\n",
       "8    -18.137761\n",
       "9     -4.542486\n",
       "10    -7.088266\n",
       "11   -10.111593\n",
       "12    -4.143461\n",
       "13    -7.863644\n",
       "14   -15.820832\n",
       "15     4.846245\n",
       "16     2.082599\n",
       "17   -18.015631\n",
       "18     3.218279\n",
       "19    -7.058708\n",
       "20    44.069846\n",
       "21    40.987054\n",
       "22    42.110826\n",
       "23    38.596692\n",
       "24    44.815877\n",
       "25    44.763164\n",
       "26    27.370222\n",
       "27    40.040092\n",
       "28    48.073297\n",
       "29    39.485840\n",
       "30    42.854045\n",
       "31    45.425714\n",
       "32    56.399531\n",
       "33    38.280452\n",
       "34    46.975690\n",
       "35    28.239770\n",
       "36    43.244337\n",
       "37    52.199623\n",
       "38    45.211085\n",
       "39    53.339009\n",
       "Name: Donor Age, dtype: float64"
      ]
     },
     "execution_count": 60,
     "metadata": {},
     "output_type": "execute_result"
    }
   ],
   "source": [
    "real_age = pd.read_csv(\"../data/RRBS.phase1_yo_datasets.Monocyte.tsv\", sep='\\t')\n",
    "real_age[\"Donor Age\"] - predicted_age"
   ]
  },
  {
   "cell_type": "code",
   "execution_count": 63,
   "metadata": {},
   "outputs": [],
   "source": [
    "def label(index):\n",
    "    return 0 if index[0] == \"Y\" else 1"
   ]
  },
  {
   "cell_type": "code",
   "execution_count": 64,
   "metadata": {},
   "outputs": [],
   "source": [
    "labels = real_age[\"Donor ID\"].apply(label)"
   ]
  },
  {
   "cell_type": "code",
   "execution_count": 86,
   "metadata": {},
   "outputs": [
    {
     "data": {
      "text/plain": [
       "Text(0, 0.5, 'predicted age')"
      ]
     },
     "execution_count": 86,
     "metadata": {},
     "output_type": "execute_result"
    },
    {
     "data": {
      "image/png": "[encoded data removed]",
      "text/plain": [
       "<Figure size 640x480 with 1 Axes>"
      ]
     },
     "metadata": {},
     "output_type": "display_data"
    },
    {
     "ename": "",
     "evalue": "",
     "output_type": "error",
     "traceback": [
      "\u001b[1;31mThe Kernel crashed while executing code in the the current cell or a previous cell. Please review the code in the cell(s) to identify a possible cause of the failure. Click <a href='https://aka.ms/vscodeJupyterKernelCrash'>here</a> for more info. View Jupyter <a href='command:jupyter.viewOutput'>log</a> for further details."
     ]
    }
   ],
   "source": [
    "scatter1 = plt.scatter(real_age[\"Donor Age\"].astype(np.float64), predicted_age.astype(np.float64), c=labels)\n",
    "plt.scatter(np.linspace(0, 110, 1000), np.linspace(0, 110, 1000), s=1)\n",
    "plt.legend(handles=scatter1.legend_elements()[0], labels=[\"Young donors\", \"Old donors\"])\n",
    "plt.title(\"1000bp\")\n",
    "plt.xlabel('real age')\n",
    "plt.ylabel('predicted age')"
   ]
  },
  {
   "cell_type": "code",
   "execution_count": 85,
   "metadata": {},
   "outputs": [
    {
     "data": {
      "text/plain": [
       "<matplotlib.legend.Legend at 0x1352a1e50>"
      ]
     },
     "execution_count": 85,
     "metadata": {},
     "output_type": "execute_result"
    },
    {
     "data": {
      "image/png": "[encoded data removed]",
      "text/plain": [
       "<Figure size 640x480 with 1 Axes>"
      ]
     },
     "metadata": {},
     "output_type": "display_data"
    }
   ],
   "source": [
    "errors = predicted_age.astype(np.float64) - real_age[\"Donor Age\"].astype(np.float64)\n",
    "plt.hist(errors[labels.astype(bool)], ec=\"k\", label=\"Old donors\")\n",
    "plt.hist(errors[np.invert(labels.astype(bool))], ec=\"k\", label=\"Young donors\")\n",
    "plt.xlabel(\"error in years\")  \n",
    "plt.ylabel(\"number of samples\")\n",
    "plt.title(\"1000bp\")\n",
    "plt.legend()"
   ]
  }
 ],
 "metadata": {
  "kernelspec": {
   "display_name": "Python 3",
   "language": "python",
   "name": "python3"
  },
  "language_info": {
   "codemirror_mode": {
    "name": "ipython",
    "version": 3
   },
   "file_extension": ".py",
   "mimetype": "text/x-python",
   "name": "python",
   "nbconvert_exporter": "python",
   "pygments_lexer": "ipython3",
   "version": "3.11.2"
  },
  "orig_nbformat": 4,
  "vscode": {
   "interpreter": {
    "hash": "aee8b7b246df8f9039afb4144a1f6fd8d2ca17a180786b69acc140d282b71a49"
   }
  }
 },
 "nbformat": 4,
 "nbformat_minor": 2
}
