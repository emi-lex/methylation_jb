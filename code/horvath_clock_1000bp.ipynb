{
 "cells": [
  {
   "cell_type": "code",
   "execution_count": 1,
   "metadata": {},
   "outputs": [],
   "source": [
    "import pandas as pd\n",
    "import numpy as np\n",
    "import matplotlib.pyplot as plt\n",
    "from tqdm import tqdm"
   ]
  },
  {
   "cell_type": "code",
   "execution_count": 2,
   "metadata": {},
   "outputs": [
    {
     "data": {
      "text/html": [
       "<div>\n",
       "<style scoped>\n",
       "    .dataframe tbody tr th:only-of-type {\n",
       "        vertical-align: middle;\n",
       "    }\n",
       "\n",
       "    .dataframe tbody tr th {\n",
       "        vertical-align: top;\n",
       "    }\n",
       "\n",
       "    .dataframe thead th {\n",
       "        text-align: right;\n",
       "    }\n",
       "</style>\n",
       "<table border=\"1\" class=\"dataframe\">\n",
       "  <thead>\n",
       "    <tr style=\"text-align: right;\">\n",
       "      <th></th>\n",
       "      <th>0</th>\n",
       "      <th>1</th>\n",
       "      <th>2</th>\n",
       "      <th>3</th>\n",
       "      <th>4</th>\n",
       "    </tr>\n",
       "  </thead>\n",
       "  <tbody>\n",
       "    <tr>\n",
       "      <th>0</th>\n",
       "      <td>chr1</td>\n",
       "      <td>15864</td>\n",
       "      <td>15866</td>\n",
       "      <td>-</td>\n",
       "      <td>cg13869341</td>\n",
       "    </tr>\n",
       "    <tr>\n",
       "      <th>1</th>\n",
       "      <td>chr1</td>\n",
       "      <td>18826</td>\n",
       "      <td>18828</td>\n",
       "      <td>-</td>\n",
       "      <td>cg14008030</td>\n",
       "    </tr>\n",
       "    <tr>\n",
       "      <th>2</th>\n",
       "      <td>chr1</td>\n",
       "      <td>29406</td>\n",
       "      <td>29408</td>\n",
       "      <td>-</td>\n",
       "      <td>cg12045430</td>\n",
       "    </tr>\n",
       "    <tr>\n",
       "      <th>3</th>\n",
       "      <td>chr1</td>\n",
       "      <td>29424</td>\n",
       "      <td>29426</td>\n",
       "      <td>-</td>\n",
       "      <td>cg20826792</td>\n",
       "    </tr>\n",
       "    <tr>\n",
       "      <th>4</th>\n",
       "      <td>chr1</td>\n",
       "      <td>29434</td>\n",
       "      <td>29436</td>\n",
       "      <td>-</td>\n",
       "      <td>cg00381604</td>\n",
       "    </tr>\n",
       "    <tr>\n",
       "      <th>...</th>\n",
       "      <td>...</td>\n",
       "      <td>...</td>\n",
       "      <td>...</td>\n",
       "      <td>...</td>\n",
       "      <td>...</td>\n",
       "    </tr>\n",
       "    <tr>\n",
       "      <th>485572</th>\n",
       "      <td>chrM</td>\n",
       "      <td>6761</td>\n",
       "      <td>6763</td>\n",
       "      <td>-</td>\n",
       "      <td>cg05001044</td>\n",
       "    </tr>\n",
       "    <tr>\n",
       "      <th>485573</th>\n",
       "      <td>chrM</td>\n",
       "      <td>6797</td>\n",
       "      <td>6799</td>\n",
       "      <td>+</td>\n",
       "      <td>cg03344490</td>\n",
       "    </tr>\n",
       "    <tr>\n",
       "      <th>485574</th>\n",
       "      <td>chrM</td>\n",
       "      <td>7196</td>\n",
       "      <td>7198</td>\n",
       "      <td>-</td>\n",
       "      <td>cg18024856</td>\n",
       "    </tr>\n",
       "    <tr>\n",
       "      <th>485575</th>\n",
       "      <td>chrM</td>\n",
       "      <td>9054</td>\n",
       "      <td>9056</td>\n",
       "      <td>+</td>\n",
       "      <td>cg03348902</td>\n",
       "    </tr>\n",
       "    <tr>\n",
       "      <th>485576</th>\n",
       "      <td>chrM</td>\n",
       "      <td>9138</td>\n",
       "      <td>9140</td>\n",
       "      <td>+</td>\n",
       "      <td>cg01070250</td>\n",
       "    </tr>\n",
       "  </tbody>\n",
       "</table>\n",
       "<p>485577 rows × 5 columns</p>\n",
       "</div>"
      ],
      "text/plain": [
       "           0      1      2  3           4\n",
       "0       chr1  15864  15866  -  cg13869341\n",
       "1       chr1  18826  18828  -  cg14008030\n",
       "2       chr1  29406  29408  -  cg12045430\n",
       "3       chr1  29424  29426  -  cg20826792\n",
       "4       chr1  29434  29436  -  cg00381604\n",
       "...      ...    ...    ... ..         ...\n",
       "485572  chrM   6761   6763  -  cg05001044\n",
       "485573  chrM   6797   6799  +  cg03344490\n",
       "485574  chrM   7196   7198  -  cg18024856\n",
       "485575  chrM   9054   9056  +  cg03348902\n",
       "485576  chrM   9138   9140  +  cg01070250\n",
       "\n",
       "[485577 rows x 5 columns]"
      ]
     },
     "execution_count": 2,
     "metadata": {},
     "output_type": "execute_result"
    }
   ],
   "source": [
    "hm450_hg19=pd.read_csv('../data/hm450.hg19.manifest.bed', sep='\\t', header=None)\n",
    "hm450_hg19"
   ]
  },
  {
   "cell_type": "code",
   "execution_count": 3,
   "metadata": {},
   "outputs": [],
   "source": [
    "marker_to_chr_pos_tuple = dict(zip(hm450_hg19[4], zip(hm450_hg19[0], hm450_hg19[2] - 1)))"
   ]
  },
  {
   "cell_type": "code",
   "execution_count": 4,
   "metadata": {},
   "outputs": [],
   "source": [
    "horvath_coef = pd.read_csv(\"../data/gb-2013-14-10-r115-S3.csv\")\n",
    "markers = horvath_coef[\"CpGmarker\"]\n",
    "coefs = horvath_coef[\"CoefficientTraining\"]"
   ]
  },
  {
   "cell_type": "code",
   "execution_count": 5,
   "metadata": {},
   "outputs": [],
   "source": [
    "horvath_chrs = markers.apply(marker_to_chr_pos_tuple.get)"
   ]
  },
  {
   "cell_type": "code",
   "execution_count": 6,
   "metadata": {},
   "outputs": [],
   "source": [
    "data = pd.read_csv(\"../data/1000bp_imputed_cytosines.tsv\", sep='\\t')"
   ]
  },
  {
   "cell_type": "code",
   "execution_count": 7,
   "metadata": {},
   "outputs": [],
   "source": [
    "chromosome, position = np.transpose([name.split(\".\") for name in data.values[:, 0]])\n",
    "position = position.astype(int)"
   ]
  },
  {
   "cell_type": "code",
   "execution_count": 8,
   "metadata": {},
   "outputs": [],
   "source": [
    "def compare_chr(chr1, p1, chr2, p2):\n",
    "    return chr1 < chr2 or (chr1 == chr2 and p1 < p2)\n",
    "\n",
    "def binary_search(c, p, lu):\n",
    "    if lu == \"lower\":\n",
    "        left = 0\n",
    "        right = len(chromosome)\n",
    "        while right - left > 1:\n",
    "            mid = (right + left) // 2\n",
    "            if compare_chr(c, p, chromosome[mid], position[mid]):\n",
    "                right = mid\n",
    "            else:\n",
    "                left = mid\n",
    "        return left\n",
    "    if lu == \"upper\":\n",
    "        left = -1\n",
    "        right = len(chromosome) - 1\n",
    "        while right - left > 1:\n",
    "            mid = (right + left) // 2\n",
    "            if compare_chr(chromosome[mid], position[mid], c, p):\n",
    "                left = mid\n",
    "            else:\n",
    "                right = mid\n",
    "        return right"
   ]
  },
  {
   "cell_type": "code",
   "execution_count": 9,
   "metadata": {},
   "outputs": [
    {
     "ename": "TypeError",
     "evalue": "binary_search() missing 1 required positional argument: 'lu'",
     "output_type": "error",
     "traceback": [
      "\u001b[0;31m---------------------------------------------------------------------------\u001b[0m",
      "\u001b[0;31mTypeError\u001b[0m                                 Traceback (most recent call last)",
      "Cell \u001b[0;32mIn[9], line 1\u001b[0m\n\u001b[0;32m----> 1\u001b[0m horvath_ind_left \u001b[39m=\u001b[39m horvath_chrs\u001b[39m.\u001b[39;49mapply(\u001b[39mlambda\u001b[39;49;00m tup: binary_search(\u001b[39m*\u001b[39;49mtup))\n\u001b[1;32m      2\u001b[0m horvath_ind_right \u001b[39m=\u001b[39m horvath_chrs\u001b[39m.\u001b[39mapply(\u001b[39mlambda\u001b[39;00m tup: binary_search(tup[\u001b[39m0\u001b[39m], tup[\u001b[39m1\u001b[39m] \u001b[39m+\u001b[39m \u001b[39m1\u001b[39m))\n",
      "File \u001b[0;32m/usr/local/lib/python3.11/site-packages/pandas/core/series.py:4771\u001b[0m, in \u001b[0;36mSeries.apply\u001b[0;34m(self, func, convert_dtype, args, **kwargs)\u001b[0m\n\u001b[1;32m   4661\u001b[0m \u001b[39mdef\u001b[39;00m \u001b[39mapply\u001b[39m(\n\u001b[1;32m   4662\u001b[0m     \u001b[39mself\u001b[39m,\n\u001b[1;32m   4663\u001b[0m     func: AggFuncType,\n\u001b[0;32m   (...)\u001b[0m\n\u001b[1;32m   4666\u001b[0m     \u001b[39m*\u001b[39m\u001b[39m*\u001b[39mkwargs,\n\u001b[1;32m   4667\u001b[0m ) \u001b[39m-\u001b[39m\u001b[39m>\u001b[39m DataFrame \u001b[39m|\u001b[39m Series:\n\u001b[1;32m   4668\u001b[0m \u001b[39m    \u001b[39m\u001b[39m\"\"\"\u001b[39;00m\n\u001b[1;32m   4669\u001b[0m \u001b[39m    Invoke function on values of Series.\u001b[39;00m\n\u001b[1;32m   4670\u001b[0m \n\u001b[0;32m   (...)\u001b[0m\n\u001b[1;32m   4769\u001b[0m \u001b[39m    dtype: float64\u001b[39;00m\n\u001b[1;32m   4770\u001b[0m \u001b[39m    \"\"\"\u001b[39;00m\n\u001b[0;32m-> 4771\u001b[0m     \u001b[39mreturn\u001b[39;00m SeriesApply(\u001b[39mself\u001b[39;49m, func, convert_dtype, args, kwargs)\u001b[39m.\u001b[39;49mapply()\n",
      "File \u001b[0;32m/usr/local/lib/python3.11/site-packages/pandas/core/apply.py:1123\u001b[0m, in \u001b[0;36mSeriesApply.apply\u001b[0;34m(self)\u001b[0m\n\u001b[1;32m   1120\u001b[0m     \u001b[39mreturn\u001b[39;00m \u001b[39mself\u001b[39m\u001b[39m.\u001b[39mapply_str()\n\u001b[1;32m   1122\u001b[0m \u001b[39m# self.f is Callable\u001b[39;00m\n\u001b[0;32m-> 1123\u001b[0m \u001b[39mreturn\u001b[39;00m \u001b[39mself\u001b[39;49m\u001b[39m.\u001b[39;49mapply_standard()\n",
      "File \u001b[0;32m/usr/local/lib/python3.11/site-packages/pandas/core/apply.py:1174\u001b[0m, in \u001b[0;36mSeriesApply.apply_standard\u001b[0;34m(self)\u001b[0m\n\u001b[1;32m   1172\u001b[0m     \u001b[39melse\u001b[39;00m:\n\u001b[1;32m   1173\u001b[0m         values \u001b[39m=\u001b[39m obj\u001b[39m.\u001b[39mastype(\u001b[39mobject\u001b[39m)\u001b[39m.\u001b[39m_values\n\u001b[0;32m-> 1174\u001b[0m         mapped \u001b[39m=\u001b[39m lib\u001b[39m.\u001b[39;49mmap_infer(\n\u001b[1;32m   1175\u001b[0m             values,\n\u001b[1;32m   1176\u001b[0m             f,\n\u001b[1;32m   1177\u001b[0m             convert\u001b[39m=\u001b[39;49m\u001b[39mself\u001b[39;49m\u001b[39m.\u001b[39;49mconvert_dtype,\n\u001b[1;32m   1178\u001b[0m         )\n\u001b[1;32m   1180\u001b[0m \u001b[39mif\u001b[39;00m \u001b[39mlen\u001b[39m(mapped) \u001b[39mand\u001b[39;00m \u001b[39misinstance\u001b[39m(mapped[\u001b[39m0\u001b[39m], ABCSeries):\n\u001b[1;32m   1181\u001b[0m     \u001b[39m# GH#43986 Need to do list(mapped) in order to get treated as nested\u001b[39;00m\n\u001b[1;32m   1182\u001b[0m     \u001b[39m#  See also GH#25959 regarding EA support\u001b[39;00m\n\u001b[1;32m   1183\u001b[0m     \u001b[39mreturn\u001b[39;00m obj\u001b[39m.\u001b[39m_constructor_expanddim(\u001b[39mlist\u001b[39m(mapped), index\u001b[39m=\u001b[39mobj\u001b[39m.\u001b[39mindex)\n",
      "File \u001b[0;32m/usr/local/lib/python3.11/site-packages/pandas/_libs/lib.pyx:2924\u001b[0m, in \u001b[0;36mpandas._libs.lib.map_infer\u001b[0;34m()\u001b[0m\n",
      "Cell \u001b[0;32mIn[9], line 1\u001b[0m, in \u001b[0;36m<lambda>\u001b[0;34m(tup)\u001b[0m\n\u001b[0;32m----> 1\u001b[0m horvath_ind_left \u001b[39m=\u001b[39m horvath_chrs\u001b[39m.\u001b[39mapply(\u001b[39mlambda\u001b[39;00m tup: binary_search(\u001b[39m*\u001b[39;49mtup))\n\u001b[1;32m      2\u001b[0m horvath_ind_right \u001b[39m=\u001b[39m horvath_chrs\u001b[39m.\u001b[39mapply(\u001b[39mlambda\u001b[39;00m tup: binary_search(tup[\u001b[39m0\u001b[39m], tup[\u001b[39m1\u001b[39m] \u001b[39m+\u001b[39m \u001b[39m1\u001b[39m))\n",
      "\u001b[0;31mTypeError\u001b[0m: binary_search() missing 1 required positional argument: 'lu'"
     ]
    }
   ],
   "source": [
    "horvath_ind_left = horvath_chrs.apply(lambda tup: binary_search(*tup))\n",
    "horvath_ind_right = horvath_chrs.apply(lambda tup: binary_search(tup[0], tup[1] + 1))"
   ]
  },
  {
   "cell_type": "code",
   "execution_count": null,
   "metadata": {},
   "outputs": [
    {
     "name": "stdout",
     "output_type": "stream",
     "text": [
      "1\n",
      "2\n",
      "3\n",
      "4\n",
      "5\n",
      "6\n",
      "7\n",
      "8\n",
      "9\n",
      "10\n",
      "11\n",
      "12\n",
      "13\n",
      "14\n",
      "15\n",
      "16\n",
      "17\n",
      "18\n",
      "19\n",
      "20\n",
      "21\n",
      "22\n",
      "23\n",
      "24\n",
      "25\n",
      "26\n",
      "27\n",
      "28\n",
      "29\n",
      "30\n",
      "31\n",
      "32\n",
      "33\n",
      "34\n",
      "35\n",
      "36\n",
      "37\n",
      "38\n",
      "39\n",
      "40\n",
      "41\n",
      "42\n",
      "43\n",
      "44\n",
      "45\n",
      "46\n",
      "47\n",
      "48\n",
      "49\n",
      "50\n",
      "51\n",
      "52\n",
      "53\n",
      "54\n",
      "55\n",
      "56\n",
      "57\n",
      "58\n",
      "59\n",
      "60\n",
      "61\n",
      "62\n",
      "63\n",
      "64\n",
      "65\n",
      "66\n",
      "67\n",
      "68\n",
      "69\n",
      "70\n",
      "71\n",
      "72\n",
      "73\n",
      "74\n",
      "75\n",
      "76\n",
      "77\n",
      "78\n",
      "79\n",
      "80\n",
      "81\n",
      "82\n",
      "83\n",
      "84\n"
     ]
    }
   ],
   "source": [
    "data_values = data.values\n",
    "\n",
    "def impute_row(chr, pos):\n",
    "    i = binary_search(chr, pos - 500, \"upper\")\n",
    "    j = binary_search(chr, pos + 500, \"lower\")\n",
    "    return data_values[i:j + 1][:, 1:].mean(axis=0)\n",
    "\n",
    "features_arr = []\n",
    "for left_ind, right_ind, (chr, pos) in tqdm(list(zip(horvath_ind_left, horvath_ind_right, horvath_chrs))):\n",
    "    if chromosome[left_ind] == chr and position[left_ind] == pos:\n",
    "        res = data_values[int(left_ind), 1:]\n",
    "        if chromosome[right_ind] == chr and position[right_ind] == pos + 1:\n",
    "            res = np.mean([res, data_values[int(right_ind), 1:]], axis=0)\n",
    "        features_arr.append(res)\n",
    "    elif chromosome[right_ind] == chr and position[right_ind] == pos + 1:\n",
    "        res = data_values[int(right_ind), 1:]\n",
    "        features_arr.append(res)\n",
    "    else:\n",
    "        features_arr.append(np.mean([impute_row(chr, pos), impute_row(chr, pos + 1)], axis=0))\n",
    "features_arr = np.array(features_arr)"
   ]
  },
  {
   "cell_type": "code",
   "execution_count": 10,
   "metadata": {},
   "outputs": [
    {
     "ename": "NameError",
     "evalue": "name 'features_arr' is not defined",
     "output_type": "error",
     "traceback": [
      "\u001b[0;31m---------------------------------------------------------------------------\u001b[0m",
      "\u001b[0;31mNameError\u001b[0m                                 Traceback (most recent call last)",
      "Cell \u001b[0;32mIn[10], line 1\u001b[0m\n\u001b[0;32m----> 1\u001b[0m absolute_missing \u001b[39m=\u001b[39m np\u001b[39m.\u001b[39msum(np\u001b[39m.\u001b[39misnan(features_arr\u001b[39m.\u001b[39mastype(\u001b[39mfloat\u001b[39m)), axis\u001b[39m=\u001b[39m\u001b[39m0\u001b[39m)\n\u001b[1;32m      2\u001b[0m relative_missing \u001b[39m=\u001b[39m absolute_missing \u001b[39m/\u001b[39m \u001b[39m84\u001b[39m\n\u001b[1;32m      3\u001b[0m np\u001b[39m.\u001b[39misnan(features_arr\u001b[39m.\u001b[39mastype(\u001b[39mfloat\u001b[39m))\u001b[39m.\u001b[39msum()\n",
      "\u001b[0;31mNameError\u001b[0m: name 'features_arr' is not defined"
     ]
    }
   ],
   "source": [
    "absolute_missing = np.sum(np.isnan(features_arr.astype(float)), axis=0)\n",
    "relative_missing = absolute_missing / 84\n",
    "np.isnan(features_arr.astype(float)).sum()"
   ]
  },
  {
   "cell_type": "code",
   "execution_count": null,
   "metadata": {},
   "outputs": [
    {
     "ename": "IndexError",
     "evalue": "only integers, slices (`:`), ellipsis (`...`), numpy.newaxis (`None`) and integer or boolean arrays are valid indices",
     "output_type": "error",
     "traceback": [
      "\u001b[0;31m---------------------------------------------------------------------------\u001b[0m",
      "\u001b[0;31mIndexError\u001b[0m                                Traceback (most recent call last)",
      "Cell \u001b[0;32mIn[99], line 1\u001b[0m\n\u001b[0;32m----> 1\u001b[0m out \u001b[39m=\u001b[39m (data\u001b[39m.\u001b[39;49mvalues[horvath_ind_left][:, \u001b[39m1\u001b[39m:] \u001b[39m/\u001b[39m \u001b[39m100\u001b[39m)\u001b[39m.\u001b[39mastype(np\u001b[39m.\u001b[39mfloat64)\u001b[39m.\u001b[39mtranspose()\u001b[39m.\u001b[39mdot(coefs\u001b[39m.\u001b[39mastype(np\u001b[39m.\u001b[39mfloat64))\n",
      "\u001b[0;31mIndexError\u001b[0m: only integers, slices (`:`), ellipsis (`...`), numpy.newaxis (`None`) and integer or boolean arrays are valid indices"
     ]
    }
   ],
   "source": [
    "out = (data.values[horvath_ind_left][:, 1:] / 100).astype(np.float64).transpose().dot(coefs.astype(np.float64))"
   ]
  },
  {
   "cell_type": "code",
   "execution_count": null,
   "metadata": {},
   "outputs": [],
   "source": [
    "def F_inv(x):\n",
    "    if x < 0:\n",
    "        return 21 * np.exp(x) - 1\n",
    "    else:\n",
    "        return 21 * x + 20"
   ]
  },
  {
   "cell_type": "code",
   "execution_count": null,
   "metadata": {},
   "outputs": [],
   "source": [
    "predicted_age = np.vectorize(F_inv)(out)"
   ]
  },
  {
   "cell_type": "code",
   "execution_count": null,
   "metadata": {},
   "outputs": [
    {
     "data": {
      "text/plain": [
       "0     17.428691\n",
       "1      5.870117\n",
       "2     21.046094\n",
       "3      5.060419\n",
       "4      5.609150\n",
       "5     11.424152\n",
       "6     12.649041\n",
       "7     20.088614\n",
       "8     -3.532109\n",
       "9      9.850239\n",
       "10     7.463863\n",
       "11     4.494059\n",
       "12    10.457142\n",
       "13     6.671714\n",
       "14    -1.215179\n",
       "15    17.611019\n",
       "16    15.438002\n",
       "17    -3.409979\n",
       "18    16.204600\n",
       "19     7.398553\n",
       "20    54.559592\n",
       "21    54.051863\n",
       "22    52.580034\n",
       "23    50.681805\n",
       "24    53.428192\n",
       "25    53.401898\n",
       "26    41.885768\n",
       "27    51.500033\n",
       "28    55.053063\n",
       "29    51.192474\n",
       "30    52.950767\n",
       "31    52.228856\n",
       "32    63.716974\n",
       "33    51.871011\n",
       "34    53.503196\n",
       "35    42.513886\n",
       "36    56.221707\n",
       "37    60.619613\n",
       "38    57.453526\n",
       "39    62.190320\n",
       "Name: Donor Age, dtype: float64"
      ]
     },
     "execution_count": 12,
     "metadata": {},
     "output_type": "execute_result"
    }
   ],
   "source": [
    "real_age = pd.read_csv(\"../data/RRBS.phase1_yo_datasets.Monocyte.tsv\", sep='\\t')\n",
    "real_age[\"Donor Age\"] - predicted_age"
   ]
  },
  {
   "cell_type": "code",
   "execution_count": null,
   "metadata": {},
   "outputs": [
    {
     "data": {
      "text/plain": [
       "Text(0, 0.5, 'predicted')"
      ]
     },
     "execution_count": 13,
     "metadata": {},
     "output_type": "execute_result"
    },
    {
     "data": {
      "image/png": "[encoded data removed]",
      "text/plain": [
       "<Figure size 640x480 with 1 Axes>"
      ]
     },
     "metadata": {},
     "output_type": "display_data"
    }
   ],
   "source": [
    "plt.scatter(real_age[\"Donor Age\"].astype(np.float64), predicted_age.astype(np.float64))\n",
    "plt.xlabel('real')\n",
    "plt.ylabel('predicted')"
   ]
  },
  {
   "cell_type": "code",
   "execution_count": null,
   "metadata": {},
   "outputs": [
    {
     "data": {
      "text/plain": [
       "<matplotlib.collections.PathCollection at 0x13853fc10>"
      ]
     },
     "execution_count": 14,
     "metadata": {},
     "output_type": "execute_result"
    },
    {
     "data": {
      "image/png": "[encoded data removed]",
      "text/plain": [
       "<Figure size 640x480 with 1 Axes>"
      ]
     },
     "metadata": {},
     "output_type": "display_data"
    }
   ],
   "source": [
    "plt.scatter(predicted_age.astype(np.float64) - real_age[\"Donor Age\"].astype(np.float64), real_age[\"Donor ID\"])"
   ]
  }
 ],
 "metadata": {
  "kernelspec": {
   "display_name": "Python 3",
   "language": "python",
   "name": "python3"
  },
  "language_info": {
   "codemirror_mode": {
    "name": "ipython",
    "version": 3
   },
   "file_extension": ".py",
   "mimetype": "text/x-python",
   "name": "python",
   "nbconvert_exporter": "python",
   "pygments_lexer": "ipython3",
   "version": "3.11.2"
  },
  "orig_nbformat": 4,
  "vscode": {
   "interpreter": {
    "hash": "aee8b7b246df8f9039afb4144a1f6fd8d2ca17a180786b69acc140d282b71a49"
   }
  }
 },
 "nbformat": 4,
 "nbformat_minor": 2
}
