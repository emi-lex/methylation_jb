{
 "cells": [
  {
   "cell_type": "code",
   "execution_count": 24,
   "metadata": {},
   "outputs": [],
   "source": [
    "import numpy as np\n",
    "import pandas as pd"
   ]
  },
  {
   "cell_type": "code",
   "execution_count": 22,
   "metadata": {},
   "outputs": [],
   "source": [
    "markers_id = []\n",
    "d = {}\n",
    "for i in range(24, 36):\n",
    "    with open(f\"./microarray_dataset/GSM9832{i}.txt\") as f:\n",
    "        data = f.readlines()\n",
    "        del data[0]\n",
    "        del data[0]\n",
    "        del data[0]\n",
    "        markers_id.append([data[j].split()[0] for j in range(len(data))])\n",
    "        d[f\"sample{i-23}\"] = [np.float64(data[j].split()[1]) if len(data[j].split()) == 2 else np.nan for j in range(len(data))]\n",
    "d[\"marker_id\"] = markers_id[0]"
   ]
  },
  {
   "cell_type": "code",
   "execution_count": 23,
   "metadata": {},
   "outputs": [
    {
     "name": "stdout",
     "output_type": "stream",
     "text": [
      "66\n"
     ]
    }
   ],
   "source": [
    "k = 0\n",
    "for i in range(len(markers_id)):\n",
    "    for j in range(i + 1, len(markers_id)):\n",
    "        if markers_id[i] != markers_id[j]:\n",
    "            print(i, j)\n",
    "        else:\n",
    "            k += 1\n",
    "print(k)"
   ]
  },
  {
   "cell_type": "code",
   "execution_count": 34,
   "metadata": {},
   "outputs": [
    {
     "name": "stdout",
     "output_type": "stream",
     "text": [
      "Number of NaNs: 8478\n",
      "Number of non-nans: 6304023\n",
      "Percent of nans: 0.1344855499416801\n"
     ]
    }
   ],
   "source": [
    "df = pd.DataFrame(d)\n",
    "cols = list(df.columns)\n",
    "cols = [cols[-1]] + cols[:-1]\n",
    "df = df[cols]\n",
    "print('Number of NaNs:', df.isna().sum().sum())\n",
    "print(\"Number of non-nans:\", np.invert(df.isna()).sum().sum())\n",
    "print('Percent of nans:', df.isna().sum().sum() * 100 / np.invert(df.isna()).sum().sum())"
   ]
  },
  {
   "cell_type": "code",
   "execution_count": null,
   "metadata": {},
   "outputs": [],
   "source": [
    "df.to_csv('./microarray_dataset/microarray_dataset.tsv', index=False, sep='\\t')"
   ]
  },
  {
   "cell_type": "code",
   "execution_count": 35,
   "metadata": {},
   "outputs": [],
   "source": [
    "markers_id = []\n",
    "d = {}\n",
    "for i in range(12, 36):\n",
    "    with open(f\"./microarray_dataset_with_cancer/GSM9832{i}.txt\") as f:\n",
    "        data = f.readlines()\n",
    "        del data[0]\n",
    "        del data[0]\n",
    "        del data[0]\n",
    "        markers_id.append([data[j].split()[0] for j in range(len(data))])\n",
    "        d[f\"sample{i-11}\"] = [np.float64(data[j].split()[1]) if len(data[j].split()) == 2 else np.nan for j in range(len(data))]\n",
    "d[\"marker_id\"] = markers_id[0]"
   ]
  },
  {
   "cell_type": "code",
   "execution_count": 36,
   "metadata": {},
   "outputs": [
    {
     "name": "stdout",
     "output_type": "stream",
     "text": [
      "276\n"
     ]
    }
   ],
   "source": [
    "k = 0\n",
    "for i in range(len(markers_id)):\n",
    "    for j in range(i + 1, len(markers_id)):\n",
    "        if markers_id[i] != markers_id[j]:\n",
    "            print(i, j)\n",
    "        else:\n",
    "            k += 1\n",
    "print(k)"
   ]
  },
  {
   "cell_type": "code",
   "execution_count": 37,
   "metadata": {},
   "outputs": [
    {
     "name": "stdout",
     "output_type": "stream",
     "text": [
      "Number of NaNs: 21469\n",
      "Number of non-nans: 12117956\n",
      "Percent of nans: 0.1771668423288548\n"
     ]
    }
   ],
   "source": [
    "df = pd.DataFrame(d)\n",
    "cols = list(df.columns)\n",
    "cols = [cols[-1]] + cols[:-1]\n",
    "df = df[cols]\n",
    "print('Number of NaNs:', df.isna().sum().sum())\n",
    "print(\"Number of non-nans:\", np.invert(df.isna()).sum().sum())\n",
    "print('Percent of nans:', df.isna().sum().sum() * 100 / np.invert(df.isna()).sum().sum())"
   ]
  },
  {
   "cell_type": "code",
   "execution_count": 38,
   "metadata": {},
   "outputs": [],
   "source": [
    "df.to_csv('./microarray_dataset_with_cancer/microarray_dataset_with_cancer.tsv', index=False, sep='\\t')"
   ]
  }
 ],
 "metadata": {
  "kernelspec": {
   "display_name": "Python 3",
   "language": "python",
   "name": "python3"
  },
  "language_info": {
   "codemirror_mode": {
    "name": "ipython",
    "version": 3
   },
   "file_extension": ".py",
   "mimetype": "text/x-python",
   "name": "python",
   "nbconvert_exporter": "python",
   "pygments_lexer": "ipython3",
   "version": "3.11.2"
  },
  "orig_nbformat": 4
 },
 "nbformat": 4,
 "nbformat_minor": 2
}
