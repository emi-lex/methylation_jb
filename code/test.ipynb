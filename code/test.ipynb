{
 "cells": [
  {
   "cell_type": "code",
   "execution_count": 15,
   "metadata": {},
   "outputs": [],
   "source": [
    "import pandas\n",
    "import imputation\n",
    "import methyLImp\n",
    "import numpy as np\n",
    "import csv\n",
    "import matplotlib.pyplot as plt"
   ]
  },
  {
   "cell_type": "code",
   "execution_count": 6,
   "metadata": {},
   "outputs": [],
   "source": [
    "data=pandas.read_csv('../data/sorted_filtered_cytosines_freq.tsv',sep='\\t')"
   ]
  },
  {
   "cell_type": "code",
   "execution_count": 7,
   "metadata": {},
   "outputs": [
    {
     "data": {
      "text/html": [
       "<div>\n",
       "<style scoped>\n",
       "    .dataframe tbody tr th:only-of-type {\n",
       "        vertical-align: middle;\n",
       "    }\n",
       "\n",
       "    .dataframe tbody tr th {\n",
       "        vertical-align: top;\n",
       "    }\n",
       "\n",
       "    .dataframe thead th {\n",
       "        text-align: right;\n",
       "    }\n",
       "</style>\n",
       "<table border=\"1\" class=\"dataframe\">\n",
       "  <thead>\n",
       "    <tr style=\"text-align: right;\">\n",
       "      <th></th>\n",
       "      <th>chrBase</th>\n",
       "      <th>OD10</th>\n",
       "      <th>OD11</th>\n",
       "      <th>OD12</th>\n",
       "      <th>OD13</th>\n",
       "      <th>OD14</th>\n",
       "      <th>OD15</th>\n",
       "      <th>OD16</th>\n",
       "      <th>OD17</th>\n",
       "      <th>OD18</th>\n",
       "      <th>...</th>\n",
       "      <th>YD20</th>\n",
       "      <th>YD21</th>\n",
       "      <th>YD2</th>\n",
       "      <th>YD3</th>\n",
       "      <th>YD4</th>\n",
       "      <th>YD5</th>\n",
       "      <th>YD6</th>\n",
       "      <th>YD7</th>\n",
       "      <th>YD8</th>\n",
       "      <th>YD9</th>\n",
       "    </tr>\n",
       "  </thead>\n",
       "  <tbody>\n",
       "    <tr>\n",
       "      <th>0</th>\n",
       "      <td>chr1.10497</td>\n",
       "      <td>71.956</td>\n",
       "      <td>93.640</td>\n",
       "      <td>94.410</td>\n",
       "      <td>92.163</td>\n",
       "      <td>86.408</td>\n",
       "      <td>92.143</td>\n",
       "      <td>91.304</td>\n",
       "      <td>69.029</td>\n",
       "      <td>76.023</td>\n",
       "      <td>...</td>\n",
       "      <td>92.88</td>\n",
       "      <td>80.769</td>\n",
       "      <td>85.714</td>\n",
       "      <td>73.761</td>\n",
       "      <td>84.277</td>\n",
       "      <td>80.408</td>\n",
       "      <td>94.667</td>\n",
       "      <td>92.623</td>\n",
       "      <td>83.992</td>\n",
       "      <td>89.620</td>\n",
       "    </tr>\n",
       "    <tr>\n",
       "      <th>1</th>\n",
       "      <td>chr1.10525</td>\n",
       "      <td>93.704</td>\n",
       "      <td>90.813</td>\n",
       "      <td>95.679</td>\n",
       "      <td>89.375</td>\n",
       "      <td>93.528</td>\n",
       "      <td>95.714</td>\n",
       "      <td>93.103</td>\n",
       "      <td>89.737</td>\n",
       "      <td>92.941</td>\n",
       "      <td>...</td>\n",
       "      <td>90.00</td>\n",
       "      <td>87.179</td>\n",
       "      <td>91.081</td>\n",
       "      <td>91.329</td>\n",
       "      <td>92.332</td>\n",
       "      <td>85.537</td>\n",
       "      <td>92.857</td>\n",
       "      <td>89.617</td>\n",
       "      <td>92.073</td>\n",
       "      <td>94.684</td>\n",
       "    </tr>\n",
       "    <tr>\n",
       "      <th>2</th>\n",
       "      <td>chr1.10542</td>\n",
       "      <td>100.000</td>\n",
       "      <td>100.000</td>\n",
       "      <td>100.000</td>\n",
       "      <td>100.000</td>\n",
       "      <td>100.000</td>\n",
       "      <td>100.000</td>\n",
       "      <td>100.000</td>\n",
       "      <td>100.000</td>\n",
       "      <td>100.000</td>\n",
       "      <td>...</td>\n",
       "      <td>100.00</td>\n",
       "      <td>100.000</td>\n",
       "      <td>100.000</td>\n",
       "      <td>100.000</td>\n",
       "      <td>100.000</td>\n",
       "      <td>100.000</td>\n",
       "      <td>99.647</td>\n",
       "      <td>99.708</td>\n",
       "      <td>99.781</td>\n",
       "      <td>100.000</td>\n",
       "    </tr>\n",
       "    <tr>\n",
       "      <th>3</th>\n",
       "      <td>chr1.10589</td>\n",
       "      <td>100.000</td>\n",
       "      <td>NaN</td>\n",
       "      <td>NaN</td>\n",
       "      <td>0.000</td>\n",
       "      <td>100.000</td>\n",
       "      <td>NaN</td>\n",
       "      <td>100.000</td>\n",
       "      <td>NaN</td>\n",
       "      <td>88.889</td>\n",
       "      <td>...</td>\n",
       "      <td>NaN</td>\n",
       "      <td>85.714</td>\n",
       "      <td>92.308</td>\n",
       "      <td>NaN</td>\n",
       "      <td>100.000</td>\n",
       "      <td>50.000</td>\n",
       "      <td>0.000</td>\n",
       "      <td>91.379</td>\n",
       "      <td>91.892</td>\n",
       "      <td>81.818</td>\n",
       "    </tr>\n",
       "    <tr>\n",
       "      <th>4</th>\n",
       "      <td>chr1.10609</td>\n",
       "      <td>95.455</td>\n",
       "      <td>NaN</td>\n",
       "      <td>NaN</td>\n",
       "      <td>0.000</td>\n",
       "      <td>100.000</td>\n",
       "      <td>NaN</td>\n",
       "      <td>63.636</td>\n",
       "      <td>NaN</td>\n",
       "      <td>88.889</td>\n",
       "      <td>...</td>\n",
       "      <td>NaN</td>\n",
       "      <td>85.714</td>\n",
       "      <td>94.737</td>\n",
       "      <td>NaN</td>\n",
       "      <td>100.000</td>\n",
       "      <td>100.000</td>\n",
       "      <td>NaN</td>\n",
       "      <td>96.296</td>\n",
       "      <td>97.222</td>\n",
       "      <td>80.000</td>\n",
       "    </tr>\n",
       "  </tbody>\n",
       "</table>\n",
       "<p>5 rows × 41 columns</p>\n",
       "</div>"
      ],
      "text/plain": [
       "      chrBase     OD10     OD11     OD12     OD13     OD14     OD15     OD16  \\\n",
       "0  chr1.10497   71.956   93.640   94.410   92.163   86.408   92.143   91.304   \n",
       "1  chr1.10525   93.704   90.813   95.679   89.375   93.528   95.714   93.103   \n",
       "2  chr1.10542  100.000  100.000  100.000  100.000  100.000  100.000  100.000   \n",
       "3  chr1.10589  100.000      NaN      NaN    0.000  100.000      NaN  100.000   \n",
       "4  chr1.10609   95.455      NaN      NaN    0.000  100.000      NaN   63.636   \n",
       "\n",
       "      OD17     OD18  ...    YD20     YD21      YD2      YD3      YD4      YD5  \\\n",
       "0   69.029   76.023  ...   92.88   80.769   85.714   73.761   84.277   80.408   \n",
       "1   89.737   92.941  ...   90.00   87.179   91.081   91.329   92.332   85.537   \n",
       "2  100.000  100.000  ...  100.00  100.000  100.000  100.000  100.000  100.000   \n",
       "3      NaN   88.889  ...     NaN   85.714   92.308      NaN  100.000   50.000   \n",
       "4      NaN   88.889  ...     NaN   85.714   94.737      NaN  100.000  100.000   \n",
       "\n",
       "      YD6     YD7     YD8      YD9  \n",
       "0  94.667  92.623  83.992   89.620  \n",
       "1  92.857  89.617  92.073   94.684  \n",
       "2  99.647  99.708  99.781  100.000  \n",
       "3   0.000  91.379  91.892   81.818  \n",
       "4     NaN  96.296  97.222   80.000  \n",
       "\n",
       "[5 rows x 41 columns]"
      ]
     },
     "execution_count": 7,
     "metadata": {},
     "output_type": "execute_result"
    }
   ],
   "source": [
    "data.head()"
   ]
  },
  {
   "cell_type": "code",
   "execution_count": 8,
   "metadata": {},
   "outputs": [
    {
     "name": "stderr",
     "output_type": "stream",
     "text": [
      "100%|██████████| 1047277/1047277 [00:37<00:00, 27616.35it/s]\n"
     ]
    }
   ],
   "source": [
    "X_imputed_1000bp = imputation.impute(data.values, head=data.columns, method=\"1000bp\")"
   ]
  },
  {
   "cell_type": "code",
   "execution_count": 4,
   "metadata": {},
   "outputs": [],
   "source": [
    "X_imputed_zeroes = imputation.impute(data.values, head=data.columns, method=\"zeroes\")\n"
   ]
  },
  {
   "cell_type": "code",
   "execution_count": 7,
   "metadata": {},
   "outputs": [],
   "source": [
    "X_imputed_missForest = imputation.impute(data.values, head=data.columns, method=\"missForest\")"
   ]
  },
  {
   "cell_type": "code",
   "execution_count": null,
   "metadata": {},
   "outputs": [],
   "source": [
    "X_imputed_methylimp = methyLImp.methyLImp(data.values[:, 1:].astype(float) / 100.0001)"
   ]
  },
  {
   "cell_type": "code",
   "execution_count": 25,
   "metadata": {},
   "outputs": [
    {
     "data": {
      "text/plain": [
       "array([0.00593068, 0.02631311, 0.01074259, 0.0071438 , 0.00813154,\n",
       "       0.00753619, 0.00815326, 0.02520823, 0.00843277, 0.00794887,\n",
       "       0.01776212, 0.00698713, 0.00731578, 0.0071495 , 0.0075604 ,\n",
       "       0.00642419, 0.00723282, 0.00831598, 0.00777582, 0.00716232,\n",
       "       0.0063398 , 0.01946912, 0.00717514, 0.0151436 , 0.00756325,\n",
       "       0.01015507, 0.00651356, 0.00713383, 0.01087042, 0.00692731,\n",
       "       0.00911714, 0.00750308, 0.00649896, 0.00922075, 0.00423009,\n",
       "       0.01021525, 0.00803326, 0.00715876, 0.00711425, 0.00729264])"
      ]
     },
     "execution_count": 25,
     "metadata": {},
     "output_type": "execute_result"
    }
   ],
   "source": [
    "raw_data = pandas.read_csv(\"../data/filtered_cytosines_freq.tsv\",sep='\\t')\n",
    "nan_counts = np.isnan(raw_data.values[:, 1:].astype(np.float64)).sum(axis=0)"
   ]
  },
  {
   "cell_type": "code",
   "execution_count": 28,
   "metadata": {},
   "outputs": [
    {
     "data": {
      "text/plain": [
       "array([0.59306777, 2.63131096, 1.07425881, 0.71438033, 0.81315374,\n",
       "       0.75361908, 0.81532576, 2.52082289, 0.84327714, 0.79488743,\n",
       "       1.77621234, 0.69871331, 0.73157844, 0.71495004, 0.75604035,\n",
       "       0.64241887, 0.72328204, 0.83159809, 0.77758249, 0.71623188,\n",
       "       0.63398005, 1.9469116 , 0.71751373, 1.51435953, 0.7563252 ,\n",
       "       1.0155075 , 0.65135619, 0.71338333, 1.08704167, 0.69273136,\n",
       "       0.91171352, 0.75030764, 0.64989631, 0.92207511, 0.42300943,\n",
       "       1.02152506, 0.80332625, 0.71587581, 0.71142496, 0.72926399])"
      ]
     },
     "execution_count": 28,
     "metadata": {},
     "output_type": "execute_result"
    }
   ],
   "source": [
    "(nan_counts * 100) / len(raw_data)"
   ]
  },
  {
   "cell_type": "code",
   "execution_count": 24,
   "metadata": {},
   "outputs": [
    {
     "data": {
      "text/plain": [
       "<BarContainer object of 40 artists>"
      ]
     },
     "execution_count": 24,
     "metadata": {},
     "output_type": "execute_result"
    },
    {
     "data": {
      "image/png": "[encoded data removed]",
      "text/plain": [
       "<Figure size 640x480 with 1 Axes>"
      ]
     },
     "metadata": {},
     "output_type": "display_data"
    }
   ],
   "source": [
    "plt.bar(range(len(nan_counts)), nan_counts)"
   ]
  },
  {
   "cell_type": "code",
   "execution_count": 26,
   "metadata": {},
   "outputs": [
    {
     "data": {
      "text/plain": [
       "<BarContainer object of 40 artists>"
      ]
     },
     "execution_count": 26,
     "metadata": {},
     "output_type": "execute_result"
    },
    {
     "data": {
      "image/png": "[encoded data removed]",
      "text/plain": [
       "<Figure size 640x480 with 1 Axes>"
      ]
     },
     "metadata": {},
     "output_type": "display_data"
    }
   ],
   "source": [
    "plt.bar(range(len(nan_counts)), nan_counts / len(raw_data))"
   ]
  }
 ],
 "metadata": {
  "kernelspec": {
   "display_name": "Python 3",
   "language": "python",
   "name": "python3"
  },
  "language_info": {
   "codemirror_mode": {
    "name": "ipython",
    "version": 3
   },
   "file_extension": ".py",
   "mimetype": "text/x-python",
   "name": "python",
   "nbconvert_exporter": "python",
   "pygments_lexer": "ipython3",
   "version": "3.11.2"
  },
  "orig_nbformat": 4,
  "vscode": {
   "interpreter": {
    "hash": "aee8b7b246df8f9039afb4144a1f6fd8d2ca17a180786b69acc140d282b71a49"
   }
  }
 },
 "nbformat": 4,
 "nbformat_minor": 2
}
