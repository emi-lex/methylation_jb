{
 "cells": [
  {
   "cell_type": "code",
   "execution_count": 1,
   "metadata": {},
   "outputs": [],
   "source": [
    "import pandas\n",
    "import imputation\n",
    "import methyLImp\n",
    "import numpy as np\n",
    "import csv"
   ]
  },
  {
   "cell_type": "code",
   "execution_count": 2,
   "metadata": {},
   "outputs": [],
   "source": [
    "data=pandas.read_csv('../data/filtered_cytosines_freq.tsv',sep='\\t')"
   ]
  },
  {
   "cell_type": "code",
   "execution_count": 3,
   "metadata": {},
   "outputs": [
    {
     "data": {
      "text/html": [
       "<div>\n",
       "<style scoped>\n",
       "    .dataframe tbody tr th:only-of-type {\n",
       "        vertical-align: middle;\n",
       "    }\n",
       "\n",
       "    .dataframe tbody tr th {\n",
       "        vertical-align: top;\n",
       "    }\n",
       "\n",
       "    .dataframe thead th {\n",
       "        text-align: right;\n",
       "    }\n",
       "</style>\n",
       "<table border=\"1\" class=\"dataframe\">\n",
       "  <thead>\n",
       "    <tr style=\"text-align: right;\">\n",
       "      <th></th>\n",
       "      <th>chrBase</th>\n",
       "      <th>OD10</th>\n",
       "      <th>OD11</th>\n",
       "      <th>OD12</th>\n",
       "      <th>OD13</th>\n",
       "      <th>OD14</th>\n",
       "      <th>OD15</th>\n",
       "      <th>OD16</th>\n",
       "      <th>OD17</th>\n",
       "      <th>OD18</th>\n",
       "      <th>...</th>\n",
       "      <th>YD20</th>\n",
       "      <th>YD21</th>\n",
       "      <th>YD2</th>\n",
       "      <th>YD3</th>\n",
       "      <th>YD4</th>\n",
       "      <th>YD5</th>\n",
       "      <th>YD6</th>\n",
       "      <th>YD7</th>\n",
       "      <th>YD8</th>\n",
       "      <th>YD9</th>\n",
       "    </tr>\n",
       "  </thead>\n",
       "  <tbody>\n",
       "    <tr>\n",
       "      <th>0</th>\n",
       "      <td>chr1.10636</td>\n",
       "      <td>100.000</td>\n",
       "      <td>NaN</td>\n",
       "      <td>NaN</td>\n",
       "      <td>0.0</td>\n",
       "      <td>100.000</td>\n",
       "      <td>NaN</td>\n",
       "      <td>100.000</td>\n",
       "      <td>NaN</td>\n",
       "      <td>88.889</td>\n",
       "      <td>...</td>\n",
       "      <td>NaN</td>\n",
       "      <td>85.714</td>\n",
       "      <td>97.368</td>\n",
       "      <td>NaN</td>\n",
       "      <td>100.0</td>\n",
       "      <td>0.0</td>\n",
       "      <td>NaN</td>\n",
       "      <td>92.982</td>\n",
       "      <td>97.222</td>\n",
       "      <td>90.000</td>\n",
       "    </tr>\n",
       "    <tr>\n",
       "      <th>1</th>\n",
       "      <td>chr1.10617</td>\n",
       "      <td>88.000</td>\n",
       "      <td>NaN</td>\n",
       "      <td>NaN</td>\n",
       "      <td>0.0</td>\n",
       "      <td>100.000</td>\n",
       "      <td>NaN</td>\n",
       "      <td>100.000</td>\n",
       "      <td>NaN</td>\n",
       "      <td>88.889</td>\n",
       "      <td>...</td>\n",
       "      <td>NaN</td>\n",
       "      <td>85.714</td>\n",
       "      <td>92.308</td>\n",
       "      <td>NaN</td>\n",
       "      <td>100.0</td>\n",
       "      <td>50.0</td>\n",
       "      <td>0.0</td>\n",
       "      <td>86.792</td>\n",
       "      <td>100.000</td>\n",
       "      <td>60.000</td>\n",
       "    </tr>\n",
       "    <tr>\n",
       "      <th>2</th>\n",
       "      <td>chr1.10638</td>\n",
       "      <td>100.000</td>\n",
       "      <td>NaN</td>\n",
       "      <td>NaN</td>\n",
       "      <td>0.0</td>\n",
       "      <td>95.652</td>\n",
       "      <td>NaN</td>\n",
       "      <td>100.000</td>\n",
       "      <td>NaN</td>\n",
       "      <td>88.889</td>\n",
       "      <td>...</td>\n",
       "      <td>NaN</td>\n",
       "      <td>85.714</td>\n",
       "      <td>97.436</td>\n",
       "      <td>NaN</td>\n",
       "      <td>100.0</td>\n",
       "      <td>0.0</td>\n",
       "      <td>NaN</td>\n",
       "      <td>96.491</td>\n",
       "      <td>100.000</td>\n",
       "      <td>81.818</td>\n",
       "    </tr>\n",
       "    <tr>\n",
       "      <th>3</th>\n",
       "      <td>chr1.10631</td>\n",
       "      <td>100.000</td>\n",
       "      <td>NaN</td>\n",
       "      <td>NaN</td>\n",
       "      <td>NaN</td>\n",
       "      <td>100.000</td>\n",
       "      <td>NaN</td>\n",
       "      <td>100.000</td>\n",
       "      <td>NaN</td>\n",
       "      <td>88.889</td>\n",
       "      <td>...</td>\n",
       "      <td>NaN</td>\n",
       "      <td>85.714</td>\n",
       "      <td>97.436</td>\n",
       "      <td>NaN</td>\n",
       "      <td>100.0</td>\n",
       "      <td>50.0</td>\n",
       "      <td>0.0</td>\n",
       "      <td>96.154</td>\n",
       "      <td>97.297</td>\n",
       "      <td>81.818</td>\n",
       "    </tr>\n",
       "    <tr>\n",
       "      <th>4</th>\n",
       "      <td>chr1.10609</td>\n",
       "      <td>95.455</td>\n",
       "      <td>NaN</td>\n",
       "      <td>NaN</td>\n",
       "      <td>0.0</td>\n",
       "      <td>100.000</td>\n",
       "      <td>NaN</td>\n",
       "      <td>63.636</td>\n",
       "      <td>NaN</td>\n",
       "      <td>88.889</td>\n",
       "      <td>...</td>\n",
       "      <td>NaN</td>\n",
       "      <td>85.714</td>\n",
       "      <td>94.737</td>\n",
       "      <td>NaN</td>\n",
       "      <td>100.0</td>\n",
       "      <td>100.0</td>\n",
       "      <td>NaN</td>\n",
       "      <td>96.296</td>\n",
       "      <td>97.222</td>\n",
       "      <td>80.000</td>\n",
       "    </tr>\n",
       "  </tbody>\n",
       "</table>\n",
       "<p>5 rows × 41 columns</p>\n",
       "</div>"
      ],
      "text/plain": [
       "      chrBase     OD10  OD11  OD12  OD13     OD14  OD15     OD16  OD17  \\\n",
       "0  chr1.10636  100.000   NaN   NaN   0.0  100.000   NaN  100.000   NaN   \n",
       "1  chr1.10617   88.000   NaN   NaN   0.0  100.000   NaN  100.000   NaN   \n",
       "2  chr1.10638  100.000   NaN   NaN   0.0   95.652   NaN  100.000   NaN   \n",
       "3  chr1.10631  100.000   NaN   NaN   NaN  100.000   NaN  100.000   NaN   \n",
       "4  chr1.10609   95.455   NaN   NaN   0.0  100.000   NaN   63.636   NaN   \n",
       "\n",
       "     OD18  ...  YD20    YD21     YD2  YD3    YD4    YD5  YD6     YD7      YD8  \\\n",
       "0  88.889  ...   NaN  85.714  97.368  NaN  100.0    0.0  NaN  92.982   97.222   \n",
       "1  88.889  ...   NaN  85.714  92.308  NaN  100.0   50.0  0.0  86.792  100.000   \n",
       "2  88.889  ...   NaN  85.714  97.436  NaN  100.0    0.0  NaN  96.491  100.000   \n",
       "3  88.889  ...   NaN  85.714  97.436  NaN  100.0   50.0  0.0  96.154   97.297   \n",
       "4  88.889  ...   NaN  85.714  94.737  NaN  100.0  100.0  NaN  96.296   97.222   \n",
       "\n",
       "      YD9  \n",
       "0  90.000  \n",
       "1  60.000  \n",
       "2  81.818  \n",
       "3  81.818  \n",
       "4  80.000  \n",
       "\n",
       "[5 rows x 41 columns]"
      ]
     },
     "execution_count": 3,
     "metadata": {},
     "output_type": "execute_result"
    }
   ],
   "source": [
    "data.head()"
   ]
  },
  {
   "cell_type": "code",
   "execution_count": 4,
   "metadata": {},
   "outputs": [],
   "source": [
    "X_imputed_zeroes = imputation.impute(data.values, head=data.columns, method=\"zeroes\")\n"
   ]
  },
  {
   "cell_type": "code",
   "execution_count": 5,
   "metadata": {},
   "outputs": [
    {
     "data": {
      "text/plain": [
       "array([0., 1., 0., 3.])"
      ]
     },
     "execution_count": 5,
     "metadata": {},
     "output_type": "execute_result"
    }
   ],
   "source": [
    "x = np.arange(4, dtype=float)\n",
    "x[2] = np.nan\n",
    "np.nan_to_num(x, nan=0)"
   ]
  },
  {
   "cell_type": "code",
   "execution_count": 6,
   "metadata": {},
   "outputs": [
    {
     "ename": "KeyboardInterrupt",
     "evalue": "",
     "output_type": "error",
     "traceback": [
      "\u001b[0;31m---------------------------------------------------------------------------\u001b[0m",
      "\u001b[0;31mKeyboardInterrupt\u001b[0m                         Traceback (most recent call last)",
      "Cell \u001b[0;32mIn[6], line 4\u001b[0m\n\u001b[1;32m      1\u001b[0m \u001b[39m# X_imputed_zeroes = imputation.impute(data.values, method=\"zeroes\")\u001b[39;00m\n\u001b[1;32m      2\u001b[0m \u001b[39m# X_imputed_1000bp = imputation.impute(data.values, method=\"1000bp\")\u001b[39;00m\n\u001b[1;32m      3\u001b[0m \u001b[39m# X_imputed_missForest = imputation.impute(data.values, method=\"missForest\")\u001b[39;00m\n\u001b[0;32m----> 4\u001b[0m X_imputed_methylimp \u001b[39m=\u001b[39m methyLImp\u001b[39m.\u001b[39mmethyLImp(data\u001b[39m.\u001b[39;49mvalues[:, \u001b[39m1\u001b[39m:]\u001b[39m.\u001b[39mastype(\u001b[39mfloat\u001b[39m) \u001b[39m/\u001b[39m \u001b[39m100.0001\u001b[39m)\n",
      "File \u001b[0;32m/usr/local/lib/python3.11/site-packages/pandas/core/frame.py:11739\u001b[0m, in \u001b[0;36mDataFrame.values\u001b[0;34m(self)\u001b[0m\n\u001b[1;32m  11666\u001b[0m \u001b[39m\u001b[39m\u001b[39m\"\"\"\u001b[39;00m\n\u001b[1;32m  11667\u001b[0m \u001b[39mReturn a Numpy representation of the DataFrame.\u001b[39;00m\n\u001b[1;32m  11668\u001b[0m \n\u001b[0;32m   (...)\u001b[0m\n\u001b[1;32m  11736\u001b[0m \u001b[39m       ['monkey', nan, None]], dtype=object)\u001b[39;00m\n\u001b[1;32m  11737\u001b[0m \u001b[39m\"\"\"\u001b[39;00m\n\u001b[1;32m  11738\u001b[0m \u001b[39mself\u001b[39m\u001b[39m.\u001b[39m_consolidate_inplace()\n\u001b[0;32m> 11739\u001b[0m \u001b[39mreturn\u001b[39;00m \u001b[39mself\u001b[39;49m\u001b[39m.\u001b[39;49m_mgr\u001b[39m.\u001b[39;49mas_array()\n",
      "File \u001b[0;32m/usr/local/lib/python3.11/site-packages/pandas/core/internals/managers.py:1770\u001b[0m, in \u001b[0;36mBlockManager.as_array\u001b[0;34m(self, dtype, copy, na_value)\u001b[0m\n\u001b[1;32m   1768\u001b[0m             arr \u001b[39m=\u001b[39m arr\u001b[39m.\u001b[39mastype(dtype, copy\u001b[39m=\u001b[39m\u001b[39mFalse\u001b[39;00m)\n\u001b[1;32m   1769\u001b[0m \u001b[39melse\u001b[39;00m:\n\u001b[0;32m-> 1770\u001b[0m     arr \u001b[39m=\u001b[39m \u001b[39mself\u001b[39;49m\u001b[39m.\u001b[39;49m_interleave(dtype\u001b[39m=\u001b[39;49mdtype, na_value\u001b[39m=\u001b[39;49mna_value)\n\u001b[1;32m   1771\u001b[0m     \u001b[39m# The underlying data was copied within _interleave\u001b[39;00m\n\u001b[1;32m   1772\u001b[0m     copy \u001b[39m=\u001b[39m \u001b[39mFalse\u001b[39;00m\n",
      "File \u001b[0;32m/usr/local/lib/python3.11/site-packages/pandas/core/internals/managers.py:1817\u001b[0m, in \u001b[0;36mBlockManager._interleave\u001b[0;34m(self, dtype, na_value)\u001b[0m\n\u001b[1;32m   1815\u001b[0m \u001b[39mfor\u001b[39;00m blk \u001b[39min\u001b[39;00m \u001b[39mself\u001b[39m\u001b[39m.\u001b[39mblocks:\n\u001b[1;32m   1816\u001b[0m     rl \u001b[39m=\u001b[39m blk\u001b[39m.\u001b[39mmgr_locs\n\u001b[0;32m-> 1817\u001b[0m     arr \u001b[39m=\u001b[39m blk\u001b[39m.\u001b[39;49mget_values(dtype)\n\u001b[1;32m   1818\u001b[0m     result[rl\u001b[39m.\u001b[39mindexer] \u001b[39m=\u001b[39m arr\n\u001b[1;32m   1819\u001b[0m     itemmask[rl\u001b[39m.\u001b[39mindexer] \u001b[39m=\u001b[39m \u001b[39m1\u001b[39m\n",
      "File \u001b[0;32m/usr/local/lib/python3.11/site-packages/pandas/core/internals/blocks.py:1914\u001b[0m, in \u001b[0;36mNumpyBlock.get_values\u001b[0;34m(self, dtype)\u001b[0m\n\u001b[1;32m   1912\u001b[0m \u001b[39mdef\u001b[39;00m \u001b[39mget_values\u001b[39m(\u001b[39mself\u001b[39m, dtype: DtypeObj \u001b[39m|\u001b[39m \u001b[39mNone\u001b[39;00m \u001b[39m=\u001b[39m \u001b[39mNone\u001b[39;00m) \u001b[39m-\u001b[39m\u001b[39m>\u001b[39m np\u001b[39m.\u001b[39mndarray:\n\u001b[1;32m   1913\u001b[0m     \u001b[39mif\u001b[39;00m dtype \u001b[39m==\u001b[39m _dtype_obj:\n\u001b[0;32m-> 1914\u001b[0m         \u001b[39mreturn\u001b[39;00m \u001b[39mself\u001b[39;49m\u001b[39m.\u001b[39;49mvalues\u001b[39m.\u001b[39;49mastype(_dtype_obj)\n\u001b[1;32m   1915\u001b[0m     \u001b[39mreturn\u001b[39;00m \u001b[39mself\u001b[39m\u001b[39m.\u001b[39mvalues\n",
      "\u001b[0;31mKeyboardInterrupt\u001b[0m: "
     ]
    }
   ],
   "source": [
    "# X_imputed_zeroes = imputation.impute(data.values, method=\"zeroes\")\n",
    "# X_imputed_1000bp = imputation.impute(data.values, method=\"1000bp\")\n",
    "# X_imputed_missForest = imputation.impute(data.values, method=\"missForest\")\n",
    "X_imputed_methylimp = methyLImp.methyLImp(data.values[:, 1:].astype(float) / 100.0001)"
   ]
  },
  {
   "cell_type": "code",
   "execution_count": null,
   "metadata": {},
   "outputs": [],
   "source": [
    "X = data.values\n",
    "sorted_X = sorted(X, key=lambda s: (s[0].split(\".\")[0], int(s[0].split(\".\")[1])))"
   ]
  },
  {
   "cell_type": "code",
   "execution_count": null,
   "metadata": {},
   "outputs": [
    {
     "data": {
      "text/plain": [
       "array([['chrBase', 'OD10', 'OD11', ..., 'YD7', 'YD8', 'YD9'],\n",
       "       ['chr1.10497', 71.956, 93.64, ..., 92.623, 83.992, 89.62],\n",
       "       ['chr1.10525', 93.704, 90.813, ..., 89.617, 92.073, 94.684],\n",
       "       ...,\n",
       "       ['chrY.59033031', 78.431, 91.827, ..., 94.737, 86.047, 85.246],\n",
       "       ['chrY.59033041', 79.167, 97.101, ..., 73.684, 85.366, 90.0],\n",
       "       ['chrY.59033064', 75.51, 77.073, ..., 75.0, 76.744, 78.689]],\n",
       "      dtype=object)"
      ]
     },
     "execution_count": 11,
     "metadata": {},
     "output_type": "execute_result"
    }
   ],
   "source": [
    "header = \"chrBase\\tOD10\\tOD11\\tOD12\\tOD13\\tOD14\\tOD15\\tOD16\\tOD17\\tOD18\\tOD19\\tOD1\\tOD20\\tOD2\\tOD3\\tOD4\\tOD5\\tOD6\\tOD7\\tOD8\\tOD9\\tYD10\\tYD11\\tYD12\\tYD14\\tYD15\\tYD16\\tYD17\\tYD18\\tYD19\\tYD1\\tYD20\\tYD21\\tYD2\\tYD3\\tYD4\\tYD5\\tYD6\\tYD7\\tYD8\\tYD9\"\n",
    "data_with_header = np.vstack([header.split('\\t'), sorted_X])"
   ]
  },
  {
   "cell_type": "code",
   "execution_count": null,
   "metadata": {},
   "outputs": [],
   "source": [
    "np.savetxt('../data/sorted_filtered_cytosines_freq.tsv', data_with_header, delimiter='\\t', fmt='%s')"
   ]
  }
 ],
 "metadata": {
  "kernelspec": {
   "display_name": "Python 3",
   "language": "python",
   "name": "python3"
  },
  "language_info": {
   "codemirror_mode": {
    "name": "ipython",
    "version": 3
   },
   "file_extension": ".py",
   "mimetype": "text/x-python",
   "name": "python",
   "nbconvert_exporter": "python",
   "pygments_lexer": "ipython3",
   "version": "3.11.2"
  },
  "orig_nbformat": 4,
  "vscode": {
   "interpreter": {
    "hash": "aee8b7b246df8f9039afb4144a1f6fd8d2ca17a180786b69acc140d282b71a49"
   }
  }
 },
 "nbformat": 4,
 "nbformat_minor": 2
}
