{
 "cells": [
  {
   "cell_type": "code",
   "execution_count": 1,
   "metadata": {},
   "outputs": [],
   "source": [
    "import utils\n",
    "import numpy as np\n",
    "import pandas as pd\n",
    "import matplotlib.pyplot as plt\n",
    "from time import time"
   ]
  },
  {
   "cell_type": "code",
   "execution_count": 2,
   "metadata": {},
   "outputs": [],
   "source": [
    "# hyperparameters\n",
    "eps_nbp1 = 300\n",
    "eps_nbp2 = 300\n",
    "eps_methyLimp = 3000"
   ]
  },
  {
   "cell_type": "code",
   "execution_count": 3,
   "metadata": {},
   "outputs": [
    {
     "data": {
      "text/html": [
       "<div>\n",
       "<style scoped>\n",
       "    .dataframe tbody tr th:only-of-type {\n",
       "        vertical-align: middle;\n",
       "    }\n",
       "\n",
       "    .dataframe tbody tr th {\n",
       "        vertical-align: top;\n",
       "    }\n",
       "\n",
       "    .dataframe thead th {\n",
       "        text-align: right;\n",
       "    }\n",
       "</style>\n",
       "<table border=\"1\" class=\"dataframe\">\n",
       "  <thead>\n",
       "    <tr style=\"text-align: right;\">\n",
       "      <th></th>\n",
       "      <th>chromosome</th>\n",
       "      <th>position</th>\n",
       "      <th>OD10</th>\n",
       "      <th>OD11</th>\n",
       "      <th>OD12</th>\n",
       "      <th>OD13</th>\n",
       "      <th>OD14</th>\n",
       "      <th>OD15</th>\n",
       "      <th>OD16</th>\n",
       "      <th>OD17</th>\n",
       "      <th>...</th>\n",
       "      <th>YD20</th>\n",
       "      <th>YD21</th>\n",
       "      <th>YD2</th>\n",
       "      <th>YD3</th>\n",
       "      <th>YD4</th>\n",
       "      <th>YD5</th>\n",
       "      <th>YD6</th>\n",
       "      <th>YD7</th>\n",
       "      <th>YD8</th>\n",
       "      <th>YD9</th>\n",
       "    </tr>\n",
       "  </thead>\n",
       "  <tbody>\n",
       "    <tr>\n",
       "      <th>0</th>\n",
       "      <td>chr1</td>\n",
       "      <td>10497</td>\n",
       "      <td>71.956</td>\n",
       "      <td>93.640</td>\n",
       "      <td>94.410</td>\n",
       "      <td>92.163</td>\n",
       "      <td>86.408</td>\n",
       "      <td>92.143</td>\n",
       "      <td>91.304</td>\n",
       "      <td>69.029</td>\n",
       "      <td>...</td>\n",
       "      <td>92.880</td>\n",
       "      <td>80.769</td>\n",
       "      <td>85.714</td>\n",
       "      <td>73.761</td>\n",
       "      <td>84.277</td>\n",
       "      <td>80.408</td>\n",
       "      <td>94.667</td>\n",
       "      <td>92.623</td>\n",
       "      <td>83.992</td>\n",
       "      <td>89.620</td>\n",
       "    </tr>\n",
       "    <tr>\n",
       "      <th>1</th>\n",
       "      <td>chr1</td>\n",
       "      <td>10525</td>\n",
       "      <td>93.704</td>\n",
       "      <td>90.813</td>\n",
       "      <td>95.679</td>\n",
       "      <td>89.375</td>\n",
       "      <td>93.528</td>\n",
       "      <td>95.714</td>\n",
       "      <td>93.103</td>\n",
       "      <td>89.737</td>\n",
       "      <td>...</td>\n",
       "      <td>90.000</td>\n",
       "      <td>87.179</td>\n",
       "      <td>91.081</td>\n",
       "      <td>91.329</td>\n",
       "      <td>92.332</td>\n",
       "      <td>85.537</td>\n",
       "      <td>92.857</td>\n",
       "      <td>89.617</td>\n",
       "      <td>92.073</td>\n",
       "      <td>94.684</td>\n",
       "    </tr>\n",
       "    <tr>\n",
       "      <th>2</th>\n",
       "      <td>chr1</td>\n",
       "      <td>10542</td>\n",
       "      <td>100.000</td>\n",
       "      <td>100.000</td>\n",
       "      <td>100.000</td>\n",
       "      <td>100.000</td>\n",
       "      <td>100.000</td>\n",
       "      <td>100.000</td>\n",
       "      <td>100.000</td>\n",
       "      <td>100.000</td>\n",
       "      <td>...</td>\n",
       "      <td>100.000</td>\n",
       "      <td>100.000</td>\n",
       "      <td>100.000</td>\n",
       "      <td>100.000</td>\n",
       "      <td>100.000</td>\n",
       "      <td>100.000</td>\n",
       "      <td>99.647</td>\n",
       "      <td>99.708</td>\n",
       "      <td>99.781</td>\n",
       "      <td>100.000</td>\n",
       "    </tr>\n",
       "    <tr>\n",
       "      <th>3</th>\n",
       "      <td>chr1</td>\n",
       "      <td>133165</td>\n",
       "      <td>98.649</td>\n",
       "      <td>100.000</td>\n",
       "      <td>100.000</td>\n",
       "      <td>97.436</td>\n",
       "      <td>78.571</td>\n",
       "      <td>93.151</td>\n",
       "      <td>100.000</td>\n",
       "      <td>67.010</td>\n",
       "      <td>...</td>\n",
       "      <td>100.000</td>\n",
       "      <td>97.059</td>\n",
       "      <td>95.385</td>\n",
       "      <td>82.927</td>\n",
       "      <td>100.000</td>\n",
       "      <td>98.630</td>\n",
       "      <td>100.000</td>\n",
       "      <td>100.000</td>\n",
       "      <td>100.000</td>\n",
       "      <td>94.828</td>\n",
       "    </tr>\n",
       "    <tr>\n",
       "      <th>4</th>\n",
       "      <td>chr1</td>\n",
       "      <td>133180</td>\n",
       "      <td>95.946</td>\n",
       "      <td>100.000</td>\n",
       "      <td>100.000</td>\n",
       "      <td>97.436</td>\n",
       "      <td>91.228</td>\n",
       "      <td>88.732</td>\n",
       "      <td>96.970</td>\n",
       "      <td>98.958</td>\n",
       "      <td>...</td>\n",
       "      <td>100.000</td>\n",
       "      <td>100.000</td>\n",
       "      <td>84.127</td>\n",
       "      <td>97.297</td>\n",
       "      <td>94.231</td>\n",
       "      <td>88.571</td>\n",
       "      <td>93.617</td>\n",
       "      <td>92.453</td>\n",
       "      <td>85.185</td>\n",
       "      <td>98.182</td>\n",
       "    </tr>\n",
       "    <tr>\n",
       "      <th>...</th>\n",
       "      <td>...</td>\n",
       "      <td>...</td>\n",
       "      <td>...</td>\n",
       "      <td>...</td>\n",
       "      <td>...</td>\n",
       "      <td>...</td>\n",
       "      <td>...</td>\n",
       "      <td>...</td>\n",
       "      <td>...</td>\n",
       "      <td>...</td>\n",
       "      <td>...</td>\n",
       "      <td>...</td>\n",
       "      <td>...</td>\n",
       "      <td>...</td>\n",
       "      <td>...</td>\n",
       "      <td>...</td>\n",
       "      <td>...</td>\n",
       "      <td>...</td>\n",
       "      <td>...</td>\n",
       "      <td>...</td>\n",
       "      <td>...</td>\n",
       "    </tr>\n",
       "    <tr>\n",
       "      <th>2482677</th>\n",
       "      <td>chrY</td>\n",
       "      <td>59021089</td>\n",
       "      <td>60.563</td>\n",
       "      <td>75.000</td>\n",
       "      <td>90.000</td>\n",
       "      <td>61.429</td>\n",
       "      <td>92.754</td>\n",
       "      <td>56.190</td>\n",
       "      <td>56.604</td>\n",
       "      <td>100.000</td>\n",
       "      <td>...</td>\n",
       "      <td>69.565</td>\n",
       "      <td>65.000</td>\n",
       "      <td>66.038</td>\n",
       "      <td>64.368</td>\n",
       "      <td>72.000</td>\n",
       "      <td>49.275</td>\n",
       "      <td>48.750</td>\n",
       "      <td>80.769</td>\n",
       "      <td>83.333</td>\n",
       "      <td>80.645</td>\n",
       "    </tr>\n",
       "    <tr>\n",
       "      <th>2482678</th>\n",
       "      <td>chrY</td>\n",
       "      <td>59026010</td>\n",
       "      <td>85.714</td>\n",
       "      <td>80.247</td>\n",
       "      <td>84.615</td>\n",
       "      <td>80.117</td>\n",
       "      <td>90.909</td>\n",
       "      <td>84.946</td>\n",
       "      <td>81.818</td>\n",
       "      <td>91.045</td>\n",
       "      <td>...</td>\n",
       "      <td>87.234</td>\n",
       "      <td>81.522</td>\n",
       "      <td>77.193</td>\n",
       "      <td>83.065</td>\n",
       "      <td>87.059</td>\n",
       "      <td>77.143</td>\n",
       "      <td>82.308</td>\n",
       "      <td>88.889</td>\n",
       "      <td>77.838</td>\n",
       "      <td>76.923</td>\n",
       "    </tr>\n",
       "    <tr>\n",
       "      <th>2482679</th>\n",
       "      <td>chrY</td>\n",
       "      <td>59033031</td>\n",
       "      <td>78.431</td>\n",
       "      <td>91.827</td>\n",
       "      <td>90.196</td>\n",
       "      <td>89.286</td>\n",
       "      <td>84.000</td>\n",
       "      <td>80.000</td>\n",
       "      <td>89.744</td>\n",
       "      <td>72.581</td>\n",
       "      <td>...</td>\n",
       "      <td>90.385</td>\n",
       "      <td>79.592</td>\n",
       "      <td>91.667</td>\n",
       "      <td>94.118</td>\n",
       "      <td>66.667</td>\n",
       "      <td>100.000</td>\n",
       "      <td>95.000</td>\n",
       "      <td>94.737</td>\n",
       "      <td>86.047</td>\n",
       "      <td>85.246</td>\n",
       "    </tr>\n",
       "    <tr>\n",
       "      <th>2482680</th>\n",
       "      <td>chrY</td>\n",
       "      <td>59033041</td>\n",
       "      <td>79.167</td>\n",
       "      <td>97.101</td>\n",
       "      <td>86.275</td>\n",
       "      <td>85.185</td>\n",
       "      <td>92.593</td>\n",
       "      <td>92.000</td>\n",
       "      <td>84.615</td>\n",
       "      <td>82.258</td>\n",
       "      <td>...</td>\n",
       "      <td>87.821</td>\n",
       "      <td>83.838</td>\n",
       "      <td>85.714</td>\n",
       "      <td>87.500</td>\n",
       "      <td>88.235</td>\n",
       "      <td>85.714</td>\n",
       "      <td>95.000</td>\n",
       "      <td>73.684</td>\n",
       "      <td>85.366</td>\n",
       "      <td>90.000</td>\n",
       "    </tr>\n",
       "    <tr>\n",
       "      <th>2482681</th>\n",
       "      <td>chrY</td>\n",
       "      <td>59033064</td>\n",
       "      <td>75.510</td>\n",
       "      <td>77.073</td>\n",
       "      <td>58.824</td>\n",
       "      <td>82.143</td>\n",
       "      <td>62.963</td>\n",
       "      <td>72.000</td>\n",
       "      <td>74.359</td>\n",
       "      <td>91.667</td>\n",
       "      <td>...</td>\n",
       "      <td>76.774</td>\n",
       "      <td>62.626</td>\n",
       "      <td>71.429</td>\n",
       "      <td>70.588</td>\n",
       "      <td>52.632</td>\n",
       "      <td>71.429</td>\n",
       "      <td>80.000</td>\n",
       "      <td>75.000</td>\n",
       "      <td>76.744</td>\n",
       "      <td>78.689</td>\n",
       "    </tr>\n",
       "  </tbody>\n",
       "</table>\n",
       "<p>2482682 rows × 42 columns</p>\n",
       "</div>"
      ],
      "text/plain": [
       "        chromosome  position     OD10     OD11     OD12     OD13     OD14  \\\n",
       "0             chr1     10497   71.956   93.640   94.410   92.163   86.408   \n",
       "1             chr1     10525   93.704   90.813   95.679   89.375   93.528   \n",
       "2             chr1     10542  100.000  100.000  100.000  100.000  100.000   \n",
       "3             chr1    133165   98.649  100.000  100.000   97.436   78.571   \n",
       "4             chr1    133180   95.946  100.000  100.000   97.436   91.228   \n",
       "...            ...       ...      ...      ...      ...      ...      ...   \n",
       "2482677       chrY  59021089   60.563   75.000   90.000   61.429   92.754   \n",
       "2482678       chrY  59026010   85.714   80.247   84.615   80.117   90.909   \n",
       "2482679       chrY  59033031   78.431   91.827   90.196   89.286   84.000   \n",
       "2482680       chrY  59033041   79.167   97.101   86.275   85.185   92.593   \n",
       "2482681       chrY  59033064   75.510   77.073   58.824   82.143   62.963   \n",
       "\n",
       "            OD15     OD16     OD17  ...     YD20     YD21      YD2      YD3  \\\n",
       "0         92.143   91.304   69.029  ...   92.880   80.769   85.714   73.761   \n",
       "1         95.714   93.103   89.737  ...   90.000   87.179   91.081   91.329   \n",
       "2        100.000  100.000  100.000  ...  100.000  100.000  100.000  100.000   \n",
       "3         93.151  100.000   67.010  ...  100.000   97.059   95.385   82.927   \n",
       "4         88.732   96.970   98.958  ...  100.000  100.000   84.127   97.297   \n",
       "...          ...      ...      ...  ...      ...      ...      ...      ...   \n",
       "2482677   56.190   56.604  100.000  ...   69.565   65.000   66.038   64.368   \n",
       "2482678   84.946   81.818   91.045  ...   87.234   81.522   77.193   83.065   \n",
       "2482679   80.000   89.744   72.581  ...   90.385   79.592   91.667   94.118   \n",
       "2482680   92.000   84.615   82.258  ...   87.821   83.838   85.714   87.500   \n",
       "2482681   72.000   74.359   91.667  ...   76.774   62.626   71.429   70.588   \n",
       "\n",
       "             YD4      YD5      YD6      YD7      YD8      YD9  \n",
       "0         84.277   80.408   94.667   92.623   83.992   89.620  \n",
       "1         92.332   85.537   92.857   89.617   92.073   94.684  \n",
       "2        100.000  100.000   99.647   99.708   99.781  100.000  \n",
       "3        100.000   98.630  100.000  100.000  100.000   94.828  \n",
       "4         94.231   88.571   93.617   92.453   85.185   98.182  \n",
       "...          ...      ...      ...      ...      ...      ...  \n",
       "2482677   72.000   49.275   48.750   80.769   83.333   80.645  \n",
       "2482678   87.059   77.143   82.308   88.889   77.838   76.923  \n",
       "2482679   66.667  100.000   95.000   94.737   86.047   85.246  \n",
       "2482680   88.235   85.714   95.000   73.684   85.366   90.000  \n",
       "2482681   52.632   71.429   80.000   75.000   76.744   78.689  \n",
       "\n",
       "[2482682 rows x 42 columns]"
      ]
     },
     "execution_count": 3,
     "metadata": {},
     "output_type": "execute_result"
    }
   ],
   "source": [
    "# reading data and dropping all rows with missing values\n",
    "data  = pd.read_csv(\"../data/filtered_cytosines_freq_preprocessed.tsv\", sep='\\t')\n",
    "mask = np.invert(np.any(np.isnan(data.values[:, 2:].astype(np.float64)), axis=1))\n",
    "data_without_nans = data[mask].reset_index(drop=True)\n",
    "data_without_nans"
   ]
  },
  {
   "cell_type": "code",
   "execution_count": 4,
   "metadata": {},
   "outputs": [],
   "source": [
    "# dropping some rows\n",
    "# these are rows for testing\n",
    "\n",
    "n, m = data_without_nans.shape\n",
    "\n",
    "row_inds = np.random.choice(np.arange(n), size=n // 1000, replace=False)\n",
    "\n",
    "data_without_rows = data_without_nans.drop(row_inds).reset_index(drop=True)"
   ]
  },
  {
   "cell_type": "code",
   "execution_count": 5,
   "metadata": {},
   "outputs": [
    {
     "data": {
      "text/html": [
       "<div>\n",
       "<style scoped>\n",
       "    .dataframe tbody tr th:only-of-type {\n",
       "        vertical-align: middle;\n",
       "    }\n",
       "\n",
       "    .dataframe tbody tr th {\n",
       "        vertical-align: top;\n",
       "    }\n",
       "\n",
       "    .dataframe thead th {\n",
       "        text-align: right;\n",
       "    }\n",
       "</style>\n",
       "<table border=\"1\" class=\"dataframe\">\n",
       "  <thead>\n",
       "    <tr style=\"text-align: right;\">\n",
       "      <th></th>\n",
       "      <th>chromosome</th>\n",
       "      <th>position</th>\n",
       "      <th>OD10</th>\n",
       "      <th>OD11</th>\n",
       "      <th>OD12</th>\n",
       "      <th>OD13</th>\n",
       "      <th>OD14</th>\n",
       "      <th>OD15</th>\n",
       "      <th>OD16</th>\n",
       "      <th>OD17</th>\n",
       "      <th>...</th>\n",
       "      <th>YD20</th>\n",
       "      <th>YD21</th>\n",
       "      <th>YD2</th>\n",
       "      <th>YD3</th>\n",
       "      <th>YD4</th>\n",
       "      <th>YD5</th>\n",
       "      <th>YD6</th>\n",
       "      <th>YD7</th>\n",
       "      <th>YD8</th>\n",
       "      <th>YD9</th>\n",
       "    </tr>\n",
       "  </thead>\n",
       "  <tbody>\n",
       "    <tr>\n",
       "      <th>0</th>\n",
       "      <td>chr1</td>\n",
       "      <td>10497</td>\n",
       "      <td>71.956</td>\n",
       "      <td>93.640</td>\n",
       "      <td>94.410</td>\n",
       "      <td>92.163</td>\n",
       "      <td>86.408</td>\n",
       "      <td>92.143</td>\n",
       "      <td>91.304</td>\n",
       "      <td>69.029</td>\n",
       "      <td>...</td>\n",
       "      <td>92.88</td>\n",
       "      <td>80.769</td>\n",
       "      <td>85.714</td>\n",
       "      <td>73.761</td>\n",
       "      <td>84.277</td>\n",
       "      <td>80.408</td>\n",
       "      <td>94.667</td>\n",
       "      <td>92.623</td>\n",
       "      <td>83.992</td>\n",
       "      <td>89.620</td>\n",
       "    </tr>\n",
       "    <tr>\n",
       "      <th>1</th>\n",
       "      <td>chr1</td>\n",
       "      <td>10525</td>\n",
       "      <td>93.704</td>\n",
       "      <td>90.813</td>\n",
       "      <td>95.679</td>\n",
       "      <td>89.375</td>\n",
       "      <td>93.528</td>\n",
       "      <td>95.714</td>\n",
       "      <td>93.103</td>\n",
       "      <td>89.737</td>\n",
       "      <td>...</td>\n",
       "      <td>90.00</td>\n",
       "      <td>87.179</td>\n",
       "      <td>91.081</td>\n",
       "      <td>91.329</td>\n",
       "      <td>92.332</td>\n",
       "      <td>85.537</td>\n",
       "      <td>92.857</td>\n",
       "      <td>89.617</td>\n",
       "      <td>92.073</td>\n",
       "      <td>94.684</td>\n",
       "    </tr>\n",
       "    <tr>\n",
       "      <th>2</th>\n",
       "      <td>chr1</td>\n",
       "      <td>10542</td>\n",
       "      <td>100.000</td>\n",
       "      <td>100.000</td>\n",
       "      <td>100.000</td>\n",
       "      <td>100.000</td>\n",
       "      <td>100.000</td>\n",
       "      <td>100.000</td>\n",
       "      <td>100.000</td>\n",
       "      <td>100.000</td>\n",
       "      <td>...</td>\n",
       "      <td>100.00</td>\n",
       "      <td>100.000</td>\n",
       "      <td>100.000</td>\n",
       "      <td>100.000</td>\n",
       "      <td>100.000</td>\n",
       "      <td>100.000</td>\n",
       "      <td>99.647</td>\n",
       "      <td>99.708</td>\n",
       "      <td>99.781</td>\n",
       "      <td>100.000</td>\n",
       "    </tr>\n",
       "    <tr>\n",
       "      <th>3</th>\n",
       "      <td>chr1</td>\n",
       "      <td>133165</td>\n",
       "      <td>98.649</td>\n",
       "      <td>100.000</td>\n",
       "      <td>NaN</td>\n",
       "      <td>97.436</td>\n",
       "      <td>78.571</td>\n",
       "      <td>93.151</td>\n",
       "      <td>100.000</td>\n",
       "      <td>67.010</td>\n",
       "      <td>...</td>\n",
       "      <td>100.00</td>\n",
       "      <td>97.059</td>\n",
       "      <td>95.385</td>\n",
       "      <td>82.927</td>\n",
       "      <td>100.000</td>\n",
       "      <td>98.630</td>\n",
       "      <td>100.000</td>\n",
       "      <td>100.000</td>\n",
       "      <td>100.000</td>\n",
       "      <td>94.828</td>\n",
       "    </tr>\n",
       "    <tr>\n",
       "      <th>4</th>\n",
       "      <td>chr1</td>\n",
       "      <td>133180</td>\n",
       "      <td>95.946</td>\n",
       "      <td>100.000</td>\n",
       "      <td>100.000</td>\n",
       "      <td>97.436</td>\n",
       "      <td>91.228</td>\n",
       "      <td>88.732</td>\n",
       "      <td>96.970</td>\n",
       "      <td>NaN</td>\n",
       "      <td>...</td>\n",
       "      <td>100.00</td>\n",
       "      <td>100.000</td>\n",
       "      <td>84.127</td>\n",
       "      <td>97.297</td>\n",
       "      <td>94.231</td>\n",
       "      <td>88.571</td>\n",
       "      <td>93.617</td>\n",
       "      <td>92.453</td>\n",
       "      <td>85.185</td>\n",
       "      <td>98.182</td>\n",
       "    </tr>\n",
       "  </tbody>\n",
       "</table>\n",
       "<p>5 rows × 42 columns</p>\n",
       "</div>"
      ],
      "text/plain": [
       "  chromosome  position     OD10     OD11     OD12     OD13     OD14     OD15  \\\n",
       "0       chr1     10497   71.956   93.640   94.410   92.163   86.408   92.143   \n",
       "1       chr1     10525   93.704   90.813   95.679   89.375   93.528   95.714   \n",
       "2       chr1     10542  100.000  100.000  100.000  100.000  100.000  100.000   \n",
       "3       chr1    133165   98.649  100.000      NaN   97.436   78.571   93.151   \n",
       "4       chr1    133180   95.946  100.000  100.000   97.436   91.228   88.732   \n",
       "\n",
       "      OD16     OD17  ...    YD20     YD21      YD2      YD3      YD4      YD5  \\\n",
       "0   91.304   69.029  ...   92.88   80.769   85.714   73.761   84.277   80.408   \n",
       "1   93.103   89.737  ...   90.00   87.179   91.081   91.329   92.332   85.537   \n",
       "2  100.000  100.000  ...  100.00  100.000  100.000  100.000  100.000  100.000   \n",
       "3  100.000   67.010  ...  100.00   97.059   95.385   82.927  100.000   98.630   \n",
       "4   96.970      NaN  ...  100.00  100.000   84.127   97.297   94.231   88.571   \n",
       "\n",
       "       YD6      YD7      YD8      YD9  \n",
       "0   94.667   92.623   83.992   89.620  \n",
       "1   92.857   89.617   92.073   94.684  \n",
       "2   99.647   99.708   99.781  100.000  \n",
       "3  100.000  100.000  100.000   94.828  \n",
       "4   93.617   92.453   85.185   98.182  \n",
       "\n",
       "[5 rows x 42 columns]"
      ]
     },
     "execution_count": 5,
     "metadata": {},
     "output_type": "execute_result"
    }
   ],
   "source": [
    "# puting 1 percent missing values in the data\n",
    "\n",
    "n, m = data_without_rows.shape\n",
    "\n",
    "nans_mask = np.random.choice([True, False], size=(n, m-2), p=[0.01, 0.99])\n",
    "nans_mask = np.concatenate((np.zeros((n, 2), dtype=bool), nans_mask), axis=1)\n",
    "data_with_nans = data_without_rows.copy()\n",
    "data_with_nans[nans_mask] = np.nan\n",
    "data_with_nans.head()"
   ]
  },
  {
   "cell_type": "code",
   "execution_count": 6,
   "metadata": {},
   "outputs": [],
   "source": [
    "# finding slices for imputation rows\n",
    "\n",
    "slices = []\n",
    "\n",
    "chromosome_coords = utils.get_chromosome_coords(data_with_nans.chromosome)\n",
    "positions = data_with_nans.position.values\n",
    "\n",
    "for row in row_inds:\n",
    "    c = data_without_nans.chromosome[row]\n",
    "    p = data_without_nans.position[row]\n",
    "    i, j = chromosome_coords[c]\n",
    "    l, r = utils.find_slice(p, eps_nbp2, positions[i:j])\n",
    "    slices.append((l + i, r + i))"
   ]
  },
  {
   "cell_type": "code",
   "execution_count": 7,
   "metadata": {},
   "outputs": [],
   "source": [
    "# rows which are going to be used for row imputation, therefore missing values in these rows have to be imputed\n",
    "rows_to_impute = np.zeros(len(data_with_nans), dtype=bool)\n",
    "for l, r in slices:\n",
    "    rows_to_impute[l:r] = True\n",
    "\n",
    "# which missing values have to be imputed\n",
    "impute_nans_mask = nans_mask & rows_to_impute[:, None]\n"
   ]
  },
  {
   "cell_type": "code",
   "execution_count": 8,
   "metadata": {},
   "outputs": [
    {
     "data": {
      "text/plain": [
       "73541"
      ]
     },
     "execution_count": 8,
     "metadata": {},
     "output_type": "execute_result"
    }
   ],
   "source": [
    "rows_to_impute.sum()"
   ]
  },
  {
   "attachments": {},
   "cell_type": "markdown",
   "metadata": {},
   "source": [
    "# First methyLimp"
   ]
  },
  {
   "cell_type": "code",
   "execution_count": 9,
   "metadata": {},
   "outputs": [
    {
     "name": "stderr",
     "output_type": "stream",
     "text": [
      "100%|██████████| 25/25 [07:11<00:00, 17.27s/it]"
     ]
    },
    {
     "name": "stdout",
     "output_type": "stream",
     "text": [
      "number of used methylations: 969600\n",
      "29326 of them imputed by methyLImp\n"
     ]
    },
    {
     "name": "stderr",
     "output_type": "stream",
     "text": [
      "\n"
     ]
    }
   ],
   "source": [
    "# imputation with methyLimp\n",
    "imputed_data_methyLimp = utils.new_methyLImp(data_with_nans, eps=eps_methyLimp, rows=rows_to_impute & np.any(nans_mask, axis=1))\n"
   ]
  },
  {
   "attachments": {},
   "cell_type": "markdown",
   "metadata": {},
   "source": [
    "# First nbp"
   ]
  },
  {
   "cell_type": "code",
   "execution_count": 10,
   "metadata": {},
   "outputs": [
    {
     "name": "stderr",
     "output_type": "stream",
     "text": [
      "  5%|▍         | 1408/29326 [00:00<00:03, 7094.57it/s]/Users/Emiliia.Lekhman/Desktop/project/tests/utils/imputation.py:131: RuntimeWarning: Mean of empty slice\n",
      "  imputed_data.loc[row, columns[col + 2]] = np.nanmean(values[left:right, col])\n",
      "100%|██████████| 29326/29326 [00:03<00:00, 7379.61it/s]\n"
     ]
    }
   ],
   "source": [
    "# imputation with methyLimp\n",
    "imputed_data_nbp = utils.impute_1000bp(data_with_nans, eps=eps_nbp1, impute_positions=impute_nans_mask[:, 2:])"
   ]
  },
  {
   "attachments": {},
   "cell_type": "markdown",
   "metadata": {},
   "source": [
    "# Row imputation"
   ]
  },
  {
   "cell_type": "code",
   "execution_count": 11,
   "metadata": {},
   "outputs": [],
   "source": [
    "def impute_rows(imputed_data):\n",
    "    rows = []\n",
    "    for i, j in slices:\n",
    "        rows.append(np.mean(imputed_data[i:j], axis=0))\n",
    "    return np.array(rows)\n",
    "\n",
    "true_row_values = data_without_nans.iloc[row_inds].values[:, 2:]"
   ]
  },
  {
   "cell_type": "code",
   "execution_count": 12,
   "metadata": {},
   "outputs": [
    {
     "name": "stdout",
     "output_type": "stream",
     "text": [
      "rmse\n",
      "13.263409631069205\n",
      "\n",
      "mae\n",
      "6.179893889931834\n"
     ]
    }
   ],
   "source": [
    "# impute rows with first step methyLimp imputation\n",
    "diffs = true_row_values - impute_rows(imputed_data_methyLimp)\n",
    "print(\"rmse\")\n",
    "print(np.mean(diffs ** 2) ** 0.5)\n",
    "print(\"\\nmae\")\n",
    "print(np.mean(np.abs(diffs)))"
   ]
  },
  {
   "cell_type": "code",
   "execution_count": 13,
   "metadata": {},
   "outputs": [
    {
     "name": "stdout",
     "output_type": "stream",
     "text": [
      "rmse\n",
      "13.41580096607904\n",
      "\n",
      "mae\n",
      "6.225346096976917\n"
     ]
    }
   ],
   "source": [
    "# impute rows with first step nbp imputation\n",
    "diffs = true_row_values - impute_rows(imputed_data_nbp.values[:, 2:].astype(np.float64))\n",
    "print(\"rmse\")\n",
    "print(np.mean(diffs ** 2) ** 0.5)\n",
    "print(\"\\nmae\")\n",
    "print(np.mean(np.abs(diffs)))"
   ]
  },
  {
   "attachments": {},
   "cell_type": "markdown",
   "metadata": {},
   "source": [
    "# Different missing values percent"
   ]
  },
  {
   "cell_type": "code",
   "execution_count": 14,
   "metadata": {},
   "outputs": [
    {
     "name": "stdout",
     "output_type": "stream",
     "text": [
      "missing values percent: 0.01\n"
     ]
    },
    {
     "name": "stderr",
     "output_type": "stream",
     "text": [
      "100%|██████████| 25/25 [07:27<00:00, 17.88s/it]\n"
     ]
    },
    {
     "name": "stdout",
     "output_type": "stream",
     "text": [
      "number of used methylations: 971480\n",
      "29429 of them imputed by methyLImp\n"
     ]
    },
    {
     "name": "stderr",
     "output_type": "stream",
     "text": [
      "100%|██████████| 29326/29326 [00:04<00:00, 6959.05it/s]\n"
     ]
    },
    {
     "name": "stdout",
     "output_type": "stream",
     "text": [
      "missing values percent: 0.03111111111111111\n"
     ]
    },
    {
     "name": "stderr",
     "output_type": "stream",
     "text": [
      "100%|██████████| 25/25 [09:23<00:00, 22.55s/it]\n"
     ]
    },
    {
     "name": "stdout",
     "output_type": "stream",
     "text": [
      "number of used methylations: 2112480\n",
      "91649 of them imputed by methyLImp\n"
     ]
    },
    {
     "name": "stderr",
     "output_type": "stream",
     "text": [
      "100%|██████████| 29326/29326 [00:04<00:00, 7029.28it/s]\n"
     ]
    },
    {
     "name": "stdout",
     "output_type": "stream",
     "text": [
      "missing values percent: 0.052222222222222225\n"
     ]
    },
    {
     "name": "stderr",
     "output_type": "stream",
     "text": [
      "100%|██████████| 25/25 [07:41<00:00, 18.47s/it]\n"
     ]
    },
    {
     "name": "stdout",
     "output_type": "stream",
     "text": [
      "number of used methylations: 2597560\n",
      "153680 of them imputed by methyLImp\n"
     ]
    },
    {
     "name": "stderr",
     "output_type": "stream",
     "text": [
      "100%|██████████| 29326/29326 [00:04<00:00, 7042.49it/s]\n"
     ]
    },
    {
     "name": "stdout",
     "output_type": "stream",
     "text": [
      "missing values percent: 0.07333333333333333\n"
     ]
    },
    {
     "name": "stderr",
     "output_type": "stream",
     "text": [
      "100%|██████████| 25/25 [05:52<00:00, 14.12s/it]\n"
     ]
    },
    {
     "name": "stdout",
     "output_type": "stream",
     "text": [
      "number of used methylations: 2801320\n",
      "215066 of them imputed by methyLImp\n"
     ]
    },
    {
     "name": "stderr",
     "output_type": "stream",
     "text": [
      "100%|██████████| 29326/29326 [00:04<00:00, 7008.07it/s]\n"
     ]
    },
    {
     "name": "stdout",
     "output_type": "stream",
     "text": [
      "missing values percent: 0.09444444444444444\n"
     ]
    },
    {
     "name": "stderr",
     "output_type": "stream",
     "text": [
      "100%|██████████| 25/25 [04:04<00:00,  9.78s/it]\n"
     ]
    },
    {
     "name": "stdout",
     "output_type": "stream",
     "text": [
      "number of used methylations: 2886280\n",
      "277964 of them imputed by methyLImp\n"
     ]
    },
    {
     "name": "stderr",
     "output_type": "stream",
     "text": [
      "100%|██████████| 29326/29326 [00:04<00:00, 7188.59it/s]\n"
     ]
    },
    {
     "name": "stdout",
     "output_type": "stream",
     "text": [
      "missing values percent: 0.11555555555555555\n"
     ]
    },
    {
     "name": "stderr",
     "output_type": "stream",
     "text": [
      "100%|██████████| 25/25 [04:01<00:00,  9.64s/it]\n"
     ]
    },
    {
     "name": "stdout",
     "output_type": "stream",
     "text": [
      "number of used methylations: 2920160\n",
      "340157 of them imputed by methyLImp\n"
     ]
    },
    {
     "name": "stderr",
     "output_type": "stream",
     "text": [
      "100%|██████████| 29326/29326 [00:04<00:00, 6946.93it/s]\n"
     ]
    },
    {
     "name": "stdout",
     "output_type": "stream",
     "text": [
      "missing values percent: 0.1366666666666667\n"
     ]
    },
    {
     "name": "stderr",
     "output_type": "stream",
     "text": [
      "100%|██████████| 25/25 [03:47<00:00,  9.10s/it]\n"
     ]
    },
    {
     "name": "stdout",
     "output_type": "stream",
     "text": [
      "number of used methylations: 2933000\n",
      "401487 of them imputed by methyLImp\n"
     ]
    },
    {
     "name": "stderr",
     "output_type": "stream",
     "text": [
      "100%|██████████| 29326/29326 [00:04<00:00, 7020.08it/s]\n"
     ]
    },
    {
     "name": "stdout",
     "output_type": "stream",
     "text": [
      "missing values percent: 0.1577777777777778\n"
     ]
    },
    {
     "name": "stderr",
     "output_type": "stream",
     "text": [
      "100%|██████████| 25/25 [03:21<00:00,  8.07s/it]\n"
     ]
    },
    {
     "name": "stdout",
     "output_type": "stream",
     "text": [
      "number of used methylations: 2938320\n",
      "463454 of them imputed by methyLImp\n"
     ]
    },
    {
     "name": "stderr",
     "output_type": "stream",
     "text": [
      "100%|██████████| 29326/29326 [00:04<00:00, 7130.28it/s]\n"
     ]
    },
    {
     "name": "stdout",
     "output_type": "stream",
     "text": [
      "missing values percent: 0.1788888888888889\n"
     ]
    },
    {
     "name": "stderr",
     "output_type": "stream",
     "text": [
      "100%|██████████| 25/25 [03:23<00:00,  8.13s/it]\n"
     ]
    },
    {
     "name": "stdout",
     "output_type": "stream",
     "text": [
      "number of used methylations: 2940080\n",
      "526155 of them imputed by methyLImp\n"
     ]
    },
    {
     "name": "stderr",
     "output_type": "stream",
     "text": [
      "100%|██████████| 29326/29326 [00:04<00:00, 7133.58it/s]\n"
     ]
    },
    {
     "name": "stdout",
     "output_type": "stream",
     "text": [
      "missing values percent: 0.2\n"
     ]
    },
    {
     "name": "stderr",
     "output_type": "stream",
     "text": [
      "100%|██████████| 25/25 [03:13<00:00,  7.74s/it]\n"
     ]
    },
    {
     "name": "stdout",
     "output_type": "stream",
     "text": [
      "number of used methylations: 2941360\n",
      "589585 of them imputed by methyLImp\n"
     ]
    },
    {
     "name": "stderr",
     "output_type": "stream",
     "text": [
      "100%|██████████| 29326/29326 [00:04<00:00, 7088.61it/s]\n"
     ]
    }
   ],
   "source": [
    "rmse_methyLimp_lst = []\n",
    "mae_methyLimp_lst = []\n",
    "\n",
    "rmse_nbp_lst = []\n",
    "mae_nbp_lst = []\n",
    "\n",
    "for p in np.linspace(0.01, 0.2, 10):\n",
    "    print(f\"missing values percent: {p}\")\n",
    "    \n",
    "    nans_mask = np.random.choice([True, False], size=(n, m-2), p=[p, 1 - p])\n",
    "    nans_mask = np.concatenate((np.zeros((n, 2), dtype=bool), nans_mask), axis=1)\n",
    "    data_with_nans = data_without_rows.copy()\n",
    "    data_with_nans[nans_mask] = np.nan\n",
    "    data_with_nans.head()\n",
    "\n",
    "    imputed_data_methyLimp = utils.new_methyLImp(data_with_nans, eps=eps_methyLimp, rows=rows_to_impute & np.any(nans_mask, axis=1))\n",
    "    \n",
    "    diffs_methyLimp = true_row_values - impute_rows(imputed_data_methyLimp)\n",
    "    rmse_methyLimp_lst.append(np.mean(diffs_methyLimp ** 2) ** 0.5)\n",
    "    mae_methyLimp_lst.append(np.mean(np.abs(diffs_methyLimp)))\n",
    "    \n",
    "\n",
    "    imputed_data_nbp = utils.impute_1000bp(data_with_nans, eps=eps_nbp1, impute_positions=impute_nans_mask[:, 2:])\n",
    "\n",
    "    diffs_nbp = true_row_values - impute_rows(imputed_data_nbp.values[:, 2:].astype(np.float64))\n",
    "    rmse_nbp_lst.append(np.mean(diffs_nbp ** 2) ** 0.5)\n",
    "    mae_nbp_lst.append(np.mean(np.abs(diffs_nbp)))"
   ]
  },
  {
   "cell_type": "code",
   "execution_count": 15,
   "metadata": {},
   "outputs": [
    {
     "data": {
      "image/png": "[encoded data removed]",
      "text/plain": [
       "<Figure size 640x480 with 1 Axes>"
      ]
     },
     "metadata": {},
     "output_type": "display_data"
    }
   ],
   "source": [
    "plt.scatter(np.linspace(0.01, 0.2, 10), rmse_methyLimp_lst, s=1, label=\"methyLimp\")\n",
    "plt.scatter(np.linspace(0.01, 0.2, 10), rmse_nbp_lst, s=1, label=\"nbp\")\n",
    "plt.xlabel(\"p\")\n",
    "plt.ylabel(\"rmse\")\n",
    "plt.legend()\n",
    "plt.show()"
   ]
  },
  {
   "cell_type": "code",
   "execution_count": 16,
   "metadata": {},
   "outputs": [
    {
     "data": {
      "image/png": "[encoded data removed]",
      "text/plain": [
       "<Figure size 640x480 with 1 Axes>"
      ]
     },
     "metadata": {},
     "output_type": "display_data"
    }
   ],
   "source": [
    "plt.scatter(np.linspace(0.01, 0.2, 10), mae_methyLimp_lst, s=1, label=\"methyLimp\")\n",
    "plt.scatter(np.linspace(0.01, 0.2, 10), mae_nbp_lst, s=1, label=\"nbp\")\n",
    "plt.xlabel(\"p\")\n",
    "plt.ylabel(\"mae\")\n",
    "plt.legend()\n",
    "plt.show()"
   ]
  },
  {
   "cell_type": "code",
   "execution_count": null,
   "metadata": {},
   "outputs": [],
   "source": []
  }
 ],
 "metadata": {
  "kernelspec": {
   "display_name": "Python 3",
   "language": "python",
   "name": "python3"
  },
  "language_info": {
   "codemirror_mode": {
    "name": "ipython",
    "version": 3
   },
   "file_extension": ".py",
   "mimetype": "text/x-python",
   "name": "python",
   "nbconvert_exporter": "python",
   "pygments_lexer": "ipython3",
   "version": "3.11.2"
  },
  "orig_nbformat": 4
 },
 "nbformat": 4,
 "nbformat_minor": 2
}
