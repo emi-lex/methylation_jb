{
 "cells": [
  {
   "cell_type": "code",
   "execution_count": 30,
   "metadata": {},
   "outputs": [],
   "source": [
    "import pandas as pd\n",
    "import utils\n",
    "import numpy as np\n",
    "import matplotlib.pyplot as plt"
   ]
  },
  {
   "cell_type": "code",
   "execution_count": 2,
   "metadata": {},
   "outputs": [],
   "source": [
    "eps_methyLImp = 3000\n",
    "eps_nbp1 = eps_nbp2 = 300"
   ]
  },
  {
   "cell_type": "code",
   "execution_count": 3,
   "metadata": {},
   "outputs": [
    {
     "data": {
      "text/html": [
       "<div>\n",
       "<style scoped>\n",
       "    .dataframe tbody tr th:only-of-type {\n",
       "        vertical-align: middle;\n",
       "    }\n",
       "\n",
       "    .dataframe tbody tr th {\n",
       "        vertical-align: top;\n",
       "    }\n",
       "\n",
       "    .dataframe thead th {\n",
       "        text-align: right;\n",
       "    }\n",
       "</style>\n",
       "<table border=\"1\" class=\"dataframe\">\n",
       "  <thead>\n",
       "    <tr style=\"text-align: right;\">\n",
       "      <th></th>\n",
       "      <th>chromosome</th>\n",
       "      <th>position</th>\n",
       "      <th>OD10</th>\n",
       "      <th>OD11</th>\n",
       "      <th>OD12</th>\n",
       "      <th>OD13</th>\n",
       "      <th>OD14</th>\n",
       "      <th>OD15</th>\n",
       "      <th>OD16</th>\n",
       "      <th>OD17</th>\n",
       "      <th>...</th>\n",
       "      <th>YD20</th>\n",
       "      <th>YD21</th>\n",
       "      <th>YD2</th>\n",
       "      <th>YD3</th>\n",
       "      <th>YD4</th>\n",
       "      <th>YD5</th>\n",
       "      <th>YD6</th>\n",
       "      <th>YD7</th>\n",
       "      <th>YD8</th>\n",
       "      <th>YD9</th>\n",
       "    </tr>\n",
       "  </thead>\n",
       "  <tbody>\n",
       "    <tr>\n",
       "      <th>0</th>\n",
       "      <td>chr1</td>\n",
       "      <td>10497</td>\n",
       "      <td>71.956</td>\n",
       "      <td>93.640</td>\n",
       "      <td>94.410</td>\n",
       "      <td>92.163</td>\n",
       "      <td>86.408</td>\n",
       "      <td>92.143</td>\n",
       "      <td>91.304</td>\n",
       "      <td>69.029</td>\n",
       "      <td>...</td>\n",
       "      <td>92.880</td>\n",
       "      <td>80.769</td>\n",
       "      <td>85.714</td>\n",
       "      <td>73.761</td>\n",
       "      <td>84.277</td>\n",
       "      <td>80.408</td>\n",
       "      <td>94.667</td>\n",
       "      <td>92.623</td>\n",
       "      <td>83.992</td>\n",
       "      <td>89.620</td>\n",
       "    </tr>\n",
       "    <tr>\n",
       "      <th>1</th>\n",
       "      <td>chr1</td>\n",
       "      <td>10525</td>\n",
       "      <td>93.704</td>\n",
       "      <td>90.813</td>\n",
       "      <td>95.679</td>\n",
       "      <td>89.375</td>\n",
       "      <td>93.528</td>\n",
       "      <td>95.714</td>\n",
       "      <td>93.103</td>\n",
       "      <td>89.737</td>\n",
       "      <td>...</td>\n",
       "      <td>90.000</td>\n",
       "      <td>87.179</td>\n",
       "      <td>91.081</td>\n",
       "      <td>91.329</td>\n",
       "      <td>92.332</td>\n",
       "      <td>85.537</td>\n",
       "      <td>92.857</td>\n",
       "      <td>89.617</td>\n",
       "      <td>92.073</td>\n",
       "      <td>94.684</td>\n",
       "    </tr>\n",
       "    <tr>\n",
       "      <th>2</th>\n",
       "      <td>chr1</td>\n",
       "      <td>10542</td>\n",
       "      <td>100.000</td>\n",
       "      <td>100.000</td>\n",
       "      <td>100.000</td>\n",
       "      <td>100.000</td>\n",
       "      <td>100.000</td>\n",
       "      <td>100.000</td>\n",
       "      <td>100.000</td>\n",
       "      <td>100.000</td>\n",
       "      <td>...</td>\n",
       "      <td>100.000</td>\n",
       "      <td>100.000</td>\n",
       "      <td>100.000</td>\n",
       "      <td>100.000</td>\n",
       "      <td>100.000</td>\n",
       "      <td>100.000</td>\n",
       "      <td>99.647</td>\n",
       "      <td>99.708</td>\n",
       "      <td>99.781</td>\n",
       "      <td>100.000</td>\n",
       "    </tr>\n",
       "    <tr>\n",
       "      <th>3</th>\n",
       "      <td>chr1</td>\n",
       "      <td>10589</td>\n",
       "      <td>100.000</td>\n",
       "      <td>NaN</td>\n",
       "      <td>NaN</td>\n",
       "      <td>0.000</td>\n",
       "      <td>100.000</td>\n",
       "      <td>NaN</td>\n",
       "      <td>100.000</td>\n",
       "      <td>NaN</td>\n",
       "      <td>...</td>\n",
       "      <td>NaN</td>\n",
       "      <td>85.714</td>\n",
       "      <td>92.308</td>\n",
       "      <td>NaN</td>\n",
       "      <td>100.000</td>\n",
       "      <td>50.000</td>\n",
       "      <td>0.000</td>\n",
       "      <td>91.379</td>\n",
       "      <td>91.892</td>\n",
       "      <td>81.818</td>\n",
       "    </tr>\n",
       "    <tr>\n",
       "      <th>4</th>\n",
       "      <td>chr1</td>\n",
       "      <td>10609</td>\n",
       "      <td>95.455</td>\n",
       "      <td>NaN</td>\n",
       "      <td>NaN</td>\n",
       "      <td>0.000</td>\n",
       "      <td>100.000</td>\n",
       "      <td>NaN</td>\n",
       "      <td>63.636</td>\n",
       "      <td>NaN</td>\n",
       "      <td>...</td>\n",
       "      <td>NaN</td>\n",
       "      <td>85.714</td>\n",
       "      <td>94.737</td>\n",
       "      <td>NaN</td>\n",
       "      <td>100.000</td>\n",
       "      <td>100.000</td>\n",
       "      <td>NaN</td>\n",
       "      <td>96.296</td>\n",
       "      <td>97.222</td>\n",
       "      <td>80.000</td>\n",
       "    </tr>\n",
       "    <tr>\n",
       "      <th>...</th>\n",
       "      <td>...</td>\n",
       "      <td>...</td>\n",
       "      <td>...</td>\n",
       "      <td>...</td>\n",
       "      <td>...</td>\n",
       "      <td>...</td>\n",
       "      <td>...</td>\n",
       "      <td>...</td>\n",
       "      <td>...</td>\n",
       "      <td>...</td>\n",
       "      <td>...</td>\n",
       "      <td>...</td>\n",
       "      <td>...</td>\n",
       "      <td>...</td>\n",
       "      <td>...</td>\n",
       "      <td>...</td>\n",
       "      <td>...</td>\n",
       "      <td>...</td>\n",
       "      <td>...</td>\n",
       "      <td>...</td>\n",
       "      <td>...</td>\n",
       "    </tr>\n",
       "    <tr>\n",
       "      <th>2808443</th>\n",
       "      <td>chrY</td>\n",
       "      <td>59021089</td>\n",
       "      <td>60.563</td>\n",
       "      <td>75.000</td>\n",
       "      <td>90.000</td>\n",
       "      <td>61.429</td>\n",
       "      <td>92.754</td>\n",
       "      <td>56.190</td>\n",
       "      <td>56.604</td>\n",
       "      <td>100.000</td>\n",
       "      <td>...</td>\n",
       "      <td>69.565</td>\n",
       "      <td>65.000</td>\n",
       "      <td>66.038</td>\n",
       "      <td>64.368</td>\n",
       "      <td>72.000</td>\n",
       "      <td>49.275</td>\n",
       "      <td>48.750</td>\n",
       "      <td>80.769</td>\n",
       "      <td>83.333</td>\n",
       "      <td>80.645</td>\n",
       "    </tr>\n",
       "    <tr>\n",
       "      <th>2808444</th>\n",
       "      <td>chrY</td>\n",
       "      <td>59026010</td>\n",
       "      <td>85.714</td>\n",
       "      <td>80.247</td>\n",
       "      <td>84.615</td>\n",
       "      <td>80.117</td>\n",
       "      <td>90.909</td>\n",
       "      <td>84.946</td>\n",
       "      <td>81.818</td>\n",
       "      <td>91.045</td>\n",
       "      <td>...</td>\n",
       "      <td>87.234</td>\n",
       "      <td>81.522</td>\n",
       "      <td>77.193</td>\n",
       "      <td>83.065</td>\n",
       "      <td>87.059</td>\n",
       "      <td>77.143</td>\n",
       "      <td>82.308</td>\n",
       "      <td>88.889</td>\n",
       "      <td>77.838</td>\n",
       "      <td>76.923</td>\n",
       "    </tr>\n",
       "    <tr>\n",
       "      <th>2808445</th>\n",
       "      <td>chrY</td>\n",
       "      <td>59033031</td>\n",
       "      <td>78.431</td>\n",
       "      <td>91.827</td>\n",
       "      <td>90.196</td>\n",
       "      <td>89.286</td>\n",
       "      <td>84.000</td>\n",
       "      <td>80.000</td>\n",
       "      <td>89.744</td>\n",
       "      <td>72.581</td>\n",
       "      <td>...</td>\n",
       "      <td>90.385</td>\n",
       "      <td>79.592</td>\n",
       "      <td>91.667</td>\n",
       "      <td>94.118</td>\n",
       "      <td>66.667</td>\n",
       "      <td>100.000</td>\n",
       "      <td>95.000</td>\n",
       "      <td>94.737</td>\n",
       "      <td>86.047</td>\n",
       "      <td>85.246</td>\n",
       "    </tr>\n",
       "    <tr>\n",
       "      <th>2808446</th>\n",
       "      <td>chrY</td>\n",
       "      <td>59033041</td>\n",
       "      <td>79.167</td>\n",
       "      <td>97.101</td>\n",
       "      <td>86.275</td>\n",
       "      <td>85.185</td>\n",
       "      <td>92.593</td>\n",
       "      <td>92.000</td>\n",
       "      <td>84.615</td>\n",
       "      <td>82.258</td>\n",
       "      <td>...</td>\n",
       "      <td>87.821</td>\n",
       "      <td>83.838</td>\n",
       "      <td>85.714</td>\n",
       "      <td>87.500</td>\n",
       "      <td>88.235</td>\n",
       "      <td>85.714</td>\n",
       "      <td>95.000</td>\n",
       "      <td>73.684</td>\n",
       "      <td>85.366</td>\n",
       "      <td>90.000</td>\n",
       "    </tr>\n",
       "    <tr>\n",
       "      <th>2808447</th>\n",
       "      <td>chrY</td>\n",
       "      <td>59033064</td>\n",
       "      <td>75.510</td>\n",
       "      <td>77.073</td>\n",
       "      <td>58.824</td>\n",
       "      <td>82.143</td>\n",
       "      <td>62.963</td>\n",
       "      <td>72.000</td>\n",
       "      <td>74.359</td>\n",
       "      <td>91.667</td>\n",
       "      <td>...</td>\n",
       "      <td>76.774</td>\n",
       "      <td>62.626</td>\n",
       "      <td>71.429</td>\n",
       "      <td>70.588</td>\n",
       "      <td>52.632</td>\n",
       "      <td>71.429</td>\n",
       "      <td>80.000</td>\n",
       "      <td>75.000</td>\n",
       "      <td>76.744</td>\n",
       "      <td>78.689</td>\n",
       "    </tr>\n",
       "  </tbody>\n",
       "</table>\n",
       "<p>2808448 rows × 42 columns</p>\n",
       "</div>"
      ],
      "text/plain": [
       "        chromosome  position     OD10     OD11     OD12     OD13     OD14  \\\n",
       "0             chr1     10497   71.956   93.640   94.410   92.163   86.408   \n",
       "1             chr1     10525   93.704   90.813   95.679   89.375   93.528   \n",
       "2             chr1     10542  100.000  100.000  100.000  100.000  100.000   \n",
       "3             chr1     10589  100.000      NaN      NaN    0.000  100.000   \n",
       "4             chr1     10609   95.455      NaN      NaN    0.000  100.000   \n",
       "...            ...       ...      ...      ...      ...      ...      ...   \n",
       "2808443       chrY  59021089   60.563   75.000   90.000   61.429   92.754   \n",
       "2808444       chrY  59026010   85.714   80.247   84.615   80.117   90.909   \n",
       "2808445       chrY  59033031   78.431   91.827   90.196   89.286   84.000   \n",
       "2808446       chrY  59033041   79.167   97.101   86.275   85.185   92.593   \n",
       "2808447       chrY  59033064   75.510   77.073   58.824   82.143   62.963   \n",
       "\n",
       "            OD15     OD16     OD17  ...     YD20     YD21      YD2      YD3  \\\n",
       "0         92.143   91.304   69.029  ...   92.880   80.769   85.714   73.761   \n",
       "1         95.714   93.103   89.737  ...   90.000   87.179   91.081   91.329   \n",
       "2        100.000  100.000  100.000  ...  100.000  100.000  100.000  100.000   \n",
       "3            NaN  100.000      NaN  ...      NaN   85.714   92.308      NaN   \n",
       "4            NaN   63.636      NaN  ...      NaN   85.714   94.737      NaN   \n",
       "...          ...      ...      ...  ...      ...      ...      ...      ...   \n",
       "2808443   56.190   56.604  100.000  ...   69.565   65.000   66.038   64.368   \n",
       "2808444   84.946   81.818   91.045  ...   87.234   81.522   77.193   83.065   \n",
       "2808445   80.000   89.744   72.581  ...   90.385   79.592   91.667   94.118   \n",
       "2808446   92.000   84.615   82.258  ...   87.821   83.838   85.714   87.500   \n",
       "2808447   72.000   74.359   91.667  ...   76.774   62.626   71.429   70.588   \n",
       "\n",
       "             YD4      YD5     YD6     YD7     YD8      YD9  \n",
       "0         84.277   80.408  94.667  92.623  83.992   89.620  \n",
       "1         92.332   85.537  92.857  89.617  92.073   94.684  \n",
       "2        100.000  100.000  99.647  99.708  99.781  100.000  \n",
       "3        100.000   50.000   0.000  91.379  91.892   81.818  \n",
       "4        100.000  100.000     NaN  96.296  97.222   80.000  \n",
       "...          ...      ...     ...     ...     ...      ...  \n",
       "2808443   72.000   49.275  48.750  80.769  83.333   80.645  \n",
       "2808444   87.059   77.143  82.308  88.889  77.838   76.923  \n",
       "2808445   66.667  100.000  95.000  94.737  86.047   85.246  \n",
       "2808446   88.235   85.714  95.000  73.684  85.366   90.000  \n",
       "2808447   52.632   71.429  80.000  75.000  76.744   78.689  \n",
       "\n",
       "[2808448 rows x 42 columns]"
      ]
     },
     "execution_count": 3,
     "metadata": {},
     "output_type": "execute_result"
    }
   ],
   "source": [
    "data  = pd.read_csv(\"../data/filtered_cytosines_freq_preprocessed.tsv\", sep='\\t')\n",
    "data"
   ]
  },
  {
   "cell_type": "code",
   "execution_count": 4,
   "metadata": {},
   "outputs": [],
   "source": [
    "map_data = pd.read_csv(\"../data/hm27.hg19.manifest_preprocessed.bed\", sep='\\t')\n",
    "get_chr, get_pos = utils.get_marker_to_chr_and_pos(map_data)\n",
    "\n",
    "horvath_data = pd.read_csv(\"../data/gb-2013-14-10-r115-S3_preprocessed.csv\", sep='\\t')\n",
    "horvath_chr = horvath_data['marker'].apply(get_chr)\n",
    "horvath_pos = horvath_data['marker'].apply(get_pos)"
   ]
  },
  {
   "cell_type": "code",
   "execution_count": 12,
   "metadata": {},
   "outputs": [],
   "source": [
    "slices = []\n",
    "\n",
    "chromosome_coords = utils.get_chromosome_coords(data.chromosome)\n",
    "positions = data.position.values\n",
    "\n",
    "for c, p in zip(horvath_chr, horvath_pos):\n",
    "    i, j = chromosome_coords[c]\n",
    "    ind = np.searchsorted(positions[i:j], p)\n",
    "    if p <= positions[i + ind] <= p + 1 :\n",
    "        slices.append((ind + i, ind + i + 1))\n",
    "    else:\n",
    "        l, r = utils.find_slice(p, eps_nbp2, positions[i:j])\n",
    "        slices.append((l + i, r + i))\n",
    "\n",
    "rows_to_impute = np.zeros(len(data), dtype=bool)\n",
    "for l, r in slices:\n",
    "    rows_to_impute[l:r] = True"
   ]
  },
  {
   "cell_type": "code",
   "execution_count": 13,
   "metadata": {},
   "outputs": [
    {
     "name": "stderr",
     "output_type": "stream",
     "text": [
      "100%|██████████| 25/25 [00:10<00:00,  2.34it/s]\n"
     ]
    }
   ],
   "source": [
    "imputed_methyLImp = utils.methyLImp(data, rows_to_impute, eps_methyLImp)"
   ]
  },
  {
   "cell_type": "code",
   "execution_count": 17,
   "metadata": {},
   "outputs": [
    {
     "name": "stderr",
     "output_type": "stream",
     "text": [
      "  0%|          | 0/1057 [00:00<?, ?it/s]/Users/Emiliia.Lekhman/Desktop/project/tests/utils/imputation.py:105: RuntimeWarning: Mean of empty slice\n",
      "  imputed_data.loc[row, columns[col + 2]] = np.nanmean(values[left:right, col])\n",
      "100%|██████████| 1057/1057 [00:00<00:00, 7088.48it/s]\n"
     ]
    }
   ],
   "source": [
    "imputed_nbp = utils.impute_nbp(data, eps_nbp1, rows_to_impute[:, None] & np.isnan(data.values[:, 2:].astype(np.float64)))"
   ]
  },
  {
   "cell_type": "code",
   "execution_count": 19,
   "metadata": {},
   "outputs": [],
   "source": [
    "imputed_nbp = imputed_nbp.values[:, 2:]"
   ]
  },
  {
   "cell_type": "code",
   "execution_count": 20,
   "metadata": {},
   "outputs": [],
   "source": [
    "def impute_rows(imputed_data):\n",
    "    rows = []\n",
    "    for i, j in slices:\n",
    "        rows.append(np.mean(imputed_data[i:j], axis=0))\n",
    "    return np.array(rows)"
   ]
  },
  {
   "cell_type": "code",
   "execution_count": 21,
   "metadata": {},
   "outputs": [],
   "source": [
    "horvath_features_methyLImp_nbp = impute_rows(imputed_methyLImp)"
   ]
  },
  {
   "cell_type": "code",
   "execution_count": 22,
   "metadata": {},
   "outputs": [],
   "source": [
    "horvath_features_nbp_nbp = impute_rows(imputed_nbp)"
   ]
  },
  {
   "cell_type": "code",
   "execution_count": 37,
   "metadata": {},
   "outputs": [],
   "source": [
    "predicted_age_methyLImp_nbp = utils.apply_horvath(horvath_features_methyLImp_nbp.T / 100, horvath_data.coefs.values)"
   ]
  },
  {
   "cell_type": "code",
   "execution_count": 38,
   "metadata": {},
   "outputs": [],
   "source": [
    "predicted_age_nbp_nbp = utils.apply_horvath(horvath_features_nbp_nbp.T / 100, horvath_data.coefs.values)"
   ]
  },
  {
   "cell_type": "code",
   "execution_count": 39,
   "metadata": {},
   "outputs": [
    {
     "data": {
      "text/plain": [
       "Text(0, 0.5, 'predicted age')"
      ]
     },
     "execution_count": 39,
     "metadata": {},
     "output_type": "execute_result"
    },
    {
     "data": {
      "image/png": "[encoded data removed]",
      "text/plain": [
       "<Figure size 640x480 with 1 Axes>"
      ]
     },
     "metadata": {},
     "output_type": "display_data"
    }
   ],
   "source": [
    "real_age_data = pd.read_csv('../data/RRBS.phase1_yo_datasets.Monocyte.tsv', sep='\\t')\n",
    "real_age_data = real_age_data.sort_values('Donor ID')\n",
    "real_age = real_age_data['Donor Age']\n",
    "plt.scatter(real_age, predicted_age_methyLImp_nbp)\n",
    "plt.xlabel(\"real age\")\n",
    "plt.ylabel(\"predicted age\")"
   ]
  },
  {
   "cell_type": "code",
   "execution_count": 40,
   "metadata": {},
   "outputs": [
    {
     "data": {
      "text/plain": [
       "Text(0, 0.5, 'predicted age')"
      ]
     },
     "execution_count": 40,
     "metadata": {},
     "output_type": "execute_result"
    },
    {
     "data": {
      "image/png": "[encoded data removed]",
      "text/plain": [
       "<Figure size 640x480 with 1 Axes>"
      ]
     },
     "metadata": {},
     "output_type": "display_data"
    }
   ],
   "source": [
    "real_age_data = pd.read_csv('../data/RRBS.phase1_yo_datasets.Monocyte.tsv', sep='\\t')\n",
    "real_age_data = real_age_data.sort_values('Donor ID')\n",
    "real_age = real_age_data['Donor Age']\n",
    "plt.scatter(real_age, predicted_age_nbp_nbp)\n",
    "plt.xlabel(\"real age\")\n",
    "plt.ylabel(\"predicted age\")"
   ]
  },
  {
   "cell_type": "code",
   "execution_count": 45,
   "metadata": {},
   "outputs": [
    {
     "data": {
      "text/plain": [
       "<matplotlib.legend.Legend at 0x2223efb90>"
      ]
     },
     "execution_count": 45,
     "metadata": {},
     "output_type": "execute_result"
    },
    {
     "data": {
      "image/png": "[encoded data removed]",
      "text/plain": [
       "<Figure size 640x480 with 1 Axes>"
      ]
     },
     "metadata": {},
     "output_type": "display_data"
    }
   ],
   "source": [
    "def label(index):\n",
    "    return 0 if index[0] == \"Y\" else 1\n",
    "labels = real_age_data[\"Donor ID\"].apply(label)\n",
    "errors = predicted_age_methyLImp_nbp - real_age\n",
    "plt.hist(errors[labels.astype(bool)], ec=\"k\", label=\"Old donors\")\n",
    "plt.hist(errors[np.invert(labels.astype(bool))], ec=\"k\", label=\"Young donors\")\n",
    "plt.xlabel(\"error in years\")  \n",
    "plt.ylabel(\"number of samples\")\n",
    "plt.title(\"methyLImp + nbp\")\n",
    "plt.legend()"
   ]
  },
  {
   "cell_type": "code",
   "execution_count": 44,
   "metadata": {},
   "outputs": [
    {
     "data": {
      "text/plain": [
       "<matplotlib.legend.Legend at 0x22221fa50>"
      ]
     },
     "execution_count": 44,
     "metadata": {},
     "output_type": "execute_result"
    },
    {
     "data": {
      "image/png": "[encoded data removed]",
      "text/plain": [
       "<Figure size 640x480 with 1 Axes>"
      ]
     },
     "metadata": {},
     "output_type": "display_data"
    }
   ],
   "source": [
    "def label(index):\n",
    "    return 0 if index[0] == \"Y\" else 1\n",
    "labels = real_age_data[\"Donor ID\"].apply(label)\n",
    "errors = predicted_age_nbp_nbp - real_age\n",
    "plt.hist(errors[labels.astype(bool)], ec=\"k\", label=\"Old donors\")\n",
    "plt.hist(errors[np.invert(labels.astype(bool))], ec=\"k\", label=\"Young donors\")\n",
    "plt.xlabel(\"error in years\")  \n",
    "plt.ylabel(\"number of samples\")\n",
    "plt.title(\"nbp + nbp\")\n",
    "plt.legend()"
   ]
  },
  {
   "cell_type": "code",
   "execution_count": null,
   "metadata": {},
   "outputs": [],
   "source": []
  }
 ],
 "metadata": {
  "kernelspec": {
   "display_name": "Python 3",
   "language": "python",
   "name": "python3"
  },
  "language_info": {
   "codemirror_mode": {
    "name": "ipython",
    "version": 3
   },
   "file_extension": ".py",
   "mimetype": "text/x-python",
   "name": "python",
   "nbconvert_exporter": "python",
   "pygments_lexer": "ipython3",
   "version": "3.11.2"
  },
  "orig_nbformat": 4
 },
 "nbformat": 4,
 "nbformat_minor": 2
}
